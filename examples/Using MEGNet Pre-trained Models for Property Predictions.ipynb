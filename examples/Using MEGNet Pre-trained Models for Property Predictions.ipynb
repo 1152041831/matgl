{
 "cells": [
  {
   "cell_type": "markdown",
   "id": "fae317ce",
   "metadata": {},
   "source": [
    "# Introduction\n",
    "\n",
    "This notebook demonstrates the use of pre-trained MEGNet models to predict properties.\n",
    "\n",
    "Author: Tsz Wai Ko (Kenko)\n",
    "Email: t1ko@ucsd.edu"
   ]
  },
  {
   "cell_type": "code",
   "execution_count": null,
   "id": "d6c60ab5",
   "metadata": {},
   "outputs": [],
   "source": [
    "import torch\n",
    "import dgl\n",
    "import os\n",
    "from pymatgen.core import Element, Structure, Lattice\n",
    "\n",
    "## Import megnet related modules\n",
    "from matgl.graph.converters import get_element_list, Pmg2Graph\n",
    "from matgl.graph.compute import compute_pair_vector_and_distance\n",
    "from matgl.models.megnet import MEGNet, MEGNetCalculator\n"
   ]
  },
  {
   "cell_type": "code",
   "execution_count": null,
   "id": "d2ff4e5d",
   "metadata": {},
   "outputs": [],
   "source": [
    "# Let's set the device first. Either \"cuda\" or \"cpu\"\n",
    "device = torch.device(\"cpu\")"
   ]
  },
  {
   "cell_type": "markdown",
   "id": "f4f09d6c",
   "metadata": {},
   "source": [
    "# MP Formation energy \n",
    "\n",
    "The pre-trained model is traned on the Materaisl Project mp.2018.6.1.json dataset."
   ]
  },
  {
   "cell_type": "code",
   "execution_count": null,
   "id": "ce4e9336",
   "metadata": {},
   "outputs": [],
   "source": [
    "# load the pre-trained MEGNet model. By default it is the formation energy model.\n",
    "model = MEGNet.load()\n",
    "# map the model to CPU or GPU\n",
    "model = model.to(device)\n",
    "# This is the structure obtained from the Materials Project.\n",
    "struct = Structure.from_spacegroup(\"Fm-3m\", Lattice.cubic(3.57743067), [\"Cu\"], [[0, 0, 0]])\n",
    "# define MEGNet calculator\n",
    "predictor = MEGNetCalculator(model=model, device=device)\n",
    "Eform_pred = predictor(struct)\n",
    "print(\"The predicted formation energy for a FCC Cu crystal is\", float(Eform_pred.detach().numpy()), \"eV/atom\")\n"
   ]
  },
  {
   "cell_type": "markdown",
   "id": "90e95671",
   "metadata": {},
   "source": [
    "# MP Band gap\n",
    "\n",
    "The pre-trained model is traned on the Materails Project mp.2019.4.1.json dataset."
   ]
  },
  {
   "cell_type": "code",
   "execution_count": null,
   "id": "f2ec796f",
   "metadata": {},
   "outputs": [],
   "source": [
    "model = MEGNet.load(\"MP-2019.4.1-BandGap\")\n",
    "# map the model to CPU or GPU\n",
    "model = model.to(device)\n",
    "# read structure\n",
    "struct = Structure.from_spacegroup(\"Pm-3m\", Lattice.cubic(4.14), [\"Cs\", \"Cl\"], [[0, 0, 0], [0.5, 0.5, 0.5]])\n",
    "# define graph label (\"0\": PBE, \"1\": GLLB-SC, \"2\": HSE, \"3\": SCAN) for multi-fidelity model\n",
    "graph_attrs = torch.tensor([0])\n",
    "# define MEGNet calculator\n",
    "predictor = MEGNetCalculator(model=model, device=device)\n",
    "BandGap = predictor(struct, graph_attrs)\n",
    "print(\"The predicted PBE BandGap for a CsCl crystal is \", float(BandGap.detach().numpy()), \"eV\")"
   ]
  },
  {
   "cell_type": "code",
   "execution_count": null,
   "id": "c2ab55ab",
   "metadata": {},
   "outputs": [],
   "source": []
  }
 ],
 "metadata": {
  "kernelspec": {
   "display_name": "Python 3 (ipykernel)",
   "language": "python",
   "name": "python3"
  },
  "language_info": {
   "codemirror_mode": {
    "name": "ipython",
    "version": 3
   },
   "file_extension": ".py",
   "mimetype": "text/x-python",
   "name": "python",
   "nbconvert_exporter": "python",
   "pygments_lexer": "ipython3",
   "version": "3.10.9"
  }
 },
 "nbformat": 4,
 "nbformat_minor": 5
}
