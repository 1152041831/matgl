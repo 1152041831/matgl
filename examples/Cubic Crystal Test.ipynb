{
 "cells": [
  {
   "cell_type": "markdown",
   "id": "f162d338",
   "metadata": {},
   "source": [
    "# Introduction\n",
    "\n",
    "This notebook is written to demonstrate the use of M3GNet as a structure relaxer as well as to provide more comprehensive benchmarks for cubic crystals based on exp data on Wikipedia and MP DFT data. This benchmark is limited to cubic crystals for ease of comparison since there is only one lattice parameter. \n",
    "\n",
    "If you are running this notebook from Google Colab, uncomment the next code box to install matgl first."
   ]
  },
  {
   "cell_type": "code",
   "execution_count": null,
   "id": "cb157b1e",
   "metadata": {},
   "outputs": [],
   "source": [
    "# !pip install matgl"
   ]
  },
  {
   "cell_type": "code",
   "execution_count": null,
   "id": "ddfff8e3",
   "metadata": {},
   "outputs": [],
   "source": [
    "from __future__ import annotations\n",
    "\n",
    "import traceback\n",
    "import warnings\n",
    "\n",
    "import numpy as np\n",
    "import pandas as pd\n",
    "from pymatgen.core import Composition, Lattice, Structure\n",
    "from pymatgen.ext.matproj import MPRester\n",
    "from pymatgen.symmetry.analyzer import SpacegroupAnalyzer\n",
    "from tqdm import tqdm\n",
    "\n",
    "from matgl.apps.pes import Potential\n",
    "from matgl.ext.ase import Relaxer\n",
    "from matgl.models import M3GNet\n",
    "\n",
    "for category in (UserWarning, DeprecationWarning):\n",
    "    warnings.filterwarnings(\"ignore\", category=category, module=\"pytorch\")\n",
    "    warnings.filterwarnings(\"ignore\", category=category, module=\"pymatgen\")"
   ]
  },
  {
   "cell_type": "markdown",
   "id": "ee4ec4a6",
   "metadata": {},
   "source": [
    "The next cell just compiles data from Wikipedia. "
   ]
  },
  {
   "cell_type": "code",
   "execution_count": null,
   "id": "8476d506",
   "metadata": {},
   "outputs": [
    {
     "name": "stdout",
     "output_type": "stream",
     "text": [
      "             Crystal structure     a (Å)\n",
      "Material                                \n",
      "C (diamond)      Diamond (FCC)  3.567000\n",
      "Si               Diamond (FCC)  5.431021\n",
      "Ge               Diamond (FCC)  5.658000\n",
      "AlAs         Zinc blende (FCC)  5.660500\n",
      "AlP          Zinc blende (FCC)  5.451000\n",
      "...                        ...       ...\n",
      "Cs                         BCC  6.050000\n",
      "K                          BCC  5.230000\n",
      "Ba                         BCC  5.020000\n",
      "Eu                         BCC  4.610000\n",
      "Cr                         BCC  2.880000\n",
      "\n",
      "[89 rows x 2 columns]\n"
     ]
    }
   ],
   "source": [
    "data = pd.read_html(\"http://en.wikipedia.org/wiki/Lattice_constant\")[0]\n",
    "data = data[\n",
    "    ~data[\"Crystal structure\"].isin(\n",
    "        [\"Hexagonal\", \"Wurtzite\", \"Wurtzite (HCP)\", \"Orthorhombic\", \"Tetragonal perovskite\", \"Orthorhombic perovskite\"]\n",
    "    )\n",
    "]\n",
    "data = data.rename(columns={\"Lattice constant (Å)\": \"a (Å)\"})\n",
    "data = data.drop(columns=[\"Ref.\"])\n",
    "data[\"a (Å)\"] = data[\"a (Å)\"].map(float)\n",
    "data = data[[\"Material\", \"Crystal structure\", \"a (Å)\"]]\n",
    "\n",
    "\n",
    "additional_fcc = \"\"\"10 Ne 4.43 54 Xe 6.20\n",
    "13 Al 4.05 58 Ce 5.16\n",
    "18 Ar 5.26 70 Yb 5.49\n",
    "20 Ca 5.58 77 Ir 3.84\n",
    "28 Ni 3.52 78 Pt 3.92\n",
    "29 Cu 3.61 79 Au 4.08\n",
    "36 Kr 5.72 82 Pb 4.95\n",
    "38 Sr 6.08 47 Ag 4.09\n",
    "45 Rh 3.80 89 Ac 5.31\n",
    "46 Pd 3.89 90 Th 5.08\"\"\"\n",
    "\n",
    "additional_bcc = \"\"\"3 Li 3.49 42 Mo 3.15\n",
    "11 Na 4.23 55 Cs 6.05\n",
    "19 K 5.23 56 Ba 5.02\n",
    "23 V 3.02 63 Eu 4.61\n",
    "24 Cr 2.88 73 Ta 3.31\n",
    "26 Fe 2.87 74 W 3.16\n",
    "37 Rb 5.59 41 Nb 3.30\"\"\"\n",
    "\n",
    "\n",
    "def add_new(str_, structure_type, df):\n",
    "    tokens = str_.split()\n",
    "    new_crystals = []\n",
    "    for i in range(int(len(tokens) / 3)):\n",
    "        el = tokens[3 * i + 1].strip()\n",
    "        if el not in df[\"Material\"].to_numpy():\n",
    "            new_crystals.append([tokens[3 * i + 1], structure_type, float(tokens[3 * i + 2])])\n",
    "    df2 = pd.DataFrame(new_crystals, columns=data.columns)\n",
    "    return pd.concat([df, df2])\n",
    "\n",
    "\n",
    "data = add_new(additional_fcc, \"FCC\", data)\n",
    "data = add_new(additional_bcc, \"BCC\", data)\n",
    "data = data[data[\"Material\"] != \"NC0.99\"]\n",
    "data = data[data[\"Material\"] != \"Xe\"]\n",
    "data = data[data[\"Material\"] != \"Kr\"]\n",
    "data = data[data[\"Material\"] != \"Rb\"]\n",
    "data = data.set_index(\"Material\")\n",
    "print(data)"
   ]
  },
  {
   "cell_type": "markdown",
   "id": "039a4128",
   "metadata": {},
   "source": [
    "In the next cell, we generate an initial structure for all the phases. The cubic constant is set to an arbitrary value of 5 angstroms for all structures. It does not matter too much what you set it to, but it cannot be too large or it will result in isolated atoms due to the cutoffs used in m3gnet to determine bonds. We then call the Relaxer, which is the M3GNet universal IAP pre-trained on the Materials Project."
   ]
  },
  {
   "cell_type": "code",
   "execution_count": null,
   "id": "2541aebf",
   "metadata": {},
   "outputs": [
    {
     "name": "stderr",
     "output_type": "stream",
     "text": [
      "/Users/shyue/miniconda3/envs/mavrl/lib/python3.9/site-packages/mp_api/client/mprester.py:182: UserWarning: mpcontribs-client not installed. Install the package to query MPContribs data, or construct pourbaix diagrams: 'pip install mpcontribs-client'\n",
      "  warnings.warn(\n",
      "  0%|                                                                                                 | 0/89 [00:00<?, ?it/s]/Users/shyue/miniconda3/envs/mavrl/lib/python3.9/site-packages/dgl/backend/pytorch/tensor.py:52: UserWarning: Creating a tensor from a list of numpy.ndarrays is extremely slow. Please consider converting the list to a single numpy.ndarray with numpy.array() before converting to a tensor. (Triggered internally at /Users/runner/work/pytorch/pytorch/pytorch/torch/csrc/utils/tensor_new.cpp:248.)\n",
      "  return th.as_tensor(data, dtype=dtype)\n",
      "/Users/shyue/miniconda3/envs/mavrl/lib/python3.9/site-packages/torch/functional.py:504: UserWarning: torch.meshgrid: in an upcoming release, it will be required to pass the indexing argument. (Triggered internally at /Users/runner/work/pytorch/pytorch/pytorch/aten/src/ATen/native/TensorShape.cpp:3484.)\n",
      "  return _VF.meshgrid(tensors, **kwargs)  # type: ignore[attr-defined]\n",
      "/Users/shyue/repos/matgl/matgl/utils/maths.py:261: UserWarning: To copy construct from a tensor, it is recommended to use sourceTensor.clone().detach() or sourceTensor.clone().detach().requires_grad_(True), rather than torch.tensor(sourceTensor).\n",
      "  costheta = torch.tensor(costheta, dtype=torch.complex64)\n",
      "/Users/shyue/repos/matgl/matgl/utils/maths.py:262: UserWarning: To copy construct from a tensor, it is recommended to use sourceTensor.clone().detach() or sourceTensor.clone().detach().requires_grad_(True), rather than torch.tensor(sourceTensor).\n",
      "  phi = torch.tensor(phi, dtype=torch.complex64)\n",
      "/Users/shyue/repos/matgl/matgl/utils/maths.py:264: UserWarning: Casting complex values to real discards the imaginary part (Triggered internally at /Users/runner/work/pytorch/pytorch/pytorch/aten/src/ATen/native/Copy.cpp:276.)\n",
      "  results = results.type(dtype=DataType.torch_float)\n",
      "/Users/shyue/miniconda3/envs/mavrl/lib/python3.9/site-packages/dgl/backend/pytorch/tensor.py:449: UserWarning: TypedStorage is deprecated. It will be removed in the future and UntypedStorage will be the only storage class. This should only matter to you if you are using storages directly.  To access UntypedStorage directly, use tensor.untyped_storage() instead of tensor.storage()\n",
      "  assert input.numel() == input.storage().size(), (\n"
     ]
    },
    {
     "data": {
      "application/vnd.jupyter.widget-view+json": {
       "model_id": "dd6a03880bd740a98d4f01075a43d2e0",
       "version_major": 2,
       "version_minor": 0
      },
      "text/plain": [
       "Retrieving MaterialsDoc documents:   0%|          | 0/62 [00:00<?, ?it/s]"
      ]
     },
     "metadata": {},
     "output_type": "display_data"
    },
    {
     "data": {
      "application/vnd.jupyter.widget-view+json": {
       "model_id": "7e43901c4d184839b785132883c780bd",
       "version_major": 2,
       "version_minor": 0
      },
      "text/plain": [
       "Retrieving MaterialsDoc documents:   0%|          | 0/1 [00:00<?, ?it/s]"
      ]
     },
     "metadata": {},
     "output_type": "display_data"
    },
    {
     "data": {
      "application/vnd.jupyter.widget-view+json": {
       "model_id": "1727af5421f84cb89fcaca5595942446",
       "version_major": 2,
       "version_minor": 0
      },
      "text/plain": [
       "Retrieving MaterialsDoc documents:   0%|          | 0/1 [00:00<?, ?it/s]"
      ]
     },
     "metadata": {},
     "output_type": "display_data"
    },
    {
     "data": {
      "application/vnd.jupyter.widget-view+json": {
       "model_id": "724454a4ea4e46a18f1e756ffe7436e5",
       "version_major": 2,
       "version_minor": 0
      },
      "text/plain": [
       "Retrieving MaterialsDoc documents:   0%|          | 0/1 [00:00<?, ?it/s]"
      ]
     },
     "metadata": {},
     "output_type": "display_data"
    },
    {
     "data": {
      "application/vnd.jupyter.widget-view+json": {
       "model_id": "4ee6224427d04b6ca54ef6e95844a43c",
       "version_major": 2,
       "version_minor": 0
      },
      "text/plain": [
       "Retrieving MaterialsDoc documents:   0%|          | 0/1 [00:00<?, ?it/s]"
      ]
     },
     "metadata": {},
     "output_type": "display_data"
    },
    {
     "name": "stderr",
     "output_type": "stream",
     "text": [
      "\r",
      "  1%|█                                                                                        | 1/89 [00:03<04:24,  3.01s/it]"
     ]
    },
    {
     "data": {
      "application/vnd.jupyter.widget-view+json": {
       "model_id": "9fb67b03fdf546bb8054f75545ec8a0b",
       "version_major": 2,
       "version_minor": 0
      },
      "text/plain": [
       "Retrieving MaterialsDoc documents:   0%|          | 0/42 [00:00<?, ?it/s]"
      ]
     },
     "metadata": {},
     "output_type": "display_data"
    },
    {
     "data": {
      "application/vnd.jupyter.widget-view+json": {
       "model_id": "919a6cc82eef44fa8783b88b56a7dd7c",
       "version_major": 2,
       "version_minor": 0
      },
      "text/plain": [
       "Retrieving MaterialsDoc documents:   0%|          | 0/1 [00:00<?, ?it/s]"
      ]
     },
     "metadata": {},
     "output_type": "display_data"
    },
    {
     "data": {
      "application/vnd.jupyter.widget-view+json": {
       "model_id": "cf06fcab040441f4887c0fc5ff8b1849",
       "version_major": 2,
       "version_minor": 0
      },
      "text/plain": [
       "Retrieving MaterialsDoc documents:   0%|          | 0/1 [00:00<?, ?it/s]"
      ]
     },
     "metadata": {},
     "output_type": "display_data"
    },
    {
     "data": {
      "application/vnd.jupyter.widget-view+json": {
       "model_id": "22c3b74bdd6e46858e6036882adff7ea",
       "version_major": 2,
       "version_minor": 0
      },
      "text/plain": [
       "Retrieving MaterialsDoc documents:   0%|          | 0/1 [00:00<?, ?it/s]"
      ]
     },
     "metadata": {},
     "output_type": "display_data"
    },
    {
     "data": {
      "application/vnd.jupyter.widget-view+json": {
       "model_id": "2f4fd18a0f6246328a1e0f609f3d3a18",
       "version_major": 2,
       "version_minor": 0
      },
      "text/plain": [
       "Retrieving MaterialsDoc documents:   0%|          | 0/1 [00:00<?, ?it/s]"
      ]
     },
     "metadata": {},
     "output_type": "display_data"
    },
    {
     "data": {
      "application/vnd.jupyter.widget-view+json": {
       "model_id": "8de05c46616b4b66a366ea0218de9076",
       "version_major": 2,
       "version_minor": 0
      },
      "text/plain": [
       "Retrieving MaterialsDoc documents:   0%|          | 0/1 [00:00<?, ?it/s]"
      ]
     },
     "metadata": {},
     "output_type": "display_data"
    },
    {
     "name": "stderr",
     "output_type": "stream",
     "text": [
      "\r",
      "  2%|██                                                                                       | 2/89 [00:05<03:42,  2.55s/it]"
     ]
    },
    {
     "data": {
      "application/vnd.jupyter.widget-view+json": {
       "model_id": "c4beb38d16354208a7872e9b9701a14a",
       "version_major": 2,
       "version_minor": 0
      },
      "text/plain": [
       "Retrieving MaterialsDoc documents:   0%|          | 0/17 [00:00<?, ?it/s]"
      ]
     },
     "metadata": {},
     "output_type": "display_data"
    },
    {
     "data": {
      "application/vnd.jupyter.widget-view+json": {
       "model_id": "b9681f1f24d0463aa89c63b3662f7f61",
       "version_major": 2,
       "version_minor": 0
      },
      "text/plain": [
       "Retrieving MaterialsDoc documents:   0%|          | 0/1 [00:00<?, ?it/s]"
      ]
     },
     "metadata": {},
     "output_type": "display_data"
    },
    {
     "name": "stderr",
     "output_type": "stream",
     "text": [
      "\r",
      "  3%|███                                                                                      | 3/89 [00:07<03:25,  2.39s/it]"
     ]
    },
    {
     "data": {
      "application/vnd.jupyter.widget-view+json": {
       "model_id": "a2aa99340eb549329052fb49294e388b",
       "version_major": 2,
       "version_minor": 0
      },
      "text/plain": [
       "Retrieving MaterialsDoc documents:   0%|          | 0/6 [00:00<?, ?it/s]"
      ]
     },
     "metadata": {},
     "output_type": "display_data"
    },
    {
     "data": {
      "application/vnd.jupyter.widget-view+json": {
       "model_id": "b18bbfc90fb2406899d09747f70baab7",
       "version_major": 2,
       "version_minor": 0
      },
      "text/plain": [
       "Retrieving MaterialsDoc documents:   0%|          | 0/1 [00:00<?, ?it/s]"
      ]
     },
     "metadata": {},
     "output_type": "display_data"
    },
    {
     "name": "stderr",
     "output_type": "stream",
     "text": [
      "\r",
      "  4%|████                                                                                     | 4/89 [00:12<04:45,  3.36s/it]"
     ]
    },
    {
     "data": {
      "application/vnd.jupyter.widget-view+json": {
       "model_id": "243b48cf3c5d4b6c948e116cfb5a8d56",
       "version_major": 2,
       "version_minor": 0
      },
      "text/plain": [
       "Retrieving MaterialsDoc documents:   0%|          | 0/3 [00:00<?, ?it/s]"
      ]
     },
     "metadata": {},
     "output_type": "display_data"
    },
    {
     "data": {
      "application/vnd.jupyter.widget-view+json": {
       "model_id": "3763d870dc0f4c66a77986ea986e9657",
       "version_major": 2,
       "version_minor": 0
      },
      "text/plain": [
       "Retrieving MaterialsDoc documents:   0%|          | 0/1 [00:00<?, ?it/s]"
      ]
     },
     "metadata": {},
     "output_type": "display_data"
    },
    {
     "name": "stderr",
     "output_type": "stream",
     "text": [
      "\r",
      "  6%|█████                                                                                    | 5/89 [00:14<04:04,  2.92s/it]"
     ]
    },
    {
     "data": {
      "application/vnd.jupyter.widget-view+json": {
       "model_id": "a6dbdd99b95d4aa3a46484c4a523a9ff",
       "version_major": 2,
       "version_minor": 0
      },
      "text/plain": [
       "Retrieving MaterialsDoc documents:   0%|          | 0/5 [00:00<?, ?it/s]"
      ]
     },
     "metadata": {},
     "output_type": "display_data"
    },
    {
     "data": {
      "application/vnd.jupyter.widget-view+json": {
       "model_id": "d98a7d2b2cac4c71b405d81fb791a7a6",
       "version_major": 2,
       "version_minor": 0
      },
      "text/plain": [
       "Retrieving MaterialsDoc documents:   0%|          | 0/1 [00:00<?, ?it/s]"
      ]
     },
     "metadata": {},
     "output_type": "display_data"
    },
    {
     "name": "stderr",
     "output_type": "stream",
     "text": [
      "\r",
      "  7%|██████                                                                                   | 6/89 [00:16<03:26,  2.49s/it]"
     ]
    },
    {
     "data": {
      "application/vnd.jupyter.widget-view+json": {
       "model_id": "c3911cd83711448191f9d5621c3f63f2",
       "version_major": 2,
       "version_minor": 0
      },
      "text/plain": [
       "Retrieving MaterialsDoc documents:   0%|          | 0/6 [00:00<?, ?it/s]"
      ]
     },
     "metadata": {},
     "output_type": "display_data"
    },
    {
     "data": {
      "application/vnd.jupyter.widget-view+json": {
       "model_id": "94a6e8abafca4d30b7482a8c4036eba8",
       "version_major": 2,
       "version_minor": 0
      },
      "text/plain": [
       "Retrieving MaterialsDoc documents:   0%|          | 0/1 [00:00<?, ?it/s]"
      ]
     },
     "metadata": {},
     "output_type": "display_data"
    },
    {
     "name": "stderr",
     "output_type": "stream",
     "text": [
      "\r",
      "  8%|███████                                                                                  | 7/89 [00:18<03:17,  2.41s/it]"
     ]
    },
    {
     "data": {
      "application/vnd.jupyter.widget-view+json": {
       "model_id": "5d7daa4a100b488c938ab4039f888532",
       "version_major": 2,
       "version_minor": 0
      },
      "text/plain": [
       "Retrieving MaterialsDoc documents:   0%|          | 0/13 [00:00<?, ?it/s]"
      ]
     },
     "metadata": {},
     "output_type": "display_data"
    },
    {
     "data": {
      "application/vnd.jupyter.widget-view+json": {
       "model_id": "843f23d9122c4749813b620514807213",
       "version_major": 2,
       "version_minor": 0
      },
      "text/plain": [
       "Retrieving MaterialsDoc documents:   0%|          | 0/1 [00:00<?, ?it/s]"
      ]
     },
     "metadata": {},
     "output_type": "display_data"
    },
    {
     "name": "stderr",
     "output_type": "stream",
     "text": [
      "\r",
      "  9%|████████                                                                                 | 8/89 [00:22<04:02,  2.99s/it]"
     ]
    },
    {
     "data": {
      "application/vnd.jupyter.widget-view+json": {
       "model_id": "6c1b17a069624412aeb7e14b2435dfc9",
       "version_major": 2,
       "version_minor": 0
      },
      "text/plain": [
       "Retrieving MaterialsDoc documents:   0%|          | 0/9 [00:00<?, ?it/s]"
      ]
     },
     "metadata": {},
     "output_type": "display_data"
    },
    {
     "data": {
      "application/vnd.jupyter.widget-view+json": {
       "model_id": "a0628a3413da4a57be71f340680773e5",
       "version_major": 2,
       "version_minor": 0
      },
      "text/plain": [
       "Retrieving MaterialsDoc documents:   0%|          | 0/1 [00:00<?, ?it/s]"
      ]
     },
     "metadata": {},
     "output_type": "display_data"
    },
    {
     "name": "stderr",
     "output_type": "stream",
     "text": [
      "\r",
      " 10%|█████████                                                                                | 9/89 [00:24<03:35,  2.69s/it]"
     ]
    },
    {
     "data": {
      "application/vnd.jupyter.widget-view+json": {
       "model_id": "83dbb3ed63b442da8bb73a4c6f033b10",
       "version_major": 2,
       "version_minor": 0
      },
      "text/plain": [
       "Retrieving MaterialsDoc documents:   0%|          | 0/3 [00:00<?, ?it/s]"
      ]
     },
     "metadata": {},
     "output_type": "display_data"
    },
    {
     "data": {
      "application/vnd.jupyter.widget-view+json": {
       "model_id": "c69d4107546340898966a70cd0854262",
       "version_major": 2,
       "version_minor": 0
      },
      "text/plain": [
       "Retrieving MaterialsDoc documents:   0%|          | 0/1 [00:00<?, ?it/s]"
      ]
     },
     "metadata": {},
     "output_type": "display_data"
    },
    {
     "name": "stderr",
     "output_type": "stream",
     "text": [
      "\r",
      " 11%|█████████▉                                                                              | 10/89 [00:28<03:54,  2.97s/it]"
     ]
    },
    {
     "data": {
      "application/vnd.jupyter.widget-view+json": {
       "model_id": "01023778c0ae4c9e8610b5ced360a242",
       "version_major": 2,
       "version_minor": 0
      },
      "text/plain": [
       "Retrieving MaterialsDoc documents:   0%|          | 0/5 [00:00<?, ?it/s]"
      ]
     },
     "metadata": {},
     "output_type": "display_data"
    },
    {
     "data": {
      "application/vnd.jupyter.widget-view+json": {
       "model_id": "69ec8be2cc1a415ca3ea6206aeb01c6e",
       "version_major": 2,
       "version_minor": 0
      },
      "text/plain": [
       "Retrieving MaterialsDoc documents:   0%|          | 0/1 [00:00<?, ?it/s]"
      ]
     },
     "metadata": {},
     "output_type": "display_data"
    },
    {
     "name": "stderr",
     "output_type": "stream",
     "text": [
      "\r",
      " 12%|██████████▉                                                                             | 11/89 [00:29<03:11,  2.45s/it]"
     ]
    },
    {
     "data": {
      "application/vnd.jupyter.widget-view+json": {
       "model_id": "95f1be3b47974a0197f709b158e9de7f",
       "version_major": 2,
       "version_minor": 0
      },
      "text/plain": [
       "Retrieving MaterialsDoc documents:   0%|          | 0/11 [00:00<?, ?it/s]"
      ]
     },
     "metadata": {},
     "output_type": "display_data"
    },
    {
     "data": {
      "application/vnd.jupyter.widget-view+json": {
       "model_id": "b9e82828566941ffa10ca63cea5fd0d6",
       "version_major": 2,
       "version_minor": 0
      },
      "text/plain": [
       "Retrieving MaterialsDoc documents:   0%|          | 0/1 [00:00<?, ?it/s]"
      ]
     },
     "metadata": {},
     "output_type": "display_data"
    },
    {
     "data": {
      "application/vnd.jupyter.widget-view+json": {
       "model_id": "20c0e170dc88435580f1682408014ffc",
       "version_major": 2,
       "version_minor": 0
      },
      "text/plain": [
       "Retrieving MaterialsDoc documents:   0%|          | 0/1 [00:00<?, ?it/s]"
      ]
     },
     "metadata": {},
     "output_type": "display_data"
    },
    {
     "data": {
      "application/vnd.jupyter.widget-view+json": {
       "model_id": "3e1da752b7f3484bb78bdf14df21d0d7",
       "version_major": 2,
       "version_minor": 0
      },
      "text/plain": [
       "Retrieving MaterialsDoc documents:   0%|          | 0/1 [00:00<?, ?it/s]"
      ]
     },
     "metadata": {},
     "output_type": "display_data"
    },
    {
     "data": {
      "application/vnd.jupyter.widget-view+json": {
       "model_id": "3714325a0c6a419c982c6ddf1dfb326c",
       "version_major": 2,
       "version_minor": 0
      },
      "text/plain": [
       "Retrieving MaterialsDoc documents:   0%|          | 0/1 [00:00<?, ?it/s]"
      ]
     },
     "metadata": {},
     "output_type": "display_data"
    },
    {
     "name": "stderr",
     "output_type": "stream",
     "text": [
      "\r",
      " 13%|███████████▊                                                                            | 12/89 [00:31<02:56,  2.30s/it]"
     ]
    },
    {
     "data": {
      "application/vnd.jupyter.widget-view+json": {
       "model_id": "491896a7ab324132a62967954c440a52",
       "version_major": 2,
       "version_minor": 0
      },
      "text/plain": [
       "Retrieving MaterialsDoc documents:   0%|          | 0/23 [00:00<?, ?it/s]"
      ]
     },
     "metadata": {},
     "output_type": "display_data"
    },
    {
     "data": {
      "application/vnd.jupyter.widget-view+json": {
       "model_id": "f4ba9204fb08402ba8a8ecc094841df3",
       "version_major": 2,
       "version_minor": 0
      },
      "text/plain": [
       "Retrieving MaterialsDoc documents:   0%|          | 0/1 [00:00<?, ?it/s]"
      ]
     },
     "metadata": {},
     "output_type": "display_data"
    },
    {
     "name": "stderr",
     "output_type": "stream",
     "text": [
      "\r",
      " 15%|████████████▊                                                                           | 13/89 [00:33<02:40,  2.11s/it]"
     ]
    },
    {
     "data": {
      "application/vnd.jupyter.widget-view+json": {
       "model_id": "d7744a4af91e4fd7b0bee11a72be3dcf",
       "version_major": 2,
       "version_minor": 0
      },
      "text/plain": [
       "Retrieving MaterialsDoc documents:   0%|          | 0/5 [00:00<?, ?it/s]"
      ]
     },
     "metadata": {},
     "output_type": "display_data"
    },
    {
     "data": {
      "application/vnd.jupyter.widget-view+json": {
       "model_id": "42e39f03b2154fdc8346da936c1f30d1",
       "version_major": 2,
       "version_minor": 0
      },
      "text/plain": [
       "Retrieving MaterialsDoc documents:   0%|          | 0/1 [00:00<?, ?it/s]"
      ]
     },
     "metadata": {},
     "output_type": "display_data"
    },
    {
     "data": {
      "application/vnd.jupyter.widget-view+json": {
       "model_id": "7ab9a01c0f734657a4f31aff38327c0a",
       "version_major": 2,
       "version_minor": 0
      },
      "text/plain": [
       "Retrieving MaterialsDoc documents:   0%|          | 0/1 [00:00<?, ?it/s]"
      ]
     },
     "metadata": {},
     "output_type": "display_data"
    },
    {
     "data": {
      "application/vnd.jupyter.widget-view+json": {
       "model_id": "a896d350757d42bfb3d70c15bbf2e314",
       "version_major": 2,
       "version_minor": 0
      },
      "text/plain": [
       "Retrieving MaterialsDoc documents:   0%|          | 0/1 [00:00<?, ?it/s]"
      ]
     },
     "metadata": {},
     "output_type": "display_data"
    },
    {
     "name": "stderr",
     "output_type": "stream",
     "text": [
      "\r",
      " 16%|█████████████▊                                                                          | 14/89 [00:35<02:40,  2.14s/it]"
     ]
    },
    {
     "data": {
      "application/vnd.jupyter.widget-view+json": {
       "model_id": "abfc40884fcd40708389e98230d4a7d5",
       "version_major": 2,
       "version_minor": 0
      },
      "text/plain": [
       "Retrieving MaterialsDoc documents:   0%|          | 0/3 [00:00<?, ?it/s]"
      ]
     },
     "metadata": {},
     "output_type": "display_data"
    },
    {
     "data": {
      "application/vnd.jupyter.widget-view+json": {
       "model_id": "d762e2e9804a482997946a4d8e1caa1c",
       "version_major": 2,
       "version_minor": 0
      },
      "text/plain": [
       "Retrieving MaterialsDoc documents:   0%|          | 0/1 [00:00<?, ?it/s]"
      ]
     },
     "metadata": {},
     "output_type": "display_data"
    },
    {
     "data": {
      "application/vnd.jupyter.widget-view+json": {
       "model_id": "89eaca6e84c94a24986ff13cf7a7cf4c",
       "version_major": 2,
       "version_minor": 0
      },
      "text/plain": [
       "Retrieving MaterialsDoc documents:   0%|          | 0/1 [00:00<?, ?it/s]"
      ]
     },
     "metadata": {},
     "output_type": "display_data"
    },
    {
     "data": {
      "application/vnd.jupyter.widget-view+json": {
       "model_id": "ef69bd942d50464284ce2ce6703c8630",
       "version_major": 2,
       "version_minor": 0
      },
      "text/plain": [
       "Retrieving MaterialsDoc documents:   0%|          | 0/1 [00:00<?, ?it/s]"
      ]
     },
     "metadata": {},
     "output_type": "display_data"
    },
    {
     "name": "stderr",
     "output_type": "stream",
     "text": [
      "\r",
      " 17%|██████████████▊                                                                         | 15/89 [00:47<06:21,  5.15s/it]"
     ]
    },
    {
     "data": {
      "application/vnd.jupyter.widget-view+json": {
       "model_id": "b4c928fb6c3b433d976637282869d0bc",
       "version_major": 2,
       "version_minor": 0
      },
      "text/plain": [
       "Retrieving MaterialsDoc documents:   0%|          | 0/9 [00:00<?, ?it/s]"
      ]
     },
     "metadata": {},
     "output_type": "display_data"
    },
    {
     "data": {
      "application/vnd.jupyter.widget-view+json": {
       "model_id": "20a470175fc742cf84ee9489ed79f83a",
       "version_major": 2,
       "version_minor": 0
      },
      "text/plain": [
       "Retrieving MaterialsDoc documents:   0%|          | 0/1 [00:00<?, ?it/s]"
      ]
     },
     "metadata": {},
     "output_type": "display_data"
    },
    {
     "name": "stderr",
     "output_type": "stream",
     "text": [
      "\r",
      " 18%|███████████████▊                                                                        | 16/89 [00:50<05:25,  4.46s/it]"
     ]
    },
    {
     "data": {
      "application/vnd.jupyter.widget-view+json": {
       "model_id": "4c1f5e83bb6940f39b9bae7b8ae2662b",
       "version_major": 2,
       "version_minor": 0
      },
      "text/plain": [
       "Retrieving MaterialsDoc documents:   0%|          | 0/12 [00:00<?, ?it/s]"
      ]
     },
     "metadata": {},
     "output_type": "display_data"
    },
    {
     "data": {
      "application/vnd.jupyter.widget-view+json": {
       "model_id": "a3eb5dc603094778b271493e03f31b9b",
       "version_major": 2,
       "version_minor": 0
      },
      "text/plain": [
       "Retrieving MaterialsDoc documents:   0%|          | 0/1 [00:00<?, ?it/s]"
      ]
     },
     "metadata": {},
     "output_type": "display_data"
    },
    {
     "data": {
      "application/vnd.jupyter.widget-view+json": {
       "model_id": "19d0beca01324782903261bfc850384f",
       "version_major": 2,
       "version_minor": 0
      },
      "text/plain": [
       "Retrieving MaterialsDoc documents:   0%|          | 0/1 [00:00<?, ?it/s]"
      ]
     },
     "metadata": {},
     "output_type": "display_data"
    },
    {
     "data": {
      "application/vnd.jupyter.widget-view+json": {
       "model_id": "c5e7dd1c93ed47b188c51b588a1cba91",
       "version_major": 2,
       "version_minor": 0
      },
      "text/plain": [
       "Retrieving MaterialsDoc documents:   0%|          | 0/1 [00:00<?, ?it/s]"
      ]
     },
     "metadata": {},
     "output_type": "display_data"
    },
    {
     "name": "stderr",
     "output_type": "stream",
     "text": [
      "\r",
      " 19%|████████████████▊                                                                       | 17/89 [00:57<06:23,  5.33s/it]"
     ]
    },
    {
     "data": {
      "application/vnd.jupyter.widget-view+json": {
       "model_id": "1fe338af511d430e8c98d04402d03e62",
       "version_major": 2,
       "version_minor": 0
      },
      "text/plain": [
       "Retrieving MaterialsDoc documents:   0%|          | 0/146 [00:00<?, ?it/s]"
      ]
     },
     "metadata": {},
     "output_type": "display_data"
    },
    {
     "data": {
      "application/vnd.jupyter.widget-view+json": {
       "model_id": "384988cce1ed43b3951df73632a9ee8a",
       "version_major": 2,
       "version_minor": 0
      },
      "text/plain": [
       "Retrieving MaterialsDoc documents:   0%|          | 0/1 [00:00<?, ?it/s]"
      ]
     },
     "metadata": {},
     "output_type": "display_data"
    },
    {
     "data": {
      "application/vnd.jupyter.widget-view+json": {
       "model_id": "f8238dc1e8eb446aa2131256081815fc",
       "version_major": 2,
       "version_minor": 0
      },
      "text/plain": [
       "Retrieving MaterialsDoc documents:   0%|          | 0/1 [00:00<?, ?it/s]"
      ]
     },
     "metadata": {},
     "output_type": "display_data"
    },
    {
     "data": {
      "application/vnd.jupyter.widget-view+json": {
       "model_id": "82ea7e7d6f2f468c9ed70d48bf39fb32",
       "version_major": 2,
       "version_minor": 0
      },
      "text/plain": [
       "Retrieving MaterialsDoc documents:   0%|          | 0/1 [00:00<?, ?it/s]"
      ]
     },
     "metadata": {},
     "output_type": "display_data"
    },
    {
     "name": "stderr",
     "output_type": "stream",
     "text": [
      "\r",
      " 20%|█████████████████▊                                                                      | 18/89 [01:01<05:37,  4.76s/it]"
     ]
    },
    {
     "data": {
      "application/vnd.jupyter.widget-view+json": {
       "model_id": "be5a07b358c84d17bc01e592035f4799",
       "version_major": 2,
       "version_minor": 0
      },
      "text/plain": [
       "Retrieving MaterialsDoc documents:   0%|          | 0/19 [00:00<?, ?it/s]"
      ]
     },
     "metadata": {},
     "output_type": "display_data"
    },
    {
     "data": {
      "application/vnd.jupyter.widget-view+json": {
       "model_id": "202220bba0294ffd87de5b93420bbc21",
       "version_major": 2,
       "version_minor": 0
      },
      "text/plain": [
       "Retrieving MaterialsDoc documents:   0%|          | 0/1 [00:00<?, ?it/s]"
      ]
     },
     "metadata": {},
     "output_type": "display_data"
    },
    {
     "data": {
      "application/vnd.jupyter.widget-view+json": {
       "model_id": "159c5a206a9347b5820d5e859031cb7b",
       "version_major": 2,
       "version_minor": 0
      },
      "text/plain": [
       "Retrieving MaterialsDoc documents:   0%|          | 0/1 [00:00<?, ?it/s]"
      ]
     },
     "metadata": {},
     "output_type": "display_data"
    },
    {
     "data": {
      "application/vnd.jupyter.widget-view+json": {
       "model_id": "d460b9f917734a419fa9a3b08c1d5296",
       "version_major": 2,
       "version_minor": 0
      },
      "text/plain": [
       "Retrieving MaterialsDoc documents:   0%|          | 0/1 [00:00<?, ?it/s]"
      ]
     },
     "metadata": {},
     "output_type": "display_data"
    },
    {
     "data": {
      "application/vnd.jupyter.widget-view+json": {
       "model_id": "6284d5a1425e4b41877ddb9495241abf",
       "version_major": 2,
       "version_minor": 0
      },
      "text/plain": [
       "Retrieving MaterialsDoc documents:   0%|          | 0/1 [00:00<?, ?it/s]"
      ]
     },
     "metadata": {},
     "output_type": "display_data"
    },
    {
     "data": {
      "application/vnd.jupyter.widget-view+json": {
       "model_id": "66e0c1cd7fa44c47bd887249dc387f48",
       "version_major": 2,
       "version_minor": 0
      },
      "text/plain": [
       "Retrieving MaterialsDoc documents:   0%|          | 0/1 [00:00<?, ?it/s]"
      ]
     },
     "metadata": {},
     "output_type": "display_data"
    },
    {
     "data": {
      "application/vnd.jupyter.widget-view+json": {
       "model_id": "17e69e9e5bad4dfa924eb55595a82a9a",
       "version_major": 2,
       "version_minor": 0
      },
      "text/plain": [
       "Retrieving MaterialsDoc documents:   0%|          | 0/1 [00:00<?, ?it/s]"
      ]
     },
     "metadata": {},
     "output_type": "display_data"
    },
    {
     "data": {
      "application/vnd.jupyter.widget-view+json": {
       "model_id": "f9fb990688654ac1803d92f8ee86d3ec",
       "version_major": 2,
       "version_minor": 0
      },
      "text/plain": [
       "Retrieving MaterialsDoc documents:   0%|          | 0/1 [00:00<?, ?it/s]"
      ]
     },
     "metadata": {},
     "output_type": "display_data"
    },
    {
     "data": {
      "application/vnd.jupyter.widget-view+json": {
       "model_id": "570626d42737436abe2248787de4c5dc",
       "version_major": 2,
       "version_minor": 0
      },
      "text/plain": [
       "Retrieving MaterialsDoc documents:   0%|          | 0/1 [00:00<?, ?it/s]"
      ]
     },
     "metadata": {},
     "output_type": "display_data"
    },
    {
     "data": {
      "application/vnd.jupyter.widget-view+json": {
       "model_id": "03e4e180c5694e14984e1c9e1e43ebc2",
       "version_major": 2,
       "version_minor": 0
      },
      "text/plain": [
       "Retrieving MaterialsDoc documents:   0%|          | 0/1 [00:00<?, ?it/s]"
      ]
     },
     "metadata": {},
     "output_type": "display_data"
    },
    {
     "data": {
      "application/vnd.jupyter.widget-view+json": {
       "model_id": "0a8202b3d2d44086bd63f97d19b539f1",
       "version_major": 2,
       "version_minor": 0
      },
      "text/plain": [
       "Retrieving MaterialsDoc documents:   0%|          | 0/1 [00:00<?, ?it/s]"
      ]
     },
     "metadata": {},
     "output_type": "display_data"
    },
    {
     "data": {
      "application/vnd.jupyter.widget-view+json": {
       "model_id": "9ee64e0c1d4a41c387fca911776dde66",
       "version_major": 2,
       "version_minor": 0
      },
      "text/plain": [
       "Retrieving MaterialsDoc documents:   0%|          | 0/1 [00:00<?, ?it/s]"
      ]
     },
     "metadata": {},
     "output_type": "display_data"
    },
    {
     "data": {
      "application/vnd.jupyter.widget-view+json": {
       "model_id": "f6aaa946c0544f409ad0d1add4b22094",
       "version_major": 2,
       "version_minor": 0
      },
      "text/plain": [
       "Retrieving MaterialsDoc documents:   0%|          | 0/1 [00:00<?, ?it/s]"
      ]
     },
     "metadata": {},
     "output_type": "display_data"
    },
    {
     "data": {
      "application/vnd.jupyter.widget-view+json": {
       "model_id": "0a0ff2efb448422eac5d6b92cf5f883b",
       "version_major": 2,
       "version_minor": 0
      },
      "text/plain": [
       "Retrieving MaterialsDoc documents:   0%|          | 0/1 [00:00<?, ?it/s]"
      ]
     },
     "metadata": {},
     "output_type": "display_data"
    },
    {
     "data": {
      "application/vnd.jupyter.widget-view+json": {
       "model_id": "fcccb360ddd54bf6a92414f6254907bd",
       "version_major": 2,
       "version_minor": 0
      },
      "text/plain": [
       "Retrieving MaterialsDoc documents:   0%|          | 0/1 [00:00<?, ?it/s]"
      ]
     },
     "metadata": {},
     "output_type": "display_data"
    },
    {
     "data": {
      "application/vnd.jupyter.widget-view+json": {
       "model_id": "1d4592f5b4664a36a25c3e4c4bc78742",
       "version_major": 2,
       "version_minor": 0
      },
      "text/plain": [
       "Retrieving MaterialsDoc documents:   0%|          | 0/1 [00:00<?, ?it/s]"
      ]
     },
     "metadata": {},
     "output_type": "display_data"
    },
    {
     "data": {
      "application/vnd.jupyter.widget-view+json": {
       "model_id": "f065fab9f1e748de82e4df0e2ea9199a",
       "version_major": 2,
       "version_minor": 0
      },
      "text/plain": [
       "Retrieving MaterialsDoc documents:   0%|          | 0/1 [00:00<?, ?it/s]"
      ]
     },
     "metadata": {},
     "output_type": "display_data"
    },
    {
     "data": {
      "application/vnd.jupyter.widget-view+json": {
       "model_id": "3fc89ffb9cc64e75be7fadba37c04fe5",
       "version_major": 2,
       "version_minor": 0
      },
      "text/plain": [
       "Retrieving MaterialsDoc documents:   0%|          | 0/1 [00:00<?, ?it/s]"
      ]
     },
     "metadata": {},
     "output_type": "display_data"
    },
    {
     "data": {
      "application/vnd.jupyter.widget-view+json": {
       "model_id": "b68d0c4465374218800310a7b36a9fc9",
       "version_major": 2,
       "version_minor": 0
      },
      "text/plain": [
       "Retrieving MaterialsDoc documents:   0%|          | 0/1 [00:00<?, ?it/s]"
      ]
     },
     "metadata": {},
     "output_type": "display_data"
    },
    {
     "data": {
      "application/vnd.jupyter.widget-view+json": {
       "model_id": "bae1b689d08046e980e999024954abcc",
       "version_major": 2,
       "version_minor": 0
      },
      "text/plain": [
       "Retrieving MaterialsDoc documents:   0%|          | 0/1 [00:00<?, ?it/s]"
      ]
     },
     "metadata": {},
     "output_type": "display_data"
    },
    {
     "name": "stderr",
     "output_type": "stream",
     "text": [
      "Traceback (most recent call last):\n",
      "  File \"/var/folders/ql/m5k56v8n5sz5880n5sksmc9w0000gn/T/ipykernel_6105/617359052.py\", line 67, in <module>\n",
      "    raise RuntimeError\n",
      "RuntimeError\n",
      "\r",
      " 21%|██████████████████▊                                                                     | 19/89 [01:06<05:55,  5.08s/it]"
     ]
    },
    {
     "data": {
      "application/vnd.jupyter.widget-view+json": {
       "model_id": "db4e75fce0934bcaa1c8533526a3b4f9",
       "version_major": 2,
       "version_minor": 0
      },
      "text/plain": [
       "Retrieving MaterialsDoc documents:   0%|          | 0/5 [00:00<?, ?it/s]"
      ]
     },
     "metadata": {},
     "output_type": "display_data"
    },
    {
     "data": {
      "application/vnd.jupyter.widget-view+json": {
       "model_id": "4ea45b0950314a63991afd30eb2ef102",
       "version_major": 2,
       "version_minor": 0
      },
      "text/plain": [
       "Retrieving MaterialsDoc documents:   0%|          | 0/1 [00:00<?, ?it/s]"
      ]
     },
     "metadata": {},
     "output_type": "display_data"
    },
    {
     "name": "stderr",
     "output_type": "stream",
     "text": [
      "\r",
      " 22%|███████████████████▊                                                                    | 20/89 [01:12<05:58,  5.20s/it]"
     ]
    },
    {
     "data": {
      "application/vnd.jupyter.widget-view+json": {
       "model_id": "7688a8d68d8143089c7e11cdea36781b",
       "version_major": 2,
       "version_minor": 0
      },
      "text/plain": [
       "Retrieving MaterialsDoc documents:   0%|          | 0/27 [00:00<?, ?it/s]"
      ]
     },
     "metadata": {},
     "output_type": "display_data"
    },
    {
     "data": {
      "application/vnd.jupyter.widget-view+json": {
       "model_id": "19ad1574deee4da7b878b7c07ae22850",
       "version_major": 2,
       "version_minor": 0
      },
      "text/plain": [
       "Retrieving MaterialsDoc documents:   0%|          | 0/1 [00:00<?, ?it/s]"
      ]
     },
     "metadata": {},
     "output_type": "display_data"
    },
    {
     "data": {
      "application/vnd.jupyter.widget-view+json": {
       "model_id": "61cf77adc94b4663a0960a616b4c1c8c",
       "version_major": 2,
       "version_minor": 0
      },
      "text/plain": [
       "Retrieving MaterialsDoc documents:   0%|          | 0/1 [00:00<?, ?it/s]"
      ]
     },
     "metadata": {},
     "output_type": "display_data"
    },
    {
     "data": {
      "application/vnd.jupyter.widget-view+json": {
       "model_id": "d18ebcbef4464e1bbccbec5d7ca134dd",
       "version_major": 2,
       "version_minor": 0
      },
      "text/plain": [
       "Retrieving MaterialsDoc documents:   0%|          | 0/1 [00:00<?, ?it/s]"
      ]
     },
     "metadata": {},
     "output_type": "display_data"
    },
    {
     "data": {
      "application/vnd.jupyter.widget-view+json": {
       "model_id": "bb781bf91e194410bd2b3de38a1da676",
       "version_major": 2,
       "version_minor": 0
      },
      "text/plain": [
       "Retrieving MaterialsDoc documents:   0%|          | 0/1 [00:00<?, ?it/s]"
      ]
     },
     "metadata": {},
     "output_type": "display_data"
    },
    {
     "name": "stderr",
     "output_type": "stream",
     "text": [
      "\r",
      " 24%|████████████████████▊                                                                   | 21/89 [01:16<05:38,  4.98s/it]"
     ]
    },
    {
     "data": {
      "application/vnd.jupyter.widget-view+json": {
       "model_id": "7f0547d633be46528e34e388b604b8a1",
       "version_major": 2,
       "version_minor": 0
      },
      "text/plain": [
       "Retrieving MaterialsDoc documents:   0%|          | 0/2 [00:00<?, ?it/s]"
      ]
     },
     "metadata": {},
     "output_type": "display_data"
    },
    {
     "data": {
      "application/vnd.jupyter.widget-view+json": {
       "model_id": "58306e0a2296433fa9c905e9d0d010aa",
       "version_major": 2,
       "version_minor": 0
      },
      "text/plain": [
       "Retrieving MaterialsDoc documents:   0%|          | 0/1 [00:00<?, ?it/s]"
      ]
     },
     "metadata": {},
     "output_type": "display_data"
    },
    {
     "name": "stderr",
     "output_type": "stream",
     "text": [
      "\r",
      " 25%|█████████████████████▊                                                                  | 22/89 [01:19<04:40,  4.19s/it]"
     ]
    },
    {
     "data": {
      "application/vnd.jupyter.widget-view+json": {
       "model_id": "233c4070ea74467b8c174552f27e93c9",
       "version_major": 2,
       "version_minor": 0
      },
      "text/plain": [
       "Retrieving MaterialsDoc documents:   0%|          | 0/3 [00:00<?, ?it/s]"
      ]
     },
     "metadata": {},
     "output_type": "display_data"
    },
    {
     "data": {
      "application/vnd.jupyter.widget-view+json": {
       "model_id": "515cfbcb36134a569ebdab95b13e7a27",
       "version_major": 2,
       "version_minor": 0
      },
      "text/plain": [
       "Retrieving MaterialsDoc documents:   0%|          | 0/1 [00:00<?, ?it/s]"
      ]
     },
     "metadata": {},
     "output_type": "display_data"
    },
    {
     "name": "stderr",
     "output_type": "stream",
     "text": [
      "\r",
      " 26%|██████████████████████▋                                                                 | 23/89 [01:22<04:17,  3.90s/it]"
     ]
    },
    {
     "data": {
      "application/vnd.jupyter.widget-view+json": {
       "model_id": "46f358a396a847999b219bbf21316503",
       "version_major": 2,
       "version_minor": 0
      },
      "text/plain": [
       "Retrieving MaterialsDoc documents:   0%|          | 0/2 [00:00<?, ?it/s]"
      ]
     },
     "metadata": {},
     "output_type": "display_data"
    },
    {
     "data": {
      "application/vnd.jupyter.widget-view+json": {
       "model_id": "007f0d88918545ae8726639a2f449d21",
       "version_major": 2,
       "version_minor": 0
      },
      "text/plain": [
       "Retrieving MaterialsDoc documents:   0%|          | 0/1 [00:00<?, ?it/s]"
      ]
     },
     "metadata": {},
     "output_type": "display_data"
    },
    {
     "name": "stderr",
     "output_type": "stream",
     "text": [
      "\r",
      " 27%|███████████████████████▋                                                                | 24/89 [01:24<03:39,  3.37s/it]"
     ]
    },
    {
     "data": {
      "application/vnd.jupyter.widget-view+json": {
       "model_id": "125db45a169e4c6baf1290230d25e5f4",
       "version_major": 2,
       "version_minor": 0
      },
      "text/plain": [
       "Retrieving MaterialsDoc documents:   0%|          | 0/2 [00:00<?, ?it/s]"
      ]
     },
     "metadata": {},
     "output_type": "display_data"
    },
    {
     "data": {
      "application/vnd.jupyter.widget-view+json": {
       "model_id": "e251ba7027bc47ed802f0343176a6167",
       "version_major": 2,
       "version_minor": 0
      },
      "text/plain": [
       "Retrieving MaterialsDoc documents:   0%|          | 0/1 [00:00<?, ?it/s]"
      ]
     },
     "metadata": {},
     "output_type": "display_data"
    },
    {
     "name": "stderr",
     "output_type": "stream",
     "text": [
      "\r",
      " 28%|████████████████████████▋                                                               | 25/89 [01:25<02:50,  2.66s/it]"
     ]
    },
    {
     "data": {
      "application/vnd.jupyter.widget-view+json": {
       "model_id": "57dfb119b0654f38998f4c388df53973",
       "version_major": 2,
       "version_minor": 0
      },
      "text/plain": [
       "Retrieving MaterialsDoc documents:   0%|          | 0/3 [00:00<?, ?it/s]"
      ]
     },
     "metadata": {},
     "output_type": "display_data"
    },
    {
     "data": {
      "application/vnd.jupyter.widget-view+json": {
       "model_id": "7ae36bb28b83491e88ab66ab5f8a73e4",
       "version_major": 2,
       "version_minor": 0
      },
      "text/plain": [
       "Retrieving MaterialsDoc documents:   0%|          | 0/1 [00:00<?, ?it/s]"
      ]
     },
     "metadata": {},
     "output_type": "display_data"
    },
    {
     "name": "stderr",
     "output_type": "stream",
     "text": [
      "\r",
      " 29%|█████████████████████████▋                                                              | 26/89 [01:26<02:23,  2.28s/it]"
     ]
    },
    {
     "data": {
      "application/vnd.jupyter.widget-view+json": {
       "model_id": "f51c091b175948cda5e370416f9f78ab",
       "version_major": 2,
       "version_minor": 0
      },
      "text/plain": [
       "Retrieving MaterialsDoc documents:   0%|          | 0/1 [00:00<?, ?it/s]"
      ]
     },
     "metadata": {},
     "output_type": "display_data"
    },
    {
     "data": {
      "application/vnd.jupyter.widget-view+json": {
       "model_id": "19a3e5beb1bf40f1a03440a7d9ff48d3",
       "version_major": 2,
       "version_minor": 0
      },
      "text/plain": [
       "Retrieving MaterialsDoc documents:   0%|          | 0/1 [00:00<?, ?it/s]"
      ]
     },
     "metadata": {},
     "output_type": "display_data"
    },
    {
     "name": "stderr",
     "output_type": "stream",
     "text": [
      "\r",
      " 30%|██████████████████████████▋                                                             | 27/89 [01:28<02:12,  2.13s/it]"
     ]
    },
    {
     "data": {
      "application/vnd.jupyter.widget-view+json": {
       "model_id": "55563a713c5f4983a56e35fe34ac4f2a",
       "version_major": 2,
       "version_minor": 0
      },
      "text/plain": [
       "Retrieving MaterialsDoc documents:   0%|          | 0/3 [00:00<?, ?it/s]"
      ]
     },
     "metadata": {},
     "output_type": "display_data"
    },
    {
     "data": {
      "application/vnd.jupyter.widget-view+json": {
       "model_id": "4ecc7e73a7ef4cd3b31b56a5d655a719",
       "version_major": 2,
       "version_minor": 0
      },
      "text/plain": [
       "Retrieving MaterialsDoc documents:   0%|          | 0/1 [00:00<?, ?it/s]"
      ]
     },
     "metadata": {},
     "output_type": "display_data"
    },
    {
     "data": {
      "application/vnd.jupyter.widget-view+json": {
       "model_id": "af5e4e2339c54d1fac6eeb7ca346bfae",
       "version_major": 2,
       "version_minor": 0
      },
      "text/plain": [
       "Retrieving MaterialsDoc documents:   0%|          | 0/1 [00:00<?, ?it/s]"
      ]
     },
     "metadata": {},
     "output_type": "display_data"
    },
    {
     "name": "stderr",
     "output_type": "stream",
     "text": [
      "\r",
      " 31%|███████████████████████████▋                                                            | 28/89 [01:40<05:15,  5.17s/it]"
     ]
    },
    {
     "data": {
      "application/vnd.jupyter.widget-view+json": {
       "model_id": "58c52ea2a57d4be2ac7a8dc4c7cc8916",
       "version_major": 2,
       "version_minor": 0
      },
      "text/plain": [
       "Retrieving MaterialsDoc documents:   0%|          | 0/1 [00:00<?, ?it/s]"
      ]
     },
     "metadata": {},
     "output_type": "display_data"
    },
    {
     "data": {
      "application/vnd.jupyter.widget-view+json": {
       "model_id": "e8d533d7dba8458d95d06eac0e657857",
       "version_major": 2,
       "version_minor": 0
      },
      "text/plain": [
       "Retrieving MaterialsDoc documents:   0%|          | 0/1 [00:00<?, ?it/s]"
      ]
     },
     "metadata": {},
     "output_type": "display_data"
    },
    {
     "name": "stderr",
     "output_type": "stream",
     "text": [
      "\r",
      " 33%|████████████████████████████▋                                                           | 29/89 [01:42<04:09,  4.15s/it]"
     ]
    },
    {
     "data": {
      "application/vnd.jupyter.widget-view+json": {
       "model_id": "77715a7f58cb47d79494804e074bab6e",
       "version_major": 2,
       "version_minor": 0
      },
      "text/plain": [
       "Retrieving MaterialsDoc documents:   0%|          | 0/3 [00:00<?, ?it/s]"
      ]
     },
     "metadata": {},
     "output_type": "display_data"
    },
    {
     "data": {
      "application/vnd.jupyter.widget-view+json": {
       "model_id": "18f4be60e9ab45c0a3e3eb09810fd94d",
       "version_major": 2,
       "version_minor": 0
      },
      "text/plain": [
       "Retrieving MaterialsDoc documents:   0%|          | 0/1 [00:00<?, ?it/s]"
      ]
     },
     "metadata": {},
     "output_type": "display_data"
    },
    {
     "name": "stderr",
     "output_type": "stream",
     "text": [
      "\r",
      " 34%|█████████████████████████████▋                                                          | 30/89 [01:44<03:31,  3.58s/it]"
     ]
    },
    {
     "data": {
      "application/vnd.jupyter.widget-view+json": {
       "model_id": "65d8c64e910e4bcbbb1fd2df7d5d00ef",
       "version_major": 2,
       "version_minor": 0
      },
      "text/plain": [
       "Retrieving MaterialsDoc documents:   0%|          | 0/2 [00:00<?, ?it/s]"
      ]
     },
     "metadata": {},
     "output_type": "display_data"
    },
    {
     "data": {
      "application/vnd.jupyter.widget-view+json": {
       "model_id": "f2d93c18d03043678b9efc36c0f4610a",
       "version_major": 2,
       "version_minor": 0
      },
      "text/plain": [
       "Retrieving MaterialsDoc documents:   0%|          | 0/1 [00:00<?, ?it/s]"
      ]
     },
     "metadata": {},
     "output_type": "display_data"
    },
    {
     "name": "stderr",
     "output_type": "stream",
     "text": [
      "\r",
      " 35%|██████████████████████████████▋                                                         | 31/89 [01:46<02:55,  3.03s/it]"
     ]
    },
    {
     "data": {
      "application/vnd.jupyter.widget-view+json": {
       "model_id": "eb1bc2cda83c48ada4772696e3c86bea",
       "version_major": 2,
       "version_minor": 0
      },
      "text/plain": [
       "Retrieving MaterialsDoc documents:   0%|          | 0/2 [00:00<?, ?it/s]"
      ]
     },
     "metadata": {},
     "output_type": "display_data"
    },
    {
     "data": {
      "application/vnd.jupyter.widget-view+json": {
       "model_id": "f89d72120d644fcda9e38c2d1329b69d",
       "version_major": 2,
       "version_minor": 0
      },
      "text/plain": [
       "Retrieving MaterialsDoc documents:   0%|          | 0/1 [00:00<?, ?it/s]"
      ]
     },
     "metadata": {},
     "output_type": "display_data"
    },
    {
     "name": "stderr",
     "output_type": "stream",
     "text": [
      "\r",
      " 36%|███████████████████████████████▋                                                        | 32/89 [01:48<02:23,  2.52s/it]"
     ]
    },
    {
     "data": {
      "application/vnd.jupyter.widget-view+json": {
       "model_id": "08b6a3f1017349cc98511f8359d1a910",
       "version_major": 2,
       "version_minor": 0
      },
      "text/plain": [
       "Retrieving MaterialsDoc documents:   0%|          | 0/2 [00:00<?, ?it/s]"
      ]
     },
     "metadata": {},
     "output_type": "display_data"
    },
    {
     "data": {
      "application/vnd.jupyter.widget-view+json": {
       "model_id": "228a8dcd0cee460488c751d0ff28d492",
       "version_major": 2,
       "version_minor": 0
      },
      "text/plain": [
       "Retrieving MaterialsDoc documents:   0%|          | 0/1 [00:00<?, ?it/s]"
      ]
     },
     "metadata": {},
     "output_type": "display_data"
    },
    {
     "name": "stderr",
     "output_type": "stream",
     "text": [
      "\r",
      " 37%|████████████████████████████████▋                                                       | 33/89 [01:49<02:00,  2.15s/it]"
     ]
    },
    {
     "data": {
      "application/vnd.jupyter.widget-view+json": {
       "model_id": "415d6b2665c242c6a539f7018fefdcec",
       "version_major": 2,
       "version_minor": 0
      },
      "text/plain": [
       "Retrieving MaterialsDoc documents:   0%|          | 0/4 [00:00<?, ?it/s]"
      ]
     },
     "metadata": {},
     "output_type": "display_data"
    },
    {
     "data": {
      "application/vnd.jupyter.widget-view+json": {
       "model_id": "e97d08c10cde4ac3aeb2ab54e1355c97",
       "version_major": 2,
       "version_minor": 0
      },
      "text/plain": [
       "Retrieving MaterialsDoc documents:   0%|          | 0/1 [00:00<?, ?it/s]"
      ]
     },
     "metadata": {},
     "output_type": "display_data"
    },
    {
     "name": "stderr",
     "output_type": "stream",
     "text": [
      "\r",
      " 38%|█████████████████████████████████▌                                                      | 34/89 [01:50<01:45,  1.92s/it]"
     ]
    },
    {
     "data": {
      "application/vnd.jupyter.widget-view+json": {
       "model_id": "cd5ae57b77814556952deb8f2f495e9c",
       "version_major": 2,
       "version_minor": 0
      },
      "text/plain": [
       "Retrieving MaterialsDoc documents:   0%|          | 0/2 [00:00<?, ?it/s]"
      ]
     },
     "metadata": {},
     "output_type": "display_data"
    },
    {
     "data": {
      "application/vnd.jupyter.widget-view+json": {
       "model_id": "898042a3a3674994ae5ff32c48f4e9a2",
       "version_major": 2,
       "version_minor": 0
      },
      "text/plain": [
       "Retrieving MaterialsDoc documents:   0%|          | 0/1 [00:00<?, ?it/s]"
      ]
     },
     "metadata": {},
     "output_type": "display_data"
    },
    {
     "data": {
      "application/vnd.jupyter.widget-view+json": {
       "model_id": "a3bd61fb221245df988448c699119dd2",
       "version_major": 2,
       "version_minor": 0
      },
      "text/plain": [
       "Retrieving MaterialsDoc documents:   0%|          | 0/1 [00:00<?, ?it/s]"
      ]
     },
     "metadata": {},
     "output_type": "display_data"
    },
    {
     "name": "stderr",
     "output_type": "stream",
     "text": [
      "\r",
      " 39%|██████████████████████████████████▌                                                     | 35/89 [01:53<01:57,  2.17s/it]"
     ]
    },
    {
     "data": {
      "application/vnd.jupyter.widget-view+json": {
       "model_id": "c77c843905034ff380e6de945980f6d7",
       "version_major": 2,
       "version_minor": 0
      },
      "text/plain": [
       "Retrieving MaterialsDoc documents:   0%|          | 0/2 [00:00<?, ?it/s]"
      ]
     },
     "metadata": {},
     "output_type": "display_data"
    },
    {
     "data": {
      "application/vnd.jupyter.widget-view+json": {
       "model_id": "a93a6565a362430ea4b2e309974c4997",
       "version_major": 2,
       "version_minor": 0
      },
      "text/plain": [
       "Retrieving MaterialsDoc documents:   0%|          | 0/1 [00:00<?, ?it/s]"
      ]
     },
     "metadata": {},
     "output_type": "display_data"
    },
    {
     "name": "stderr",
     "output_type": "stream",
     "text": [
      "\r",
      " 40%|███████████████████████████████████▌                                                    | 36/89 [01:59<02:52,  3.25s/it]"
     ]
    },
    {
     "data": {
      "application/vnd.jupyter.widget-view+json": {
       "model_id": "a9d5d8026ce8471a92a08613927d8c47",
       "version_major": 2,
       "version_minor": 0
      },
      "text/plain": [
       "Retrieving MaterialsDoc documents:   0%|          | 0/2 [00:00<?, ?it/s]"
      ]
     },
     "metadata": {},
     "output_type": "display_data"
    },
    {
     "data": {
      "application/vnd.jupyter.widget-view+json": {
       "model_id": "4f2f02f36d404997a7f295ec60390126",
       "version_major": 2,
       "version_minor": 0
      },
      "text/plain": [
       "Retrieving MaterialsDoc documents:   0%|          | 0/1 [00:00<?, ?it/s]"
      ]
     },
     "metadata": {},
     "output_type": "display_data"
    },
    {
     "name": "stderr",
     "output_type": "stream",
     "text": [
      "\r",
      " 42%|████████████████████████████████████▌                                                   | 37/89 [02:03<02:58,  3.44s/it]"
     ]
    },
    {
     "data": {
      "application/vnd.jupyter.widget-view+json": {
       "model_id": "7cee3772ce8f433ea6f2bed934521648",
       "version_major": 2,
       "version_minor": 0
      },
      "text/plain": [
       "Retrieving MaterialsDoc documents:   0%|          | 0/2 [00:00<?, ?it/s]"
      ]
     },
     "metadata": {},
     "output_type": "display_data"
    },
    {
     "data": {
      "application/vnd.jupyter.widget-view+json": {
       "model_id": "eed5f59ed3404e909ccde777d523a86c",
       "version_major": 2,
       "version_minor": 0
      },
      "text/plain": [
       "Retrieving MaterialsDoc documents:   0%|          | 0/1 [00:00<?, ?it/s]"
      ]
     },
     "metadata": {},
     "output_type": "display_data"
    },
    {
     "name": "stderr",
     "output_type": "stream",
     "text": [
      "\r",
      " 43%|█████████████████████████████████████▌                                                  | 38/89 [02:04<02:30,  2.95s/it]"
     ]
    },
    {
     "data": {
      "application/vnd.jupyter.widget-view+json": {
       "model_id": "4ff73f4c4208440390dd5cdc2f85e402",
       "version_major": 2,
       "version_minor": 0
      },
      "text/plain": [
       "Retrieving MaterialsDoc documents:   0%|          | 0/2 [00:00<?, ?it/s]"
      ]
     },
     "metadata": {},
     "output_type": "display_data"
    },
    {
     "data": {
      "application/vnd.jupyter.widget-view+json": {
       "model_id": "7fd74131cf974d13bbf54d8b59555209",
       "version_major": 2,
       "version_minor": 0
      },
      "text/plain": [
       "Retrieving MaterialsDoc documents:   0%|          | 0/1 [00:00<?, ?it/s]"
      ]
     },
     "metadata": {},
     "output_type": "display_data"
    },
    {
     "name": "stderr",
     "output_type": "stream",
     "text": [
      "\r",
      " 44%|██████████████████████████████████████▌                                                 | 39/89 [02:06<02:06,  2.53s/it]"
     ]
    },
    {
     "data": {
      "application/vnd.jupyter.widget-view+json": {
       "model_id": "1389f2f16e694840ac83a7de8be3366f",
       "version_major": 2,
       "version_minor": 0
      },
      "text/plain": [
       "Retrieving MaterialsDoc documents:   0%|          | 0/2 [00:00<?, ?it/s]"
      ]
     },
     "metadata": {},
     "output_type": "display_data"
    },
    {
     "data": {
      "application/vnd.jupyter.widget-view+json": {
       "model_id": "9711ae67bdcd49f8bd95345ac323f2bb",
       "version_major": 2,
       "version_minor": 0
      },
      "text/plain": [
       "Retrieving MaterialsDoc documents:   0%|          | 0/1 [00:00<?, ?it/s]"
      ]
     },
     "metadata": {},
     "output_type": "display_data"
    },
    {
     "name": "stderr",
     "output_type": "stream",
     "text": [
      "\r",
      " 45%|███████████████████████████████████████▌                                                | 40/89 [02:07<01:44,  2.12s/it]"
     ]
    },
    {
     "data": {
      "application/vnd.jupyter.widget-view+json": {
       "model_id": "3732c955fcfd454b95b8c8772ba4fec4",
       "version_major": 2,
       "version_minor": 0
      },
      "text/plain": [
       "Retrieving MaterialsDoc documents:   0%|          | 0/5 [00:00<?, ?it/s]"
      ]
     },
     "metadata": {},
     "output_type": "display_data"
    },
    {
     "data": {
      "application/vnd.jupyter.widget-view+json": {
       "model_id": "8424868c258b4ca58e4c53ab5c147fe5",
       "version_major": 2,
       "version_minor": 0
      },
      "text/plain": [
       "Retrieving MaterialsDoc documents:   0%|          | 0/1 [00:00<?, ?it/s]"
      ]
     },
     "metadata": {},
     "output_type": "display_data"
    },
    {
     "data": {
      "application/vnd.jupyter.widget-view+json": {
       "model_id": "f5dbeff58ffa4b869cf9899a79696276",
       "version_major": 2,
       "version_minor": 0
      },
      "text/plain": [
       "Retrieving MaterialsDoc documents:   0%|          | 0/1 [00:00<?, ?it/s]"
      ]
     },
     "metadata": {},
     "output_type": "display_data"
    },
    {
     "name": "stderr",
     "output_type": "stream",
     "text": [
      "\r",
      " 46%|████████████████████████████████████████▌                                               | 41/89 [02:08<01:23,  1.74s/it]"
     ]
    },
    {
     "data": {
      "application/vnd.jupyter.widget-view+json": {
       "model_id": "31e50a40ba224867b5853d1bdbe032bf",
       "version_major": 2,
       "version_minor": 0
      },
      "text/plain": [
       "Retrieving MaterialsDoc documents:   0%|          | 0/10 [00:00<?, ?it/s]"
      ]
     },
     "metadata": {},
     "output_type": "display_data"
    },
    {
     "data": {
      "application/vnd.jupyter.widget-view+json": {
       "model_id": "73e0021e138b4803acbd919d4737b04f",
       "version_major": 2,
       "version_minor": 0
      },
      "text/plain": [
       "Retrieving MaterialsDoc documents:   0%|          | 0/1 [00:00<?, ?it/s]"
      ]
     },
     "metadata": {},
     "output_type": "display_data"
    },
    {
     "name": "stderr",
     "output_type": "stream",
     "text": [
      "\r",
      " 47%|█████████████████████████████████████████▌                                              | 42/89 [02:09<01:13,  1.57s/it]"
     ]
    },
    {
     "data": {
      "application/vnd.jupyter.widget-view+json": {
       "model_id": "b7bef559d73a499aafe3ae3931e27d2d",
       "version_major": 2,
       "version_minor": 0
      },
      "text/plain": [
       "Retrieving MaterialsDoc documents:   0%|          | 0/10 [00:00<?, ?it/s]"
      ]
     },
     "metadata": {},
     "output_type": "display_data"
    },
    {
     "data": {
      "application/vnd.jupyter.widget-view+json": {
       "model_id": "a2becabb67f34a44976adfcbba660a20",
       "version_major": 2,
       "version_minor": 0
      },
      "text/plain": [
       "Retrieving MaterialsDoc documents:   0%|          | 0/1 [00:00<?, ?it/s]"
      ]
     },
     "metadata": {},
     "output_type": "display_data"
    },
    {
     "name": "stderr",
     "output_type": "stream",
     "text": [
      "\r",
      " 48%|██████████████████████████████████████████▌                                             | 43/89 [02:10<01:00,  1.32s/it]"
     ]
    },
    {
     "data": {
      "application/vnd.jupyter.widget-view+json": {
       "model_id": "c37f06c82e244885b24efe43ad4675d1",
       "version_major": 2,
       "version_minor": 0
      },
      "text/plain": [
       "Retrieving MaterialsDoc documents:   0%|          | 0/6 [00:00<?, ?it/s]"
      ]
     },
     "metadata": {},
     "output_type": "display_data"
    },
    {
     "data": {
      "application/vnd.jupyter.widget-view+json": {
       "model_id": "4bfe55b7046d465cbbb5b7d6079b6087",
       "version_major": 2,
       "version_minor": 0
      },
      "text/plain": [
       "Retrieving MaterialsDoc documents:   0%|          | 0/1 [00:00<?, ?it/s]"
      ]
     },
     "metadata": {},
     "output_type": "display_data"
    },
    {
     "name": "stderr",
     "output_type": "stream",
     "text": [
      "\r",
      " 49%|███████████████████████████████████████████▌                                            | 44/89 [02:11<00:55,  1.23s/it]"
     ]
    },
    {
     "data": {
      "application/vnd.jupyter.widget-view+json": {
       "model_id": "f7a04619c00b415e815812bd350c6b7a",
       "version_major": 2,
       "version_minor": 0
      },
      "text/plain": [
       "Retrieving MaterialsDoc documents:   0%|          | 0/8 [00:00<?, ?it/s]"
      ]
     },
     "metadata": {},
     "output_type": "display_data"
    },
    {
     "data": {
      "application/vnd.jupyter.widget-view+json": {
       "model_id": "10c3502f5d4a45fea82ff7d253cd115a",
       "version_major": 2,
       "version_minor": 0
      },
      "text/plain": [
       "Retrieving MaterialsDoc documents:   0%|          | 0/1 [00:00<?, ?it/s]"
      ]
     },
     "metadata": {},
     "output_type": "display_data"
    },
    {
     "name": "stderr",
     "output_type": "stream",
     "text": [
      "\r",
      " 51%|████████████████████████████████████████████▍                                           | 45/89 [02:12<00:55,  1.26s/it]"
     ]
    },
    {
     "data": {
      "application/vnd.jupyter.widget-view+json": {
       "model_id": "3fff725d2e014881872bd44647d2f38f",
       "version_major": 2,
       "version_minor": 0
      },
      "text/plain": [
       "Retrieving MaterialsDoc documents:   0%|          | 0/8 [00:00<?, ?it/s]"
      ]
     },
     "metadata": {},
     "output_type": "display_data"
    },
    {
     "data": {
      "application/vnd.jupyter.widget-view+json": {
       "model_id": "0852f102502241f091c43e77241238ab",
       "version_major": 2,
       "version_minor": 0
      },
      "text/plain": [
       "Retrieving MaterialsDoc documents:   0%|          | 0/1 [00:00<?, ?it/s]"
      ]
     },
     "metadata": {},
     "output_type": "display_data"
    },
    {
     "name": "stderr",
     "output_type": "stream",
     "text": [
      "\r",
      " 52%|█████████████████████████████████████████████▍                                          | 46/89 [02:13<00:47,  1.09s/it]"
     ]
    },
    {
     "data": {
      "application/vnd.jupyter.widget-view+json": {
       "model_id": "d1e3f3bf4e4248d7b08612da56067d87",
       "version_major": 2,
       "version_minor": 0
      },
      "text/plain": [
       "Retrieving MaterialsDoc documents:   0%|          | 0/4 [00:00<?, ?it/s]"
      ]
     },
     "metadata": {},
     "output_type": "display_data"
    },
    {
     "data": {
      "application/vnd.jupyter.widget-view+json": {
       "model_id": "c316ffab458140848c452de99704f96f",
       "version_major": 2,
       "version_minor": 0
      },
      "text/plain": [
       "Retrieving MaterialsDoc documents:   0%|          | 0/1 [00:00<?, ?it/s]"
      ]
     },
     "metadata": {},
     "output_type": "display_data"
    },
    {
     "name": "stderr",
     "output_type": "stream",
     "text": [
      "\r",
      " 53%|██████████████████████████████████████████████▍                                         | 47/89 [02:15<00:51,  1.22s/it]"
     ]
    },
    {
     "data": {
      "application/vnd.jupyter.widget-view+json": {
       "model_id": "21b73c3da9f64609baad7ee66e67fffd",
       "version_major": 2,
       "version_minor": 0
      },
      "text/plain": [
       "Retrieving MaterialsDoc documents:   0%|          | 0/5 [00:00<?, ?it/s]"
      ]
     },
     "metadata": {},
     "output_type": "display_data"
    },
    {
     "data": {
      "application/vnd.jupyter.widget-view+json": {
       "model_id": "8c2b9af93f1642d98c9d4a831f9b9dd4",
       "version_major": 2,
       "version_minor": 0
      },
      "text/plain": [
       "Retrieving MaterialsDoc documents:   0%|          | 0/1 [00:00<?, ?it/s]"
      ]
     },
     "metadata": {},
     "output_type": "display_data"
    },
    {
     "name": "stderr",
     "output_type": "stream",
     "text": [
      "\r",
      " 54%|███████████████████████████████████████████████▍                                        | 48/89 [02:15<00:45,  1.11s/it]"
     ]
    },
    {
     "data": {
      "application/vnd.jupyter.widget-view+json": {
       "model_id": "c39d6e5d4e7f4cbdb04642ad682a7ef6",
       "version_major": 2,
       "version_minor": 0
      },
      "text/plain": [
       "Retrieving MaterialsDoc documents:   0%|          | 0/8 [00:00<?, ?it/s]"
      ]
     },
     "metadata": {},
     "output_type": "display_data"
    },
    {
     "data": {
      "application/vnd.jupyter.widget-view+json": {
       "model_id": "ac455ad4a4274729894cfb2675589626",
       "version_major": 2,
       "version_minor": 0
      },
      "text/plain": [
       "Retrieving MaterialsDoc documents:   0%|          | 0/1 [00:00<?, ?it/s]"
      ]
     },
     "metadata": {},
     "output_type": "display_data"
    },
    {
     "name": "stderr",
     "output_type": "stream",
     "text": [
      "\r",
      " 55%|████████████████████████████████████████████████▍                                       | 49/89 [02:16<00:44,  1.10s/it]"
     ]
    },
    {
     "data": {
      "application/vnd.jupyter.widget-view+json": {
       "model_id": "9d1982606c67493fbbaae5d0476b2202",
       "version_major": 2,
       "version_minor": 0
      },
      "text/plain": [
       "Retrieving MaterialsDoc documents:   0%|          | 0/3 [00:00<?, ?it/s]"
      ]
     },
     "metadata": {},
     "output_type": "display_data"
    },
    {
     "data": {
      "application/vnd.jupyter.widget-view+json": {
       "model_id": "3ab58e27d2d54738983484c7af53fda3",
       "version_major": 2,
       "version_minor": 0
      },
      "text/plain": [
       "Retrieving MaterialsDoc documents:   0%|          | 0/1 [00:00<?, ?it/s]"
      ]
     },
     "metadata": {},
     "output_type": "display_data"
    },
    {
     "name": "stderr",
     "output_type": "stream",
     "text": [
      "\r",
      " 56%|█████████████████████████████████████████████████▍                                      | 50/89 [02:18<00:46,  1.21s/it]"
     ]
    },
    {
     "data": {
      "application/vnd.jupyter.widget-view+json": {
       "model_id": "16bedd70d43a4cad84a039e4cd89f51a",
       "version_major": 2,
       "version_minor": 0
      },
      "text/plain": [
       "Retrieving MaterialsDoc documents:   0%|          | 0/4 [00:00<?, ?it/s]"
      ]
     },
     "metadata": {},
     "output_type": "display_data"
    },
    {
     "data": {
      "application/vnd.jupyter.widget-view+json": {
       "model_id": "e85c785b860e48f2b3ffa27e234aa21b",
       "version_major": 2,
       "version_minor": 0
      },
      "text/plain": [
       "Retrieving MaterialsDoc documents:   0%|          | 0/1 [00:00<?, ?it/s]"
      ]
     },
     "metadata": {},
     "output_type": "display_data"
    },
    {
     "name": "stderr",
     "output_type": "stream",
     "text": [
      "\r",
      " 57%|██████████████████████████████████████████████████▍                                     | 51/89 [02:19<00:41,  1.09s/it]"
     ]
    },
    {
     "data": {
      "application/vnd.jupyter.widget-view+json": {
       "model_id": "2846f6acf788480e80b0fe7d2d2383d3",
       "version_major": 2,
       "version_minor": 0
      },
      "text/plain": [
       "Retrieving MaterialsDoc documents:   0%|          | 0/7 [00:00<?, ?it/s]"
      ]
     },
     "metadata": {},
     "output_type": "display_data"
    },
    {
     "data": {
      "application/vnd.jupyter.widget-view+json": {
       "model_id": "ef5be4b56663442bae093dc6227bc024",
       "version_major": 2,
       "version_minor": 0
      },
      "text/plain": [
       "Retrieving MaterialsDoc documents:   0%|          | 0/1 [00:00<?, ?it/s]"
      ]
     },
     "metadata": {},
     "output_type": "display_data"
    },
    {
     "name": "stderr",
     "output_type": "stream",
     "text": [
      "\r",
      " 58%|███████████████████████████████████████████████████▍                                    | 52/89 [02:20<00:37,  1.00s/it]"
     ]
    },
    {
     "data": {
      "application/vnd.jupyter.widget-view+json": {
       "model_id": "6236f74a54154159a3f4ab9e89b42bf1",
       "version_major": 2,
       "version_minor": 0
      },
      "text/plain": [
       "Retrieving MaterialsDoc documents:   0%|          | 0/3 [00:00<?, ?it/s]"
      ]
     },
     "metadata": {},
     "output_type": "display_data"
    },
    {
     "data": {
      "application/vnd.jupyter.widget-view+json": {
       "model_id": "0c0cadbfbc7144859a42c0742a3df53c",
       "version_major": 2,
       "version_minor": 0
      },
      "text/plain": [
       "Retrieving MaterialsDoc documents:   0%|          | 0/1 [00:00<?, ?it/s]"
      ]
     },
     "metadata": {},
     "output_type": "display_data"
    },
    {
     "name": "stderr",
     "output_type": "stream",
     "text": [
      "\r",
      " 60%|████████████████████████████████████████████████████▍                                   | 53/89 [02:20<00:34,  1.04it/s]"
     ]
    },
    {
     "data": {
      "application/vnd.jupyter.widget-view+json": {
       "model_id": "cd600db3f27f44a6a53a8b78ed6402ab",
       "version_major": 2,
       "version_minor": 0
      },
      "text/plain": [
       "Retrieving MaterialsDoc documents:   0%|          | 0/5 [00:00<?, ?it/s]"
      ]
     },
     "metadata": {},
     "output_type": "display_data"
    },
    {
     "data": {
      "application/vnd.jupyter.widget-view+json": {
       "model_id": "d66d327c2b424b958b2a1374b5b186aa",
       "version_major": 2,
       "version_minor": 0
      },
      "text/plain": [
       "Retrieving MaterialsDoc documents:   0%|          | 0/1 [00:00<?, ?it/s]"
      ]
     },
     "metadata": {},
     "output_type": "display_data"
    },
    {
     "name": "stderr",
     "output_type": "stream",
     "text": [
      "\r",
      " 61%|█████████████████████████████████████████████████████▍                                  | 54/89 [02:21<00:32,  1.09it/s]"
     ]
    },
    {
     "data": {
      "application/vnd.jupyter.widget-view+json": {
       "model_id": "629f0dfe70324e0f957d56db9d669ad6",
       "version_major": 2,
       "version_minor": 0
      },
      "text/plain": [
       "Retrieving MaterialsDoc documents:   0%|          | 0/10 [00:00<?, ?it/s]"
      ]
     },
     "metadata": {},
     "output_type": "display_data"
    },
    {
     "data": {
      "application/vnd.jupyter.widget-view+json": {
       "model_id": "564d0dca548c465a88e4e79a7679bba7",
       "version_major": 2,
       "version_minor": 0
      },
      "text/plain": [
       "Retrieving MaterialsDoc documents:   0%|          | 0/1 [00:00<?, ?it/s]"
      ]
     },
     "metadata": {},
     "output_type": "display_data"
    },
    {
     "data": {
      "application/vnd.jupyter.widget-view+json": {
       "model_id": "fd29d59ccbc54d8da58b9aa710fc0200",
       "version_major": 2,
       "version_minor": 0
      },
      "text/plain": [
       "Retrieving MaterialsDoc documents:   0%|          | 0/1 [00:00<?, ?it/s]"
      ]
     },
     "metadata": {},
     "output_type": "display_data"
    },
    {
     "name": "stderr",
     "output_type": "stream",
     "text": [
      "\r",
      " 62%|██████████████████████████████████████████████████████▍                                 | 55/89 [02:22<00:34,  1.01s/it]"
     ]
    },
    {
     "data": {
      "application/vnd.jupyter.widget-view+json": {
       "model_id": "c06abcedf49b4e89a55072498cb5ed19",
       "version_major": 2,
       "version_minor": 0
      },
      "text/plain": [
       "Retrieving MaterialsDoc documents:   0%|          | 0/4 [00:00<?, ?it/s]"
      ]
     },
     "metadata": {},
     "output_type": "display_data"
    },
    {
     "data": {
      "application/vnd.jupyter.widget-view+json": {
       "model_id": "8a6c23cb75ce4636b67d3a2ec9e2e1c3",
       "version_major": 2,
       "version_minor": 0
      },
      "text/plain": [
       "Retrieving MaterialsDoc documents:   0%|          | 0/1 [00:00<?, ?it/s]"
      ]
     },
     "metadata": {},
     "output_type": "display_data"
    },
    {
     "name": "stderr",
     "output_type": "stream",
     "text": [
      "\r",
      " 63%|███████████████████████████████████████████████████████▎                                | 56/89 [02:34<02:18,  4.20s/it]"
     ]
    },
    {
     "data": {
      "application/vnd.jupyter.widget-view+json": {
       "model_id": "c62f208cdfa945428d631428a7c496b1",
       "version_major": 2,
       "version_minor": 0
      },
      "text/plain": [
       "Retrieving MaterialsDoc documents:   0%|          | 0/8 [00:00<?, ?it/s]"
      ]
     },
     "metadata": {},
     "output_type": "display_data"
    },
    {
     "data": {
      "application/vnd.jupyter.widget-view+json": {
       "model_id": "15149bec49d14000a1521fdac7bd7737",
       "version_major": 2,
       "version_minor": 0
      },
      "text/plain": [
       "Retrieving MaterialsDoc documents:   0%|          | 0/1 [00:00<?, ?it/s]"
      ]
     },
     "metadata": {},
     "output_type": "display_data"
    },
    {
     "name": "stderr",
     "output_type": "stream",
     "text": [
      "\r",
      " 64%|████████████████████████████████████████████████████████▎                               | 57/89 [02:42<02:45,  5.17s/it]"
     ]
    },
    {
     "data": {
      "application/vnd.jupyter.widget-view+json": {
       "model_id": "f908bf0c2789448ebad53b7298fcc061",
       "version_major": 2,
       "version_minor": 0
      },
      "text/plain": [
       "Retrieving MaterialsDoc documents:   0%|          | 0/4 [00:00<?, ?it/s]"
      ]
     },
     "metadata": {},
     "output_type": "display_data"
    },
    {
     "data": {
      "application/vnd.jupyter.widget-view+json": {
       "model_id": "78febafbdd314a15b3364b8931938800",
       "version_major": 2,
       "version_minor": 0
      },
      "text/plain": [
       "Retrieving MaterialsDoc documents:   0%|          | 0/1 [00:00<?, ?it/s]"
      ]
     },
     "metadata": {},
     "output_type": "display_data"
    },
    {
     "name": "stderr",
     "output_type": "stream",
     "text": [
      "\r",
      " 65%|█████████████████████████████████████████████████████████▎                              | 58/89 [02:55<04:01,  7.80s/it]"
     ]
    },
    {
     "data": {
      "application/vnd.jupyter.widget-view+json": {
       "model_id": "97714924872a44a7848e3e94b0fc57f9",
       "version_major": 2,
       "version_minor": 0
      },
      "text/plain": [
       "Retrieving MaterialsDoc documents:   0%|          | 0/7 [00:00<?, ?it/s]"
      ]
     },
     "metadata": {},
     "output_type": "display_data"
    },
    {
     "data": {
      "application/vnd.jupyter.widget-view+json": {
       "model_id": "1c6511d1c8f744deb4363fb8adf9d59c",
       "version_major": 2,
       "version_minor": 0
      },
      "text/plain": [
       "Retrieving MaterialsDoc documents:   0%|          | 0/1 [00:00<?, ?it/s]"
      ]
     },
     "metadata": {},
     "output_type": "display_data"
    },
    {
     "name": "stderr",
     "output_type": "stream",
     "text": [
      "\r",
      " 66%|██████████████████████████████████████████████████████████▎                             | 59/89 [03:08<04:33,  9.13s/it]"
     ]
    },
    {
     "data": {
      "application/vnd.jupyter.widget-view+json": {
       "model_id": "335765dbd76441d9a195eb53c5d367c2",
       "version_major": 2,
       "version_minor": 0
      },
      "text/plain": [
       "Retrieving MaterialsDoc documents:   0%|          | 0/8 [00:00<?, ?it/s]"
      ]
     },
     "metadata": {},
     "output_type": "display_data"
    },
    {
     "data": {
      "application/vnd.jupyter.widget-view+json": {
       "model_id": "95e981f1e20241f585071720ea43ca20",
       "version_major": 2,
       "version_minor": 0
      },
      "text/plain": [
       "Retrieving MaterialsDoc documents:   0%|          | 0/1 [00:00<?, ?it/s]"
      ]
     },
     "metadata": {},
     "output_type": "display_data"
    },
    {
     "name": "stderr",
     "output_type": "stream",
     "text": [
      "\r",
      " 67%|███████████████████████████████████████████████████████████▎                            | 60/89 [03:11<03:36,  7.45s/it]"
     ]
    },
    {
     "data": {
      "application/vnd.jupyter.widget-view+json": {
       "model_id": "6e385bfa8ed6422d979a419503e6119a",
       "version_major": 2,
       "version_minor": 0
      },
      "text/plain": [
       "Retrieving MaterialsDoc documents:   0%|          | 0/8 [00:00<?, ?it/s]"
      ]
     },
     "metadata": {},
     "output_type": "display_data"
    },
    {
     "data": {
      "application/vnd.jupyter.widget-view+json": {
       "model_id": "c577328e971149a2b8f918d8cbc88a29",
       "version_major": 2,
       "version_minor": 0
      },
      "text/plain": [
       "Retrieving MaterialsDoc documents:   0%|          | 0/1 [00:00<?, ?it/s]"
      ]
     },
     "metadata": {},
     "output_type": "display_data"
    },
    {
     "name": "stderr",
     "output_type": "stream",
     "text": [
      "\r",
      " 69%|████████████████████████████████████████████████████████████▎                           | 61/89 [03:16<03:05,  6.61s/it]"
     ]
    },
    {
     "data": {
      "application/vnd.jupyter.widget-view+json": {
       "model_id": "18a0fb074d914711800cf28b81d5233e",
       "version_major": 2,
       "version_minor": 0
      },
      "text/plain": [
       "Retrieving MaterialsDoc documents:   0%|          | 0/1 [00:00<?, ?it/s]"
      ]
     },
     "metadata": {},
     "output_type": "display_data"
    },
    {
     "data": {
      "application/vnd.jupyter.widget-view+json": {
       "model_id": "a4fcd4fdeefb4614b5929c9bd73b1dec",
       "version_major": 2,
       "version_minor": 0
      },
      "text/plain": [
       "Retrieving MaterialsDoc documents:   0%|          | 0/1 [00:00<?, ?it/s]"
      ]
     },
     "metadata": {},
     "output_type": "display_data"
    },
    {
     "name": "stderr",
     "output_type": "stream",
     "text": [
      "\r",
      " 70%|█████████████████████████████████████████████████████████████▎                          | 62/89 [03:22<02:53,  6.41s/it]"
     ]
    },
    {
     "data": {
      "application/vnd.jupyter.widget-view+json": {
       "model_id": "3bebcd5ec59f4c2bbe17575a048b70ec",
       "version_major": 2,
       "version_minor": 0
      },
      "text/plain": [
       "Retrieving MaterialsDoc documents:   0%|          | 0/4 [00:00<?, ?it/s]"
      ]
     },
     "metadata": {},
     "output_type": "display_data"
    },
    {
     "data": {
      "application/vnd.jupyter.widget-view+json": {
       "model_id": "cfd8ca7bda5046b197a28dde67a34f6a",
       "version_major": 2,
       "version_minor": 0
      },
      "text/plain": [
       "Retrieving MaterialsDoc documents:   0%|          | 0/1 [00:00<?, ?it/s]"
      ]
     },
     "metadata": {},
     "output_type": "display_data"
    },
    {
     "name": "stderr",
     "output_type": "stream",
     "text": [
      "\r",
      " 71%|██████████████████████████████████████████████████████████████▎                         | 63/89 [03:29<02:52,  6.62s/it]"
     ]
    },
    {
     "data": {
      "application/vnd.jupyter.widget-view+json": {
       "model_id": "e4ca6a597b9e45a0a84f1503bf81abdb",
       "version_major": 2,
       "version_minor": 0
      },
      "text/plain": [
       "Retrieving MaterialsDoc documents:   0%|          | 0/5 [00:00<?, ?it/s]"
      ]
     },
     "metadata": {},
     "output_type": "display_data"
    },
    {
     "data": {
      "application/vnd.jupyter.widget-view+json": {
       "model_id": "b344fbb20b444dddacdbd9c31411a640",
       "version_major": 2,
       "version_minor": 0
      },
      "text/plain": [
       "Retrieving MaterialsDoc documents:   0%|          | 0/1 [00:00<?, ?it/s]"
      ]
     },
     "metadata": {},
     "output_type": "display_data"
    },
    {
     "name": "stderr",
     "output_type": "stream",
     "text": [
      "\r",
      " 72%|███████████████████████████████████████████████████████████████▎                        | 64/89 [03:32<02:21,  5.64s/it]"
     ]
    },
    {
     "data": {
      "application/vnd.jupyter.widget-view+json": {
       "model_id": "7af3756cd6bb49e3bdd651dd2100bba4",
       "version_major": 2,
       "version_minor": 0
      },
      "text/plain": [
       "Retrieving MaterialsDoc documents:   0%|          | 0/2 [00:00<?, ?it/s]"
      ]
     },
     "metadata": {},
     "output_type": "display_data"
    },
    {
     "data": {
      "application/vnd.jupyter.widget-view+json": {
       "model_id": "20134761cefe4a76b3a427b686b5e5b2",
       "version_major": 2,
       "version_minor": 0
      },
      "text/plain": [
       "Retrieving MaterialsDoc documents:   0%|          | 0/1 [00:00<?, ?it/s]"
      ]
     },
     "metadata": {},
     "output_type": "display_data"
    },
    {
     "name": "stderr",
     "output_type": "stream",
     "text": [
      "\r",
      " 73%|████████████████████████████████████████████████████████████████▎                       | 65/89 [03:35<01:56,  4.86s/it]"
     ]
    },
    {
     "data": {
      "application/vnd.jupyter.widget-view+json": {
       "model_id": "c34fc7cd017e49e482baddd7ca0632b7",
       "version_major": 2,
       "version_minor": 0
      },
      "text/plain": [
       "Retrieving MaterialsDoc documents:   0%|          | 0/4 [00:00<?, ?it/s]"
      ]
     },
     "metadata": {},
     "output_type": "display_data"
    },
    {
     "data": {
      "application/vnd.jupyter.widget-view+json": {
       "model_id": "bace43314218416e9982d4b6c601a8e3",
       "version_major": 2,
       "version_minor": 0
      },
      "text/plain": [
       "Retrieving MaterialsDoc documents:   0%|          | 0/1 [00:00<?, ?it/s]"
      ]
     },
     "metadata": {},
     "output_type": "display_data"
    },
    {
     "name": "stderr",
     "output_type": "stream",
     "text": [
      "\r",
      " 74%|█████████████████████████████████████████████████████████████████▎                      | 66/89 [03:38<01:34,  4.10s/it]"
     ]
    },
    {
     "data": {
      "application/vnd.jupyter.widget-view+json": {
       "model_id": "e78b58337add4fc4ac214579ab1aa21a",
       "version_major": 2,
       "version_minor": 0
      },
      "text/plain": [
       "Retrieving MaterialsDoc documents:   0%|          | 0/3 [00:00<?, ?it/s]"
      ]
     },
     "metadata": {},
     "output_type": "display_data"
    },
    {
     "data": {
      "application/vnd.jupyter.widget-view+json": {
       "model_id": "c90e674784cc45f7a99a32af80362e9d",
       "version_major": 2,
       "version_minor": 0
      },
      "text/plain": [
       "Retrieving MaterialsDoc documents:   0%|          | 0/1 [00:00<?, ?it/s]"
      ]
     },
     "metadata": {},
     "output_type": "display_data"
    },
    {
     "name": "stderr",
     "output_type": "stream",
     "text": [
      " 75%|██████████████████████████████████████████████████████████████████▏                     | 67/89 [03:40<01:15,  3.44s/it]Traceback (most recent call last):\n",
      "  File \"/var/folders/ql/m5k56v8n5sz5880n5sksmc9w0000gn/T/ipykernel_6105/617359052.py\", line 54, in <module>\n",
      "    mids = mpr.get_material_ids(s.composition.reduced_formula)\n",
      "  File \"/Users/shyue/miniconda3/envs/mavrl/lib/python3.9/site-packages/mp_api/client/mprester.py\", line 417, in get_material_ids\n",
      "    for doc in self.materials.search(\n",
      "  File \"/Users/shyue/miniconda3/envs/mavrl/lib/python3.9/site-packages/mp_api/client/routes/materials.py\", line 172, in search\n",
      "    return super()._search(\n",
      "  File \"/Users/shyue/miniconda3/envs/mavrl/lib/python3.9/site-packages/mp_api/client/core/client.py\", line 940, in _search\n",
      "    return self._get_all_documents(\n",
      "  File \"/Users/shyue/miniconda3/envs/mavrl/lib/python3.9/site-packages/mp_api/client/core/client.py\", line 987, in _get_all_documents\n",
      "    results = self._query_resource(\n",
      "  File \"/Users/shyue/miniconda3/envs/mavrl/lib/python3.9/site-packages/mp_api/client/core/client.py\", line 288, in _query_resource\n",
      "    data = self._submit_requests(\n",
      "  File \"/Users/shyue/miniconda3/envs/mavrl/lib/python3.9/site-packages/mp_api/client/core/client.py\", line 429, in _submit_requests\n",
      "    initial_data_tuples = self._multi_thread(\n",
      "  File \"/Users/shyue/miniconda3/envs/mavrl/lib/python3.9/site-packages/mp_api/client/core/client.py\", line 643, in _multi_thread\n",
      "    data, subtotal = future.result()\n",
      "  File \"/Users/shyue/miniconda3/envs/mavrl/lib/python3.9/concurrent/futures/_base.py\", line 439, in result\n",
      "    return self.__get_result()\n",
      "  File \"/Users/shyue/miniconda3/envs/mavrl/lib/python3.9/concurrent/futures/_base.py\", line 391, in __get_result\n",
      "    raise self._exception\n",
      "  File \"/Users/shyue/miniconda3/envs/mavrl/lib/python3.9/concurrent/futures/thread.py\", line 58, in run\n",
      "    result = self.fn(*self.args, **self.kwargs)\n",
      "  File \"/Users/shyue/miniconda3/envs/mavrl/lib/python3.9/site-packages/mp_api/client/core/client.py\", line 745, in _submit_request_and_process\n",
      "    raise MPRestError(\n",
      "mp_api.client.core.client.MPRestError: REST query returned with error status code 504 on URL https://api.materialsproject.org/materials/core/?deprecated=False&_fields=material_id&formula=KTaO3&_limit=1000 with message:\n",
      "Server timed out trying to obtain data. Try again with a smaller request.\n",
      " 76%|███████████████████████████████████████████████████████████████████▏                    | 68/89 [04:00<02:58,  8.50s/it]"
     ]
    },
    {
     "data": {
      "application/vnd.jupyter.widget-view+json": {
       "model_id": "b9767b417837458f9ca0eb8ac339a4df",
       "version_major": 2,
       "version_minor": 0
      },
      "text/plain": [
       "Retrieving MaterialsDoc documents:   0%|          | 0/4 [00:00<?, ?it/s]"
      ]
     },
     "metadata": {},
     "output_type": "display_data"
    },
    {
     "data": {
      "application/vnd.jupyter.widget-view+json": {
       "model_id": "bb36950023a04d31bb44b6fcb4facd27",
       "version_major": 2,
       "version_minor": 0
      },
      "text/plain": [
       "Retrieving MaterialsDoc documents:   0%|          | 0/1 [00:00<?, ?it/s]"
      ]
     },
     "metadata": {},
     "output_type": "display_data"
    },
    {
     "data": {
      "application/vnd.jupyter.widget-view+json": {
       "model_id": "1c1d33a96ee4495bacac65f4f01ee79a",
       "version_major": 2,
       "version_minor": 0
      },
      "text/plain": [
       "Retrieving MaterialsDoc documents:   0%|          | 0/1 [00:00<?, ?it/s]"
      ]
     },
     "metadata": {},
     "output_type": "display_data"
    },
    {
     "name": "stderr",
     "output_type": "stream",
     "text": [
      "\r",
      " 78%|████████████████████████████████████████████████████████████████████▏                   | 69/89 [04:11<03:05,  9.27s/it]"
     ]
    },
    {
     "data": {
      "application/vnd.jupyter.widget-view+json": {
       "model_id": "c673f3eadad147098519d50eab1f5287",
       "version_major": 2,
       "version_minor": 0
      },
      "text/plain": [
       "Retrieving MaterialsDoc documents:   0%|          | 0/2 [00:00<?, ?it/s]"
      ]
     },
     "metadata": {},
     "output_type": "display_data"
    },
    {
     "data": {
      "application/vnd.jupyter.widget-view+json": {
       "model_id": "12c98943678844dfbf85c8bd5c637ebe",
       "version_major": 2,
       "version_minor": 0
      },
      "text/plain": [
       "Retrieving MaterialsDoc documents:   0%|          | 0/1 [00:00<?, ?it/s]"
      ]
     },
     "metadata": {},
     "output_type": "display_data"
    },
    {
     "name": "stderr",
     "output_type": "stream",
     "text": [
      "\r",
      " 79%|█████████████████████████████████████████████████████████████████████▏                  | 70/89 [04:20<02:57,  9.35s/it]"
     ]
    },
    {
     "data": {
      "application/vnd.jupyter.widget-view+json": {
       "model_id": "bea3c75936c14ae091baa1acbc5a191f",
       "version_major": 2,
       "version_minor": 0
      },
      "text/plain": [
       "Retrieving MaterialsDoc documents:   0%|          | 0/1 [00:00<?, ?it/s]"
      ]
     },
     "metadata": {},
     "output_type": "display_data"
    },
    {
     "data": {
      "application/vnd.jupyter.widget-view+json": {
       "model_id": "3c8f18ee93a04605a0d88f053a2cfa81",
       "version_major": 2,
       "version_minor": 0
      },
      "text/plain": [
       "Retrieving MaterialsDoc documents:   0%|          | 0/1 [00:00<?, ?it/s]"
      ]
     },
     "metadata": {},
     "output_type": "display_data"
    },
    {
     "name": "stderr",
     "output_type": "stream",
     "text": [
      "\r",
      " 80%|██████████████████████████████████████████████████████████████████████▏                 | 71/89 [04:37<03:28, 11.61s/it]"
     ]
    },
    {
     "data": {
      "application/vnd.jupyter.widget-view+json": {
       "model_id": "df6e0d8e633248fdb1f4889d8480e349",
       "version_major": 2,
       "version_minor": 0
      },
      "text/plain": [
       "Retrieving MaterialsDoc documents:   0%|          | 0/3 [00:00<?, ?it/s]"
      ]
     },
     "metadata": {},
     "output_type": "display_data"
    },
    {
     "data": {
      "application/vnd.jupyter.widget-view+json": {
       "model_id": "b0d615b3cf8e48a2bb1013ff65026a6f",
       "version_major": 2,
       "version_minor": 0
      },
      "text/plain": [
       "Retrieving MaterialsDoc documents:   0%|          | 0/1 [00:00<?, ?it/s]"
      ]
     },
     "metadata": {},
     "output_type": "display_data"
    },
    {
     "data": {
      "application/vnd.jupyter.widget-view+json": {
       "model_id": "d6fcea037ec24a5f894636c214f9330f",
       "version_major": 2,
       "version_minor": 0
      },
      "text/plain": [
       "Retrieving MaterialsDoc documents:   0%|          | 0/1 [00:00<?, ?it/s]"
      ]
     },
     "metadata": {},
     "output_type": "display_data"
    },
    {
     "name": "stderr",
     "output_type": "stream",
     "text": [
      "\r",
      " 81%|███████████████████████████████████████████████████████████████████████▏                | 72/89 [04:55<03:48, 13.44s/it]"
     ]
    },
    {
     "data": {
      "application/vnd.jupyter.widget-view+json": {
       "model_id": "8b97f499c69844ff8685bea8b931d4b3",
       "version_major": 2,
       "version_minor": 0
      },
      "text/plain": [
       "Retrieving MaterialsDoc documents:   0%|          | 0/1 [00:00<?, ?it/s]"
      ]
     },
     "metadata": {},
     "output_type": "display_data"
    },
    {
     "data": {
      "application/vnd.jupyter.widget-view+json": {
       "model_id": "68c8fabb90e343a9bd2cf0b40ff5211f",
       "version_major": 2,
       "version_minor": 0
      },
      "text/plain": [
       "Retrieving MaterialsDoc documents:   0%|          | 0/1 [00:00<?, ?it/s]"
      ]
     },
     "metadata": {},
     "output_type": "display_data"
    },
    {
     "name": "stderr",
     "output_type": "stream",
     "text": [
      "\r",
      " 82%|████████████████████████████████████████████████████████████████████████▏               | 73/89 [04:57<02:37,  9.87s/it]"
     ]
    },
    {
     "data": {
      "application/vnd.jupyter.widget-view+json": {
       "model_id": "02b8a68c79fb40dcb6ccf379dec47efa",
       "version_major": 2,
       "version_minor": 0
      },
      "text/plain": [
       "Retrieving MaterialsDoc documents:   0%|          | 0/6 [00:00<?, ?it/s]"
      ]
     },
     "metadata": {},
     "output_type": "display_data"
    },
    {
     "data": {
      "application/vnd.jupyter.widget-view+json": {
       "model_id": "7a63a79e95b242459136128669a95a31",
       "version_major": 2,
       "version_minor": 0
      },
      "text/plain": [
       "Retrieving MaterialsDoc documents:   0%|          | 0/1 [00:00<?, ?it/s]"
      ]
     },
     "metadata": {},
     "output_type": "display_data"
    },
    {
     "name": "stderr",
     "output_type": "stream",
     "text": [
      "\r",
      " 83%|█████████████████████████████████████████████████████████████████████████▏              | 74/89 [04:57<01:45,  7.05s/it]"
     ]
    },
    {
     "data": {
      "application/vnd.jupyter.widget-view+json": {
       "model_id": "48e4e6bbe06548ceacb39dc71df521b6",
       "version_major": 2,
       "version_minor": 0
      },
      "text/plain": [
       "Retrieving MaterialsDoc documents:   0%|          | 0/2 [00:00<?, ?it/s]"
      ]
     },
     "metadata": {},
     "output_type": "display_data"
    },
    {
     "data": {
      "application/vnd.jupyter.widget-view+json": {
       "model_id": "3cb1bd943b7f4de3a47731325081d4a3",
       "version_major": 2,
       "version_minor": 0
      },
      "text/plain": [
       "Retrieving MaterialsDoc documents:   0%|          | 0/1 [00:00<?, ?it/s]"
      ]
     },
     "metadata": {},
     "output_type": "display_data"
    },
    {
     "name": "stderr",
     "output_type": "stream",
     "text": [
      "\r",
      " 84%|██████████████████████████████████████████████████████████████████████████▏             | 75/89 [04:58<01:12,  5.15s/it]"
     ]
    },
    {
     "data": {
      "application/vnd.jupyter.widget-view+json": {
       "model_id": "f8c0d166b5684df186dbb7d561c381fe",
       "version_major": 2,
       "version_minor": 0
      },
      "text/plain": [
       "Retrieving MaterialsDoc documents:   0%|          | 0/5 [00:00<?, ?it/s]"
      ]
     },
     "metadata": {},
     "output_type": "display_data"
    },
    {
     "data": {
      "application/vnd.jupyter.widget-view+json": {
       "model_id": "2f40bd7170704826a981da0c0678850f",
       "version_major": 2,
       "version_minor": 0
      },
      "text/plain": [
       "Retrieving MaterialsDoc documents:   0%|          | 0/1 [00:00<?, ?it/s]"
      ]
     },
     "metadata": {},
     "output_type": "display_data"
    },
    {
     "data": {
      "application/vnd.jupyter.widget-view+json": {
       "model_id": "9c80b86d9be940eab862a5ee139ef201",
       "version_major": 2,
       "version_minor": 0
      },
      "text/plain": [
       "Retrieving MaterialsDoc documents:   0%|          | 0/1 [00:00<?, ?it/s]"
      ]
     },
     "metadata": {},
     "output_type": "display_data"
    },
    {
     "data": {
      "application/vnd.jupyter.widget-view+json": {
       "model_id": "ca8bfe119f024440beb3d6ca71d7ef6e",
       "version_major": 2,
       "version_minor": 0
      },
      "text/plain": [
       "Retrieving MaterialsDoc documents:   0%|          | 0/1 [00:00<?, ?it/s]"
      ]
     },
     "metadata": {},
     "output_type": "display_data"
    },
    {
     "name": "stderr",
     "output_type": "stream",
     "text": [
      "\r",
      " 85%|███████████████████████████████████████████████████████████████████████████▏            | 76/89 [04:59<00:50,  3.91s/it]"
     ]
    },
    {
     "data": {
      "application/vnd.jupyter.widget-view+json": {
       "model_id": "cb7e07ccf40e4ddb9aa267e557684a67",
       "version_major": 2,
       "version_minor": 0
      },
      "text/plain": [
       "Retrieving MaterialsDoc documents:   0%|          | 0/12 [00:00<?, ?it/s]"
      ]
     },
     "metadata": {},
     "output_type": "display_data"
    },
    {
     "data": {
      "application/vnd.jupyter.widget-view+json": {
       "model_id": "d916123ecadf422b8b95bd6f3899ad2a",
       "version_major": 2,
       "version_minor": 0
      },
      "text/plain": [
       "Retrieving MaterialsDoc documents:   0%|          | 0/1 [00:00<?, ?it/s]"
      ]
     },
     "metadata": {},
     "output_type": "display_data"
    },
    {
     "data": {
      "application/vnd.jupyter.widget-view+json": {
       "model_id": "2c4b5fa8d4c54deab608f1b14e030a72",
       "version_major": 2,
       "version_minor": 0
      },
      "text/plain": [
       "Retrieving MaterialsDoc documents:   0%|          | 0/1 [00:00<?, ?it/s]"
      ]
     },
     "metadata": {},
     "output_type": "display_data"
    },
    {
     "name": "stderr",
     "output_type": "stream",
     "text": [
      "\r",
      " 87%|████████████████████████████████████████████████████████████████████████████▏           | 77/89 [05:00<00:35,  3.00s/it]"
     ]
    },
    {
     "data": {
      "application/vnd.jupyter.widget-view+json": {
       "model_id": "f5a496123e7d4fafb459b1ecb299b9c4",
       "version_major": 2,
       "version_minor": 0
      },
      "text/plain": [
       "Retrieving MaterialsDoc documents:   0%|          | 0/4 [00:00<?, ?it/s]"
      ]
     },
     "metadata": {},
     "output_type": "display_data"
    },
    {
     "data": {
      "application/vnd.jupyter.widget-view+json": {
       "model_id": "3518cd7c4c5d4b939840e106f6cf03ef",
       "version_major": 2,
       "version_minor": 0
      },
      "text/plain": [
       "Retrieving MaterialsDoc documents:   0%|          | 0/1 [00:00<?, ?it/s]"
      ]
     },
     "metadata": {},
     "output_type": "display_data"
    },
    {
     "name": "stderr",
     "output_type": "stream",
     "text": [
      "\r",
      " 88%|█████████████████████████████████████████████████████████████████████████████           | 78/89 [05:01<00:28,  2.59s/it]"
     ]
    },
    {
     "data": {
      "application/vnd.jupyter.widget-view+json": {
       "model_id": "6d4e6a58885e43e0857043ace005de51",
       "version_major": 2,
       "version_minor": 0
      },
      "text/plain": [
       "Retrieving MaterialsDoc documents:   0%|          | 0/11 [00:00<?, ?it/s]"
      ]
     },
     "metadata": {},
     "output_type": "display_data"
    },
    {
     "data": {
      "application/vnd.jupyter.widget-view+json": {
       "model_id": "4a397702b3ba49d4853010a2e9f3d9df",
       "version_major": 2,
       "version_minor": 0
      },
      "text/plain": [
       "Retrieving MaterialsDoc documents:   0%|          | 0/1 [00:00<?, ?it/s]"
      ]
     },
     "metadata": {},
     "output_type": "display_data"
    },
    {
     "name": "stderr",
     "output_type": "stream",
     "text": [
      "\r",
      " 89%|██████████████████████████████████████████████████████████████████████████████          | 79/89 [05:02<00:20,  2.00s/it]"
     ]
    },
    {
     "data": {
      "application/vnd.jupyter.widget-view+json": {
       "model_id": "0c2c8d84ad894bef80b6646784753001",
       "version_major": 2,
       "version_minor": 0
      },
      "text/plain": [
       "Retrieving MaterialsDoc documents:   0%|          | 0/5 [00:00<?, ?it/s]"
      ]
     },
     "metadata": {},
     "output_type": "display_data"
    },
    {
     "data": {
      "application/vnd.jupyter.widget-view+json": {
       "model_id": "a156f3bf119142faa6ff622567a4b293",
       "version_major": 2,
       "version_minor": 0
      },
      "text/plain": [
       "Retrieving MaterialsDoc documents:   0%|          | 0/1 [00:00<?, ?it/s]"
      ]
     },
     "metadata": {},
     "output_type": "display_data"
    },
    {
     "name": "stderr",
     "output_type": "stream",
     "text": [
      "\r",
      " 90%|███████████████████████████████████████████████████████████████████████████████         | 80/89 [05:04<00:17,  1.90s/it]"
     ]
    },
    {
     "data": {
      "application/vnd.jupyter.widget-view+json": {
       "model_id": "87f0fe6aa8e64d52b72254ecac38e89c",
       "version_major": 2,
       "version_minor": 0
      },
      "text/plain": [
       "Retrieving MaterialsDoc documents:   0%|          | 0/4 [00:00<?, ?it/s]"
      ]
     },
     "metadata": {},
     "output_type": "display_data"
    },
    {
     "data": {
      "application/vnd.jupyter.widget-view+json": {
       "model_id": "20d1fae7cf3c47059e270d10cc852bb3",
       "version_major": 2,
       "version_minor": 0
      },
      "text/plain": [
       "Retrieving MaterialsDoc documents:   0%|          | 0/1 [00:00<?, ?it/s]"
      ]
     },
     "metadata": {},
     "output_type": "display_data"
    },
    {
     "name": "stderr",
     "output_type": "stream",
     "text": [
      "\r",
      " 91%|████████████████████████████████████████████████████████████████████████████████        | 81/89 [05:04<00:11,  1.47s/it]"
     ]
    },
    {
     "data": {
      "application/vnd.jupyter.widget-view+json": {
       "model_id": "099d6cfaa3344553a7d711c358f32cfa",
       "version_major": 2,
       "version_minor": 0
      },
      "text/plain": [
       "Retrieving MaterialsDoc documents:   0%|          | 0/2 [00:00<?, ?it/s]"
      ]
     },
     "metadata": {},
     "output_type": "display_data"
    },
    {
     "data": {
      "application/vnd.jupyter.widget-view+json": {
       "model_id": "3a97a3edd627441d88ff508c832ee77b",
       "version_major": 2,
       "version_minor": 0
      },
      "text/plain": [
       "Retrieving MaterialsDoc documents:   0%|          | 0/1 [00:00<?, ?it/s]"
      ]
     },
     "metadata": {},
     "output_type": "display_data"
    },
    {
     "name": "stderr",
     "output_type": "stream",
     "text": [
      "\r",
      " 92%|█████████████████████████████████████████████████████████████████████████████████       | 82/89 [05:05<00:08,  1.24s/it]"
     ]
    },
    {
     "data": {
      "application/vnd.jupyter.widget-view+json": {
       "model_id": "407d9be870f44ec19e23f2acbbef17dd",
       "version_major": 2,
       "version_minor": 0
      },
      "text/plain": [
       "Retrieving MaterialsDoc documents:   0%|          | 0/9 [00:00<?, ?it/s]"
      ]
     },
     "metadata": {},
     "output_type": "display_data"
    },
    {
     "data": {
      "application/vnd.jupyter.widget-view+json": {
       "model_id": "bf250355fedf47059756036d73578aa5",
       "version_major": 2,
       "version_minor": 0
      },
      "text/plain": [
       "Retrieving MaterialsDoc documents:   0%|          | 0/1 [00:00<?, ?it/s]"
      ]
     },
     "metadata": {},
     "output_type": "display_data"
    },
    {
     "data": {
      "application/vnd.jupyter.widget-view+json": {
       "model_id": "be0f37e76d2043acad99db8d3a996c1f",
       "version_major": 2,
       "version_minor": 0
      },
      "text/plain": [
       "Retrieving MaterialsDoc documents:   0%|          | 0/1 [00:00<?, ?it/s]"
      ]
     },
     "metadata": {},
     "output_type": "display_data"
    },
    {
     "name": "stderr",
     "output_type": "stream",
     "text": [
      "\r",
      " 93%|██████████████████████████████████████████████████████████████████████████████████      | 83/89 [05:06<00:06,  1.15s/it]"
     ]
    },
    {
     "data": {
      "application/vnd.jupyter.widget-view+json": {
       "model_id": "5550fb2f8e31483b8b12056d61cc128d",
       "version_major": 2,
       "version_minor": 0
      },
      "text/plain": [
       "Retrieving MaterialsDoc documents:   0%|          | 0/14 [00:00<?, ?it/s]"
      ]
     },
     "metadata": {},
     "output_type": "display_data"
    },
    {
     "data": {
      "application/vnd.jupyter.widget-view+json": {
       "model_id": "d8255a0a87554280850dcf0dfecfb78b",
       "version_major": 2,
       "version_minor": 0
      },
      "text/plain": [
       "Retrieving MaterialsDoc documents:   0%|          | 0/1 [00:00<?, ?it/s]"
      ]
     },
     "metadata": {},
     "output_type": "display_data"
    },
    {
     "name": "stderr",
     "output_type": "stream",
     "text": [
      "\r",
      " 94%|███████████████████████████████████████████████████████████████████████████████████     | 84/89 [05:06<00:04,  1.02it/s]"
     ]
    },
    {
     "data": {
      "application/vnd.jupyter.widget-view+json": {
       "model_id": "7cd2029ad6cb4cda817da71075893613",
       "version_major": 2,
       "version_minor": 0
      },
      "text/plain": [
       "Retrieving MaterialsDoc documents:   0%|          | 0/15 [00:00<?, ?it/s]"
      ]
     },
     "metadata": {},
     "output_type": "display_data"
    },
    {
     "data": {
      "application/vnd.jupyter.widget-view+json": {
       "model_id": "2de0471a52774964916829f08aa32109",
       "version_major": 2,
       "version_minor": 0
      },
      "text/plain": [
       "Retrieving MaterialsDoc documents:   0%|          | 0/1 [00:00<?, ?it/s]"
      ]
     },
     "metadata": {},
     "output_type": "display_data"
    },
    {
     "name": "stderr",
     "output_type": "stream",
     "text": [
      "\r",
      " 96%|████████████████████████████████████████████████████████████████████████████████████    | 85/89 [05:07<00:03,  1.20it/s]"
     ]
    },
    {
     "data": {
      "application/vnd.jupyter.widget-view+json": {
       "model_id": "3d749862368a4d2ab8731cc761925ab1",
       "version_major": 2,
       "version_minor": 0
      },
      "text/plain": [
       "Retrieving MaterialsDoc documents:   0%|          | 0/20 [00:00<?, ?it/s]"
      ]
     },
     "metadata": {},
     "output_type": "display_data"
    },
    {
     "data": {
      "application/vnd.jupyter.widget-view+json": {
       "model_id": "82f1d4f2cd014d24903c8a0eab3e3c11",
       "version_major": 2,
       "version_minor": 0
      },
      "text/plain": [
       "Retrieving MaterialsDoc documents:   0%|          | 0/1 [00:00<?, ?it/s]"
      ]
     },
     "metadata": {},
     "output_type": "display_data"
    },
    {
     "name": "stderr",
     "output_type": "stream",
     "text": [
      "\r",
      " 97%|█████████████████████████████████████████████████████████████████████████████████████   | 86/89 [05:07<00:02,  1.40it/s]"
     ]
    },
    {
     "data": {
      "application/vnd.jupyter.widget-view+json": {
       "model_id": "338347d551a84213a1afe20f5fce33be",
       "version_major": 2,
       "version_minor": 0
      },
      "text/plain": [
       "Retrieving MaterialsDoc documents:   0%|          | 0/11 [00:00<?, ?it/s]"
      ]
     },
     "metadata": {},
     "output_type": "display_data"
    },
    {
     "data": {
      "application/vnd.jupyter.widget-view+json": {
       "model_id": "70f14c8198ff422b931e6ed2a9fa7139",
       "version_major": 2,
       "version_minor": 0
      },
      "text/plain": [
       "Retrieving MaterialsDoc documents:   0%|          | 0/1 [00:00<?, ?it/s]"
      ]
     },
     "metadata": {},
     "output_type": "display_data"
    },
    {
     "data": {
      "application/vnd.jupyter.widget-view+json": {
       "model_id": "3618532eb593401c98401a24fab5d1d2",
       "version_major": 2,
       "version_minor": 0
      },
      "text/plain": [
       "Retrieving MaterialsDoc documents:   0%|          | 0/1 [00:00<?, ?it/s]"
      ]
     },
     "metadata": {},
     "output_type": "display_data"
    },
    {
     "data": {
      "application/vnd.jupyter.widget-view+json": {
       "model_id": "4d5ba85dae5a43aea881d72d6246f8fa",
       "version_major": 2,
       "version_minor": 0
      },
      "text/plain": [
       "Retrieving MaterialsDoc documents:   0%|          | 0/1 [00:00<?, ?it/s]"
      ]
     },
     "metadata": {},
     "output_type": "display_data"
    },
    {
     "data": {
      "application/vnd.jupyter.widget-view+json": {
       "model_id": "2681c4aefd8c4f9ab44ed85486d12f44",
       "version_major": 2,
       "version_minor": 0
      },
      "text/plain": [
       "Retrieving MaterialsDoc documents:   0%|          | 0/1 [00:00<?, ?it/s]"
      ]
     },
     "metadata": {},
     "output_type": "display_data"
    },
    {
     "data": {
      "application/vnd.jupyter.widget-view+json": {
       "model_id": "3f8a41f94c8240da90e27287e7a19dd7",
       "version_major": 2,
       "version_minor": 0
      },
      "text/plain": [
       "Retrieving MaterialsDoc documents:   0%|          | 0/1 [00:00<?, ?it/s]"
      ]
     },
     "metadata": {},
     "output_type": "display_data"
    },
    {
     "data": {
      "application/vnd.jupyter.widget-view+json": {
       "model_id": "f412a7ac790b49aeb1c2e11127fc679d",
       "version_major": 2,
       "version_minor": 0
      },
      "text/plain": [
       "Retrieving MaterialsDoc documents:   0%|          | 0/1 [00:00<?, ?it/s]"
      ]
     },
     "metadata": {},
     "output_type": "display_data"
    },
    {
     "data": {
      "application/vnd.jupyter.widget-view+json": {
       "model_id": "ea63d3a73c364b23bc6af5fef520ceaf",
       "version_major": 2,
       "version_minor": 0
      },
      "text/plain": [
       "Retrieving MaterialsDoc documents:   0%|          | 0/1 [00:00<?, ?it/s]"
      ]
     },
     "metadata": {},
     "output_type": "display_data"
    },
    {
     "data": {
      "application/vnd.jupyter.widget-view+json": {
       "model_id": "993da045b55b46388ddf7066121a3443",
       "version_major": 2,
       "version_minor": 0
      },
      "text/plain": [
       "Retrieving MaterialsDoc documents:   0%|          | 0/1 [00:00<?, ?it/s]"
      ]
     },
     "metadata": {},
     "output_type": "display_data"
    },
    {
     "data": {
      "application/vnd.jupyter.widget-view+json": {
       "model_id": "72c47af89c0d4d91ac57a448099357af",
       "version_major": 2,
       "version_minor": 0
      },
      "text/plain": [
       "Retrieving MaterialsDoc documents:   0%|          | 0/1 [00:00<?, ?it/s]"
      ]
     },
     "metadata": {},
     "output_type": "display_data"
    },
    {
     "data": {
      "application/vnd.jupyter.widget-view+json": {
       "model_id": "fbfe58b330ba44fb94dc1f3410402970",
       "version_major": 2,
       "version_minor": 0
      },
      "text/plain": [
       "Retrieving MaterialsDoc documents:   0%|          | 0/1 [00:00<?, ?it/s]"
      ]
     },
     "metadata": {},
     "output_type": "display_data"
    },
    {
     "data": {
      "application/vnd.jupyter.widget-view+json": {
       "model_id": "634cb314d20f46969e53fb91c0abb4fc",
       "version_major": 2,
       "version_minor": 0
      },
      "text/plain": [
       "Retrieving MaterialsDoc documents:   0%|          | 0/1 [00:00<?, ?it/s]"
      ]
     },
     "metadata": {},
     "output_type": "display_data"
    },
    {
     "name": "stderr",
     "output_type": "stream",
     "text": [
      "Traceback (most recent call last):\n",
      "  File \"/var/folders/ql/m5k56v8n5sz5880n5sksmc9w0000gn/T/ipykernel_6105/617359052.py\", line 67, in <module>\n",
      "    raise RuntimeError\n",
      "RuntimeError\n",
      "\r",
      " 98%|██████████████████████████████████████████████████████████████████████████████████████  | 87/89 [05:09<00:02,  1.17s/it]"
     ]
    },
    {
     "data": {
      "application/vnd.jupyter.widget-view+json": {
       "model_id": "63d895ab015f4189b67f9ed995eb811f",
       "version_major": 2,
       "version_minor": 0
      },
      "text/plain": [
       "Retrieving MaterialsDoc documents:   0%|          | 0/6 [00:00<?, ?it/s]"
      ]
     },
     "metadata": {},
     "output_type": "display_data"
    },
    {
     "data": {
      "application/vnd.jupyter.widget-view+json": {
       "model_id": "45c164677d4842cd802de78e842bed19",
       "version_major": 2,
       "version_minor": 0
      },
      "text/plain": [
       "Retrieving MaterialsDoc documents:   0%|          | 0/1 [00:00<?, ?it/s]"
      ]
     },
     "metadata": {},
     "output_type": "display_data"
    },
    {
     "name": "stderr",
     "output_type": "stream",
     "text": [
      "\r",
      " 99%|███████████████████████████████████████████████████████████████████████████████████████ | 88/89 [05:10<00:00,  1.09it/s]"
     ]
    },
    {
     "data": {
      "application/vnd.jupyter.widget-view+json": {
       "model_id": "c034d4125cda4711abb2a62f2a338c80",
       "version_major": 2,
       "version_minor": 0
      },
      "text/plain": [
       "Retrieving MaterialsDoc documents:   0%|          | 0/6 [00:00<?, ?it/s]"
      ]
     },
     "metadata": {},
     "output_type": "display_data"
    },
    {
     "data": {
      "application/vnd.jupyter.widget-view+json": {
       "model_id": "001d0c35ea944ddcb34b268386056630",
       "version_major": 2,
       "version_minor": 0
      },
      "text/plain": [
       "Retrieving MaterialsDoc documents:   0%|          | 0/1 [00:00<?, ?it/s]"
      ]
     },
     "metadata": {},
     "output_type": "display_data"
    },
    {
     "data": {
      "application/vnd.jupyter.widget-view+json": {
       "model_id": "0fa45bbef49c41de8a09ce6a6e5a83d5",
       "version_major": 2,
       "version_minor": 0
      },
      "text/plain": [
       "Retrieving MaterialsDoc documents:   0%|          | 0/1 [00:00<?, ?it/s]"
      ]
     },
     "metadata": {},
     "output_type": "display_data"
    },
    {
     "data": {
      "application/vnd.jupyter.widget-view+json": {
       "model_id": "2d275fcb12c44f30a2a04a6ea382a1aa",
       "version_major": 2,
       "version_minor": 0
      },
      "text/plain": [
       "Retrieving MaterialsDoc documents:   0%|          | 0/1 [00:00<?, ?it/s]"
      ]
     },
     "metadata": {},
     "output_type": "display_data"
    },
    {
     "name": "stderr",
     "output_type": "stream",
     "text": [
      "100%|████████████████████████████████████████████████████████████████████████████████████████| 89/89 [05:11<00:00,  3.51s/it]\n"
     ]
    }
   ],
   "source": [
    "predicted = []\n",
    "mp = []\n",
    "mpr = MPRester()\n",
    "\n",
    "# Load the pre-trained M3GNet Potential\n",
    "model, d = M3GNet.load(\"M3GNet-MP-2021.2.8-PES\", include_json=True)\n",
    "metadata = d[\"metadata\"]\n",
    "data_std = metadata[\"data_std\"]\n",
    "data_mean = metadata[\"data_mean\"]\n",
    "element_refs = metadata[\"element_refs\"]\n",
    "# create the potential class\n",
    "pot = Potential(model, data_std=data_std, element_refs=element_refs)\n",
    "# create the M3GNet Relaxer\n",
    "relaxer = Relaxer(potential=pot)\n",
    "\n",
    "for formula, v in tqdm(data.iterrows(), total=len(data)):\n",
    "    formula = formula.split()[0]\n",
    "    c = Composition(formula)\n",
    "    els = sorted(c.elements)\n",
    "    cs = v[\"Crystal structure\"]\n",
    "\n",
    "    # We initialize all the crystals with an arbitrary lattice constant of 5 angstroms.\n",
    "    if \"Zinc blende\" in cs:\n",
    "        s = Structure.from_spacegroup(\"F-43m\", Lattice.cubic(4.5), [els[0], els[1]], [[0, 0, 0], [0.25, 0.25, 0.75]])\n",
    "    elif \"Halite\" in cs:\n",
    "        s = Structure.from_spacegroup(\"Fm-3m\", Lattice.cubic(4.5), [els[0], els[1]], [[0, 0, 0], [0.5, 0, 0]])\n",
    "    elif \"Caesium chloride\" in cs:\n",
    "        s = Structure.from_spacegroup(\"Pm-3m\", Lattice.cubic(4.5), [els[0], els[1]], [[0, 0, 0], [0.5, 0.5, 0.5]])\n",
    "    elif \"Cubic perovskite\" in cs:\n",
    "        s = Structure(\n",
    "            Lattice.cubic(5),\n",
    "            [els[0], els[1], els[2], els[2], els[2]],\n",
    "            [[0.0, 0.0, 0.0], [0.5, 0.5, 0.5], [0.5, 0.5, 0], [0.0, 0.5, 0.5], [0.5, 0, 0.5]],\n",
    "        )\n",
    "    elif \"Diamond\" in cs:\n",
    "        s = Structure.from_spacegroup(\"Fd-3m\", Lattice.cubic(5), [els[0]], [[0.25, 0.75, 0.25]])\n",
    "    elif \"BCC\" in cs:\n",
    "        s = Structure(Lattice.cubic(4.5), [els[0]] * 2, [[0.0, 0.0, 0.0], [0.5, 0.5, 0.5]])\n",
    "    elif \"FCC\" in cs:\n",
    "        s = Structure(Lattice.cubic(4.5), [els[0]] * 4, [[0.0, 0.0, 0.0], [0.5, 0.5, 0], [0.0, 0.5, 0.5], [0.5, 0, 0.5]])\n",
    "    else:\n",
    "        predicted.append(0)\n",
    "        mp.append(0)\n",
    "        continue\n",
    "\n",
    "    # print(s.composition.reduced_formula)\n",
    "    relax_results = relaxer.relax(s, fmax=0.01)\n",
    "\n",
    "    final_structure = relax_results[\"final_structure\"]\n",
    "\n",
    "    predicted.append(final_structure.lattice.a)\n",
    "\n",
    "    try:\n",
    "        mids = mpr.get_material_ids(s.composition.reduced_formula)\n",
    "        for i in mids:\n",
    "            try:\n",
    "                structure = mpr.get_structure_by_material_id(i)\n",
    "                sga = SpacegroupAnalyzer(structure)\n",
    "                sga2 = SpacegroupAnalyzer(final_structure)\n",
    "                if sga.get_space_group_number() == sga2.get_space_group_number():\n",
    "                    conv = sga.get_conventional_standard_structure()\n",
    "                    mp.append(conv.lattice.a)\n",
    "                    break\n",
    "            except Exception:\n",
    "                pass\n",
    "        else:\n",
    "            raise RuntimeError\n",
    "    except Exception:\n",
    "        mp.append(0)\n",
    "        traceback.print_exc()\n",
    "\n",
    "data[\"MP a (Å)\"] = mp\n",
    "data[\"Predicted a (Å)\"] = predicted"
   ]
  },
  {
   "cell_type": "code",
   "execution_count": null,
   "id": "8cdd6407",
   "metadata": {},
   "outputs": [],
   "source": [
    "data[\"% error vs Expt\"] = (data[\"Predicted a (Å)\"] - data[\"a (Å)\"]) / data[\"a (Å)\"]\n",
    "data[\"% error vs MP\"] = (data[\"Predicted a (Å)\"] - data[\"MP a (Å)\"]) / data[\"MP a (Å)\"]"
   ]
  },
  {
   "cell_type": "code",
   "execution_count": null,
   "id": "b71312dc",
   "metadata": {},
   "outputs": [
    {
     "name": "stderr",
     "output_type": "stream",
     "text": [
      "/Users/shyue/miniconda3/envs/mavrl/lib/python3.9/site-packages/pandas/io/formats/style.py:3559: RuntimeWarning: invalid value encountered in double_scalars\n",
      "  norm = mpl.colors.Normalize(smin - (rng * low), smax + (rng * high))\n"
     ]
    },
    {
     "data": {
      "text/html": [
       "<style type=\"text/css\">\n",
       "#T_d144f_row0_col1 {\n",
       "  background-color: #76aad0;\n",
       "  color: #f1f1f1;\n",
       "}\n",
       "#T_d144f_row0_col2 {\n",
       "  background-color: #056caa;\n",
       "  color: #f1f1f1;\n",
       "}\n",
       "#T_d144f_row0_col3 {\n",
       "  background-color: #4697c4;\n",
       "  color: #f1f1f1;\n",
       "}\n",
       "#T_d144f_row0_col4, #T_d144f_row26_col1, #T_d144f_row68_col2, #T_d144f_row68_col3 {\n",
       "  background-color: #023858;\n",
       "  color: #f1f1f1;\n",
       "}\n",
       "#T_d144f_row0_col5, #T_d144f_row1_col5, #T_d144f_row2_col5, #T_d144f_row3_col5, #T_d144f_row4_col5, #T_d144f_row5_col5, #T_d144f_row6_col5, #T_d144f_row7_col5, #T_d144f_row8_col5, #T_d144f_row9_col5, #T_d144f_row10_col5, #T_d144f_row11_col5, #T_d144f_row12_col5, #T_d144f_row13_col5, #T_d144f_row14_col5, #T_d144f_row15_col5, #T_d144f_row16_col5, #T_d144f_row17_col5, #T_d144f_row18_col5, #T_d144f_row19_col5, #T_d144f_row20_col5, #T_d144f_row21_col5, #T_d144f_row22_col5, #T_d144f_row23_col5, #T_d144f_row24_col5, #T_d144f_row25_col5, #T_d144f_row26_col5, #T_d144f_row27_col5, #T_d144f_row28_col5, #T_d144f_row29_col5, #T_d144f_row30_col5, #T_d144f_row31_col5, #T_d144f_row32_col5, #T_d144f_row33_col5, #T_d144f_row34_col5, #T_d144f_row35_col5, #T_d144f_row36_col5, #T_d144f_row37_col5, #T_d144f_row38_col5, #T_d144f_row39_col5, #T_d144f_row40_col5, #T_d144f_row41_col5, #T_d144f_row42_col5, #T_d144f_row43_col5, #T_d144f_row44_col5, #T_d144f_row45_col5, #T_d144f_row46_col5, #T_d144f_row47_col5, #T_d144f_row48_col5, #T_d144f_row49_col5, #T_d144f_row50_col5, #T_d144f_row51_col5, #T_d144f_row52_col5, #T_d144f_row53_col5, #T_d144f_row54_col5, #T_d144f_row55_col5, #T_d144f_row56_col5, #T_d144f_row57_col5, #T_d144f_row58_col5, #T_d144f_row59_col5, #T_d144f_row60_col5, #T_d144f_row61_col5, #T_d144f_row62_col5, #T_d144f_row63_col5, #T_d144f_row64_col5, #T_d144f_row65_col5, #T_d144f_row66_col5, #T_d144f_row67_col5, #T_d144f_row68_col5, #T_d144f_row69_col5, #T_d144f_row70_col5, #T_d144f_row71_col5, #T_d144f_row72_col5, #T_d144f_row73_col5, #T_d144f_row74_col5, #T_d144f_row75_col5, #T_d144f_row76_col5, #T_d144f_row77_col5, #T_d144f_row78_col5, #T_d144f_row79_col5, #T_d144f_row80_col5, #T_d144f_row81_col5, #T_d144f_row82_col5, #T_d144f_row83_col5, #T_d144f_row84_col5, #T_d144f_row85_col5, #T_d144f_row86_col5, #T_d144f_row87_col5, #T_d144f_row88_col5 {\n",
       "  background-color: #000000;\n",
       "  color: #f1f1f1;\n",
       "}\n",
       "#T_d144f_row1_col1 {\n",
       "  background-color: #d1d2e6;\n",
       "  color: #000000;\n",
       "}\n",
       "#T_d144f_row1_col2, #T_d144f_row86_col3 {\n",
       "  background-color: #589ec8;\n",
       "  color: #f1f1f1;\n",
       "}\n",
       "#T_d144f_row1_col3, #T_d144f_row7_col3 {\n",
       "  background-color: #c5cce3;\n",
       "  color: #000000;\n",
       "}\n",
       "#T_d144f_row1_col4, #T_d144f_row16_col4, #T_d144f_row23_col4, #T_d144f_row34_col4, #T_d144f_row68_col4 {\n",
       "  background-color: #034871;\n",
       "  color: #f1f1f1;\n",
       "}\n",
       "#T_d144f_row2_col1 {\n",
       "  background-color: #d2d3e7;\n",
       "  color: #000000;\n",
       "}\n",
       "#T_d144f_row2_col2, #T_d144f_row12_col1 {\n",
       "  background-color: #5c9fc9;\n",
       "  color: #f1f1f1;\n",
       "}\n",
       "#T_d144f_row2_col3, #T_d144f_row19_col1, #T_d144f_row82_col1 {\n",
       "  background-color: #cdd0e5;\n",
       "  color: #000000;\n",
       "}\n",
       "#T_d144f_row2_col4, #T_d144f_row8_col4, #T_d144f_row46_col4, #T_d144f_row51_col4, #T_d144f_row66_col2, #T_d144f_row70_col4, #T_d144f_row79_col4, #T_d144f_row82_col4, #T_d144f_row84_col4 {\n",
       "  background-color: #045483;\n",
       "  color: #f1f1f1;\n",
       "}\n",
       "#T_d144f_row3_col1, #T_d144f_row4_col3, #T_d144f_row7_col2, #T_d144f_row28_col1, #T_d144f_row29_col3, #T_d144f_row31_col1, #T_d144f_row67_col1, #T_d144f_row81_col2, #T_d144f_row84_col3 {\n",
       "  background-color: #549cc7;\n",
       "  color: #f1f1f1;\n",
       "}\n",
       "#T_d144f_row3_col2, #T_d144f_row31_col2 {\n",
       "  background-color: #056dab;\n",
       "  color: #f1f1f1;\n",
       "}\n",
       "#T_d144f_row3_col3, #T_d144f_row9_col2, #T_d144f_row67_col3 {\n",
       "  background-color: #3b92c1;\n",
       "  color: #f1f1f1;\n",
       "}\n",
       "#T_d144f_row3_col4, #T_d144f_row42_col4, #T_d144f_row49_col4, #T_d144f_row61_col4, #T_d144f_row67_col4, #T_d144f_row69_col4 {\n",
       "  background-color: #034d79;\n",
       "  color: #f1f1f1;\n",
       "}\n",
       "#T_d144f_row4_col1, #T_d144f_row29_col1 {\n",
       "  background-color: #67a4cc;\n",
       "  color: #f1f1f1;\n",
       "}\n",
       "#T_d144f_row4_col2, #T_d144f_row17_col4, #T_d144f_row29_col2 {\n",
       "  background-color: #0872b1;\n",
       "  color: #f1f1f1;\n",
       "}\n",
       "#T_d144f_row4_col4, #T_d144f_row11_col4, #T_d144f_row24_col4, #T_d144f_row29_col4, #T_d144f_row48_col4, #T_d144f_row55_col4, #T_d144f_row68_col1, #T_d144f_row75_col4, #T_d144f_row83_col4, #T_d144f_row86_col4 {\n",
       "  background-color: #03517e;\n",
       "  color: #f1f1f1;\n",
       "}\n",
       "#T_d144f_row5_col1 {\n",
       "  background-color: #2786bb;\n",
       "  color: #f1f1f1;\n",
       "}\n",
       "#T_d144f_row5_col2 {\n",
       "  background-color: #046097;\n",
       "  color: #f1f1f1;\n",
       "}\n",
       "#T_d144f_row5_col3, #T_d144f_row6_col2, #T_d144f_row30_col3 {\n",
       "  background-color: #0f76b3;\n",
       "  color: #f1f1f1;\n",
       "}\n",
       "#T_d144f_row5_col4, #T_d144f_row14_col4, #T_d144f_row35_col4, #T_d144f_row39_col4, #T_d144f_row40_col4, #T_d144f_row41_col4, #T_d144f_row42_col3, #T_d144f_row47_col4, #T_d144f_row52_col4, #T_d144f_row57_col4, #T_d144f_row62_col4 {\n",
       "  background-color: #034c78;\n",
       "  color: #f1f1f1;\n",
       "}\n",
       "#T_d144f_row6_col1, #T_d144f_row24_col2 {\n",
       "  background-color: #79abd0;\n",
       "  color: #f1f1f1;\n",
       "}\n",
       "#T_d144f_row6_col3, #T_d144f_row19_col3, #T_d144f_row51_col1, #T_d144f_row79_col1, #T_d144f_row81_col3 {\n",
       "  background-color: #c6cce3;\n",
       "  color: #000000;\n",
       "}\n",
       "#T_d144f_row6_col4, #T_d144f_row69_col2 {\n",
       "  background-color: #6da6cd;\n",
       "  color: #f1f1f1;\n",
       "}\n",
       "#T_d144f_row7_col1, #T_d144f_row64_col3 {\n",
       "  background-color: #d2d2e7;\n",
       "  color: #000000;\n",
       "}\n",
       "#T_d144f_row7_col4, #T_d144f_row15_col4, #T_d144f_row36_col4 {\n",
       "  background-color: #03476f;\n",
       "  color: #f1f1f1;\n",
       "}\n",
       "#T_d144f_row8_col1 {\n",
       "  background-color: #e6e2ef;\n",
       "  color: #000000;\n",
       "}\n",
       "#T_d144f_row8_col2, #T_d144f_row46_col3 {\n",
       "  background-color: #78abd0;\n",
       "  color: #f1f1f1;\n",
       "}\n",
       "#T_d144f_row8_col3, #T_d144f_row24_col3 {\n",
       "  background-color: #e3e0ee;\n",
       "  color: #000000;\n",
       "}\n",
       "#T_d144f_row9_col1 {\n",
       "  background-color: #b3c3de;\n",
       "  color: #000000;\n",
       "}\n",
       "#T_d144f_row9_col3 {\n",
       "  background-color: #a9bfdc;\n",
       "  color: #000000;\n",
       "}\n",
       "#T_d144f_row9_col4, #T_d144f_row32_col4, #T_d144f_row36_col2, #T_d144f_row59_col4, #T_d144f_row78_col4 {\n",
       "  background-color: #045382;\n",
       "  color: #f1f1f1;\n",
       "}\n",
       "#T_d144f_row10_col1 {\n",
       "  background-color: #8eb3d5;\n",
       "  color: #000000;\n",
       "}\n",
       "#T_d144f_row10_col2, #T_d144f_row26_col4, #T_d144f_row27_col1, #T_d144f_row27_col3, #T_d144f_row43_col2, #T_d144f_row61_col2 {\n",
       "  background-color: #fff7fb;\n",
       "  color: #000000;\n",
       "}\n",
       "#T_d144f_row10_col3 {\n",
       "  background-color: #94b6d7;\n",
       "  color: #000000;\n",
       "}\n",
       "#T_d144f_row10_col4, #T_d144f_row39_col3, #T_d144f_row72_col2 {\n",
       "  background-color: #04639b;\n",
       "  color: #f1f1f1;\n",
       "}\n",
       "#T_d144f_row11_col1, #T_d144f_row59_col3 {\n",
       "  background-color: #e8e4f0;\n",
       "  color: #000000;\n",
       "}\n",
       "#T_d144f_row11_col2 {\n",
       "  background-color: #7bacd1;\n",
       "  color: #f1f1f1;\n",
       "}\n",
       "#T_d144f_row11_col3 {\n",
       "  background-color: #e4e1ef;\n",
       "  color: #000000;\n",
       "}\n",
       "#T_d144f_row12_col2, #T_d144f_row39_col1, #T_d144f_row40_col3, #T_d144f_row53_col2 {\n",
       "  background-color: #056fae;\n",
       "  color: #f1f1f1;\n",
       "}\n",
       "#T_d144f_row12_col3 {\n",
       "  background-color: #509ac6;\n",
       "  color: #f1f1f1;\n",
       "}\n",
       "#T_d144f_row12_col4, #T_d144f_row73_col4 {\n",
       "  background-color: #04598c;\n",
       "  color: #f1f1f1;\n",
       "}\n",
       "#T_d144f_row13_col1 {\n",
       "  background-color: #dfddec;\n",
       "  color: #000000;\n",
       "}\n",
       "#T_d144f_row13_col2, #T_d144f_row86_col1 {\n",
       "  background-color: #6ba5cd;\n",
       "  color: #f1f1f1;\n",
       "}\n",
       "#T_d144f_row13_col3, #T_d144f_row64_col1 {\n",
       "  background-color: #d9d8ea;\n",
       "  color: #000000;\n",
       "}\n",
       "#T_d144f_row13_col4, #T_d144f_row22_col4, #T_d144f_row31_col4, #T_d144f_row54_col4, #T_d144f_row66_col4, #T_d144f_row74_col4 {\n",
       "  background-color: #034a74;\n",
       "  color: #f1f1f1;\n",
       "}\n",
       "#T_d144f_row14_col1 {\n",
       "  background-color: #4295c3;\n",
       "  color: #f1f1f1;\n",
       "}\n",
       "#T_d144f_row14_col2, #T_d144f_row35_col2, #T_d144f_row85_col4 {\n",
       "  background-color: #0567a2;\n",
       "  color: #f1f1f1;\n",
       "}\n",
       "#T_d144f_row14_col3 {\n",
       "  background-color: #2987bc;\n",
       "  color: #f1f1f1;\n",
       "}\n",
       "#T_d144f_row15_col1, #T_d144f_row20_col1, #T_d144f_row34_col1 {\n",
       "  background-color: #2d8abd;\n",
       "  color: #f1f1f1;\n",
       "}\n",
       "#T_d144f_row15_col2, #T_d144f_row30_col2, #T_d144f_row66_col3 {\n",
       "  background-color: #046299;\n",
       "  color: #f1f1f1;\n",
       "}\n",
       "#T_d144f_row15_col3, #T_d144f_row41_col2 {\n",
       "  background-color: #1077b4;\n",
       "  color: #f1f1f1;\n",
       "}\n",
       "#T_d144f_row16_col1, #T_d144f_row36_col1, #T_d144f_row38_col2 {\n",
       "  background-color: #0c74b2;\n",
       "  color: #f1f1f1;\n",
       "}\n",
       "#T_d144f_row16_col2, #T_d144f_row65_col3, #T_d144f_row72_col4, #T_d144f_row77_col4, #T_d144f_row81_col4 {\n",
       "  background-color: #045687;\n",
       "  color: #f1f1f1;\n",
       "}\n",
       "#T_d144f_row16_col3 {\n",
       "  background-color: #05659f;\n",
       "  color: #f1f1f1;\n",
       "}\n",
       "#T_d144f_row17_col1, #T_d144f_row44_col2, #T_d144f_row60_col3 {\n",
       "  background-color: #81aed2;\n",
       "  color: #f1f1f1;\n",
       "}\n",
       "#T_d144f_row17_col2, #T_d144f_row48_col1 {\n",
       "  background-color: #328dbf;\n",
       "  color: #f1f1f1;\n",
       "}\n",
       "#T_d144f_row17_col3, #T_d144f_row18_col2, #T_d144f_row54_col3, #T_d144f_row87_col3 {\n",
       "  background-color: #9cb9d9;\n",
       "  color: #000000;\n",
       "}\n",
       "#T_d144f_row18_col1, #T_d144f_row18_col3 {\n",
       "  background-color: #fef6fb;\n",
       "  color: #000000;\n",
       "}\n",
       "#T_d144f_row18_col4, #T_d144f_row27_col4, #T_d144f_row62_col2 {\n",
       "  background-color: #045788;\n",
       "  color: #f1f1f1;\n",
       "}\n",
       "#T_d144f_row19_col2, #T_d144f_row49_col2, #T_d144f_row51_col2, #T_d144f_row58_col2 {\n",
       "  background-color: #529bc7;\n",
       "  color: #f1f1f1;\n",
       "}\n",
       "#T_d144f_row19_col4, #T_d144f_row39_col2 {\n",
       "  background-color: #045585;\n",
       "  color: #f1f1f1;\n",
       "}\n",
       "#T_d144f_row20_col2 {\n",
       "  background-color: #045f95;\n",
       "  color: #f1f1f1;\n",
       "}\n",
       "#T_d144f_row20_col3, #T_d144f_row26_col2, #T_d144f_row63_col2, #T_d144f_row73_col2, #T_d144f_row74_col2 {\n",
       "  background-color: #65a3cb;\n",
       "  color: #f1f1f1;\n",
       "}\n",
       "#T_d144f_row20_col4, #T_d144f_row60_col2, #T_d144f_row61_col3 {\n",
       "  background-color: #2182b9;\n",
       "  color: #f1f1f1;\n",
       "}\n",
       "#T_d144f_row21_col1, #T_d144f_row43_col3 {\n",
       "  background-color: #ced0e6;\n",
       "  color: #000000;\n",
       "}\n",
       "#T_d144f_row21_col2, #T_d144f_row53_col1, #T_d144f_row71_col3, #T_d144f_row82_col2 {\n",
       "  background-color: #569dc8;\n",
       "  color: #f1f1f1;\n",
       "}\n",
       "#T_d144f_row21_col3 {\n",
       "  background-color: #c2cbe2;\n",
       "  color: #000000;\n",
       "}\n",
       "#T_d144f_row21_col4, #T_d144f_row30_col4, #T_d144f_row60_col4, #T_d144f_row63_col4, #T_d144f_row65_col2 {\n",
       "  background-color: #034973;\n",
       "  color: #f1f1f1;\n",
       "}\n",
       "#T_d144f_row22_col1, #T_d144f_row87_col2 {\n",
       "  background-color: #308cbe;\n",
       "  color: #f1f1f1;\n",
       "}\n",
       "#T_d144f_row22_col2, #T_d144f_row36_col3, #T_d144f_row65_col1 {\n",
       "  background-color: #04649e;\n",
       "  color: #f1f1f1;\n",
       "}\n",
       "#T_d144f_row22_col3 {\n",
       "  background-color: #167bb6;\n",
       "  color: #f1f1f1;\n",
       "}\n",
       "#T_d144f_row23_col1, #T_d144f_row57_col3, #T_d144f_row88_col1 {\n",
       "  background-color: #b0c2de;\n",
       "  color: #000000;\n",
       "}\n",
       "#T_d144f_row23_col2 {\n",
       "  background-color: #348ebf;\n",
       "  color: #f1f1f1;\n",
       "}\n",
       "#T_d144f_row23_col3 {\n",
       "  background-color: #9fbad9;\n",
       "  color: #000000;\n",
       "}\n",
       "#T_d144f_row24_col1 {\n",
       "  background-color: #e7e3f0;\n",
       "  color: #000000;\n",
       "}\n",
       "#T_d144f_row25_col1, #T_d144f_row25_col3 {\n",
       "  background-color: #adc1dd;\n",
       "  color: #000000;\n",
       "}\n",
       "#T_d144f_row25_col2, #T_d144f_row35_col1 {\n",
       "  background-color: #3f93c2;\n",
       "  color: #f1f1f1;\n",
       "}\n",
       "#T_d144f_row25_col4 {\n",
       "  background-color: #045e93;\n",
       "  color: #f1f1f1;\n",
       "}\n",
       "#T_d144f_row26_col3 {\n",
       "  background-color: #d4d4e8;\n",
       "  color: #000000;\n",
       "}\n",
       "#T_d144f_row27_col2 {\n",
       "  background-color: #a1bbda;\n",
       "  color: #000000;\n",
       "}\n",
       "#T_d144f_row28_col2 {\n",
       "  background-color: #056ba7;\n",
       "  color: #f1f1f1;\n",
       "}\n",
       "#T_d144f_row28_col3, #T_d144f_row54_col2 {\n",
       "  background-color: #3991c1;\n",
       "  color: #f1f1f1;\n",
       "}\n",
       "#T_d144f_row28_col4, #T_d144f_row64_col4, #T_d144f_row65_col4 {\n",
       "  background-color: #034b76;\n",
       "  color: #f1f1f1;\n",
       "}\n",
       "#T_d144f_row30_col1 {\n",
       "  background-color: #2a88bc;\n",
       "  color: #f1f1f1;\n",
       "}\n",
       "#T_d144f_row31_col3, #T_d144f_row32_col2, #T_d144f_row52_col1 {\n",
       "  background-color: #358fc0;\n",
       "  color: #f1f1f1;\n",
       "}\n",
       "#T_d144f_row32_col1, #T_d144f_row33_col3 {\n",
       "  background-color: #abbfdc;\n",
       "  color: #000000;\n",
       "}\n",
       "#T_d144f_row32_col3 {\n",
       "  background-color: #a2bcda;\n",
       "  color: #000000;\n",
       "}\n",
       "#T_d144f_row33_col1, #T_d144f_row57_col1 {\n",
       "  background-color: #bcc7e1;\n",
       "  color: #000000;\n",
       "}\n",
       "#T_d144f_row33_col2, #T_d144f_row53_col3, #T_d144f_row70_col2 {\n",
       "  background-color: #3d93c2;\n",
       "  color: #f1f1f1;\n",
       "}\n",
       "#T_d144f_row33_col4 {\n",
       "  background-color: #03446a;\n",
       "  color: #f1f1f1;\n",
       "}\n",
       "#T_d144f_row34_col2 {\n",
       "  background-color: #04629a;\n",
       "  color: #f1f1f1;\n",
       "}\n",
       "#T_d144f_row34_col3 {\n",
       "  background-color: #1278b4;\n",
       "  color: #f1f1f1;\n",
       "}\n",
       "#T_d144f_row35_col3 {\n",
       "  background-color: #2685bb;\n",
       "  color: #f1f1f1;\n",
       "}\n",
       "#T_d144f_row37_col1, #T_d144f_row74_col1 {\n",
       "  background-color: #dcdaeb;\n",
       "  color: #000000;\n",
       "}\n",
       "#T_d144f_row37_col2, #T_d144f_row71_col1 {\n",
       "  background-color: #69a5cc;\n",
       "  color: #f1f1f1;\n",
       "}\n",
       "#T_d144f_row37_col3 {\n",
       "  background-color: #d7d6e9;\n",
       "  color: #000000;\n",
       "}\n",
       "#T_d144f_row37_col4, #T_d144f_row45_col4, #T_d144f_row50_col4, #T_d144f_row88_col4 {\n",
       "  background-color: #034f7d;\n",
       "  color: #f1f1f1;\n",
       "}\n",
       "#T_d144f_row38_col1 {\n",
       "  background-color: #7dacd1;\n",
       "  color: #f1f1f1;\n",
       "}\n",
       "#T_d144f_row38_col3 {\n",
       "  background-color: #60a1ca;\n",
       "  color: #f1f1f1;\n",
       "}\n",
       "#T_d144f_row38_col4 {\n",
       "  background-color: #03466e;\n",
       "  color: #f1f1f1;\n",
       "}\n",
       "#T_d144f_row40_col1 {\n",
       "  background-color: #1b7eb7;\n",
       "  color: #f1f1f1;\n",
       "}\n",
       "#T_d144f_row40_col2, #T_d144f_row42_col1 {\n",
       "  background-color: #045e94;\n",
       "  color: #f1f1f1;\n",
       "}\n",
       "#T_d144f_row41_col1 {\n",
       "  background-color: #73a9cf;\n",
       "  color: #f1f1f1;\n",
       "}\n",
       "#T_d144f_row41_col3, #T_d144f_row47_col2 {\n",
       "  background-color: #5a9ec9;\n",
       "  color: #f1f1f1;\n",
       "}\n",
       "#T_d144f_row42_col2 {\n",
       "  background-color: #034369;\n",
       "  color: #f1f1f1;\n",
       "}\n",
       "#T_d144f_row43_col1, #T_d144f_row73_col1, #T_d144f_row74_col3 {\n",
       "  background-color: #d5d5e8;\n",
       "  color: #000000;\n",
       "}\n",
       "#T_d144f_row43_col4, #T_d144f_row53_col4 {\n",
       "  background-color: #034e7b;\n",
       "  color: #f1f1f1;\n",
       "}\n",
       "#T_d144f_row44_col1 {\n",
       "  background-color: #ece7f2;\n",
       "  color: #000000;\n",
       "}\n",
       "#T_d144f_row44_col3, #T_d144f_row59_col1 {\n",
       "  background-color: #ebe6f2;\n",
       "  color: #000000;\n",
       "}\n",
       "#T_d144f_row44_col4, #T_d144f_row55_col2 {\n",
       "  background-color: #045a8d;\n",
       "  color: #f1f1f1;\n",
       "}\n",
       "#T_d144f_row45_col1, #T_d144f_row64_col2, #T_d144f_row84_col1 {\n",
       "  background-color: #63a2cb;\n",
       "  color: #f1f1f1;\n",
       "}\n",
       "#T_d144f_row45_col2, #T_d144f_row71_col2 {\n",
       "  background-color: #0a73b2;\n",
       "  color: #f1f1f1;\n",
       "}\n",
       "#T_d144f_row45_col3, #T_d144f_row79_col2 {\n",
       "  background-color: #4e9ac6;\n",
       "  color: #f1f1f1;\n",
       "}\n",
       "#T_d144f_row46_col1 {\n",
       "  background-color: #83afd3;\n",
       "  color: #f1f1f1;\n",
       "}\n",
       "#T_d144f_row46_col2 {\n",
       "  background-color: #1c7fb8;\n",
       "  color: #f1f1f1;\n",
       "}\n",
       "#T_d144f_row47_col1, #T_d144f_row63_col3, #T_d144f_row73_col3 {\n",
       "  background-color: #d3d4e7;\n",
       "  color: #000000;\n",
       "}\n",
       "#T_d144f_row47_col3 {\n",
       "  background-color: #cacee5;\n",
       "  color: #000000;\n",
       "}\n",
       "#T_d144f_row48_col2 {\n",
       "  background-color: #0566a0;\n",
       "  color: #f1f1f1;\n",
       "}\n",
       "#T_d144f_row48_col3, #T_d144f_row52_col3, #T_d144f_row72_col3, #T_d144f_row77_col2 {\n",
       "  background-color: #1e80b8;\n",
       "  color: #f1f1f1;\n",
       "}\n",
       "#T_d144f_row49_col1, #T_d144f_row82_col3 {\n",
       "  background-color: #c8cde4;\n",
       "  color: #000000;\n",
       "}\n",
       "#T_d144f_row49_col3 {\n",
       "  background-color: #bfc9e1;\n",
       "  color: #000000;\n",
       "}\n",
       "#T_d144f_row50_col1 {\n",
       "  background-color: #f7f0f7;\n",
       "  color: #000000;\n",
       "}\n",
       "#T_d144f_row50_col2, #T_d144f_row83_col2 {\n",
       "  background-color: #91b5d6;\n",
       "  color: #000000;\n",
       "}\n",
       "#T_d144f_row50_col3 {\n",
       "  background-color: #f5eef6;\n",
       "  color: #000000;\n",
       "}\n",
       "#T_d144f_row51_col3 {\n",
       "  background-color: #c1cae2;\n",
       "  color: #000000;\n",
       "}\n",
       "#T_d144f_row52_col2 {\n",
       "  background-color: #0567a1;\n",
       "  color: #f1f1f1;\n",
       "}\n",
       "#T_d144f_row54_col1, #T_d144f_row70_col3 {\n",
       "  background-color: #acc0dd;\n",
       "  color: #000000;\n",
       "}\n",
       "#T_d144f_row55_col1, #T_d144f_row62_col1, #T_d144f_row84_col2, #T_d144f_row86_col2 {\n",
       "  background-color: #0d75b3;\n",
       "  color: #f1f1f1;\n",
       "}\n",
       "#T_d144f_row55_col3 {\n",
       "  background-color: #056aa6;\n",
       "  color: #f1f1f1;\n",
       "}\n",
       "#T_d144f_row56_col1 {\n",
       "  background-color: #f2ecf5;\n",
       "  color: #000000;\n",
       "}\n",
       "#T_d144f_row56_col2 {\n",
       "  background-color: #88b1d4;\n",
       "  color: #000000;\n",
       "}\n",
       "#T_d144f_row56_col3, #T_d144f_row75_col3 {\n",
       "  background-color: #f0eaf4;\n",
       "  color: #000000;\n",
       "}\n",
       "#T_d144f_row56_col4, #T_d144f_row71_col4, #T_d144f_row76_col4, #T_d144f_row87_col4 {\n",
       "  background-color: #045280;\n",
       "  color: #f1f1f1;\n",
       "}\n",
       "#T_d144f_row57_col2, #T_d144f_row76_col2 {\n",
       "  background-color: #4094c3;\n",
       "  color: #f1f1f1;\n",
       "}\n",
       "#T_d144f_row58_col1, #T_d144f_row58_col3, #T_d144f_row78_col3, #T_d144f_row85_col3 {\n",
       "  background-color: #b9c6e0;\n",
       "  color: #000000;\n",
       "}\n",
       "#T_d144f_row58_col4 {\n",
       "  background-color: #045c90;\n",
       "  color: #f1f1f1;\n",
       "}\n",
       "#T_d144f_row59_col2 {\n",
       "  background-color: #80aed2;\n",
       "  color: #f1f1f1;\n",
       "}\n",
       "#T_d144f_row60_col1 {\n",
       "  background-color: #96b6d7;\n",
       "  color: #000000;\n",
       "}\n",
       "#T_d144f_row61_col1, #T_d144f_row88_col2 {\n",
       "  background-color: #3790c0;\n",
       "  color: #f1f1f1;\n",
       "}\n",
       "#T_d144f_row62_col3 {\n",
       "  background-color: #0568a3;\n",
       "  color: #f1f1f1;\n",
       "}\n",
       "#T_d144f_row63_col1 {\n",
       "  background-color: #dbdaeb;\n",
       "  color: #000000;\n",
       "}\n",
       "#T_d144f_row66_col1 {\n",
       "  background-color: #056faf;\n",
       "  color: #f1f1f1;\n",
       "}\n",
       "#T_d144f_row67_col2 {\n",
       "  background-color: #056dac;\n",
       "  color: #f1f1f1;\n",
       "}\n",
       "#T_d144f_row69_col1 {\n",
       "  background-color: #dedcec;\n",
       "  color: #000000;\n",
       "}\n",
       "#T_d144f_row69_col3 {\n",
       "  background-color: #d8d7e9;\n",
       "  color: #000000;\n",
       "}\n",
       "#T_d144f_row70_col1 {\n",
       "  background-color: #b4c4df;\n",
       "  color: #000000;\n",
       "}\n",
       "#T_d144f_row72_col1 {\n",
       "  background-color: #2c89bd;\n",
       "  color: #f1f1f1;\n",
       "}\n",
       "#T_d144f_row75_col1 {\n",
       "  background-color: #f1ebf5;\n",
       "  color: #000000;\n",
       "}\n",
       "#T_d144f_row75_col2, #T_d144f_row77_col1 {\n",
       "  background-color: #89b1d4;\n",
       "  color: #000000;\n",
       "}\n",
       "#T_d144f_row76_col1 {\n",
       "  background-color: #b8c6e0;\n",
       "  color: #000000;\n",
       "}\n",
       "#T_d144f_row76_col3, #T_d144f_row85_col1 {\n",
       "  background-color: #afc1dd;\n",
       "  color: #000000;\n",
       "}\n",
       "#T_d144f_row77_col3 {\n",
       "  background-color: #7eadd1;\n",
       "  color: #f1f1f1;\n",
       "}\n",
       "#T_d144f_row78_col1, #T_d144f_row79_col3 {\n",
       "  background-color: #c0c9e2;\n",
       "  color: #000000;\n",
       "}\n",
       "#T_d144f_row78_col2, #T_d144f_row85_col2 {\n",
       "  background-color: #4897c4;\n",
       "  color: #f1f1f1;\n",
       "}\n",
       "#T_d144f_row80_col1 {\n",
       "  background-color: #faf2f8;\n",
       "  color: #000000;\n",
       "}\n",
       "#T_d144f_row80_col2 {\n",
       "  background-color: #9ab8d8;\n",
       "  color: #000000;\n",
       "}\n",
       "#T_d144f_row80_col3 {\n",
       "  background-color: #faf3f9;\n",
       "  color: #000000;\n",
       "}\n",
       "#T_d144f_row80_col4 {\n",
       "  background-color: #045b8f;\n",
       "  color: #f1f1f1;\n",
       "}\n",
       "#T_d144f_row81_col1 {\n",
       "  background-color: #cccfe5;\n",
       "  color: #000000;\n",
       "}\n",
       "#T_d144f_row83_col1 {\n",
       "  background-color: #f6eff7;\n",
       "  color: #000000;\n",
       "}\n",
       "#T_d144f_row83_col3 {\n",
       "  background-color: #f4eef6;\n",
       "  color: #000000;\n",
       "}\n",
       "#T_d144f_row87_col1 {\n",
       "  background-color: #a7bddb;\n",
       "  color: #000000;\n",
       "}\n",
       "#T_d144f_row88_col3 {\n",
       "  background-color: #a5bddb;\n",
       "  color: #000000;\n",
       "}\n",
       "</style>\n",
       "<table id=\"T_d144f\">\n",
       "  <thead>\n",
       "    <tr>\n",
       "      <th class=\"blank level0\" >&nbsp;</th>\n",
       "      <th id=\"T_d144f_level0_col0\" class=\"col_heading level0 col0\" >Crystal structure</th>\n",
       "      <th id=\"T_d144f_level0_col1\" class=\"col_heading level0 col1\" >a (Å)</th>\n",
       "      <th id=\"T_d144f_level0_col2\" class=\"col_heading level0 col2\" >MP a (Å)</th>\n",
       "      <th id=\"T_d144f_level0_col3\" class=\"col_heading level0 col3\" >Predicted a (Å)</th>\n",
       "      <th id=\"T_d144f_level0_col4\" class=\"col_heading level0 col4\" >% error vs Expt</th>\n",
       "      <th id=\"T_d144f_level0_col5\" class=\"col_heading level0 col5\" >% error vs MP</th>\n",
       "    </tr>\n",
       "    <tr>\n",
       "      <th class=\"index_name level0\" >Material</th>\n",
       "      <th class=\"blank col0\" >&nbsp;</th>\n",
       "      <th class=\"blank col1\" >&nbsp;</th>\n",
       "      <th class=\"blank col2\" >&nbsp;</th>\n",
       "      <th class=\"blank col3\" >&nbsp;</th>\n",
       "      <th class=\"blank col4\" >&nbsp;</th>\n",
       "      <th class=\"blank col5\" >&nbsp;</th>\n",
       "    </tr>\n",
       "  </thead>\n",
       "  <tbody>\n",
       "    <tr>\n",
       "      <th id=\"T_d144f_level0_row0\" class=\"row_heading level0 row0\" >Ac</th>\n",
       "      <td id=\"T_d144f_row0_col0\" class=\"data row0 col0\" >FCC</td>\n",
       "      <td id=\"T_d144f_row0_col1\" class=\"data row0 col1\" >5.310000</td>\n",
       "      <td id=\"T_d144f_row0_col2\" class=\"data row0 col2\" >5.696211</td>\n",
       "      <td id=\"T_d144f_row0_col3\" class=\"data row0 col3\" >5.613508</td>\n",
       "      <td id=\"T_d144f_row0_col4\" class=\"data row0 col4\" >5.72%</td>\n",
       "      <td id=\"T_d144f_row0_col5\" class=\"data row0 col5\" >-1.45%</td>\n",
       "    </tr>\n",
       "    <tr>\n",
       "      <th id=\"T_d144f_level0_row1\" class=\"row_heading level0 row1\" >Ag</th>\n",
       "      <td id=\"T_d144f_row1_col0\" class=\"data row1 col0\" >FCC</td>\n",
       "      <td id=\"T_d144f_row1_col1\" class=\"data row1 col1\" >4.079000</td>\n",
       "      <td id=\"T_d144f_row1_col2\" class=\"data row1 col2\" >4.104356</td>\n",
       "      <td id=\"T_d144f_row1_col3\" class=\"data row1 col3\" >4.172203</td>\n",
       "      <td id=\"T_d144f_row1_col4\" class=\"data row1 col4\" >2.28%</td>\n",
       "      <td id=\"T_d144f_row1_col5\" class=\"data row1 col5\" >1.65%</td>\n",
       "    </tr>\n",
       "    <tr>\n",
       "      <th id=\"T_d144f_level0_row2\" class=\"row_heading level0 row2\" >Al</th>\n",
       "      <td id=\"T_d144f_row2_col0\" class=\"data row2 col0\" >FCC</td>\n",
       "      <td id=\"T_d144f_row2_col1\" class=\"data row2 col1\" >4.046000</td>\n",
       "      <td id=\"T_d144f_row2_col2\" class=\"data row2 col2\" >4.038930</td>\n",
       "      <td id=\"T_d144f_row2_col3\" class=\"data row2 col3\" >4.046954</td>\n",
       "      <td id=\"T_d144f_row2_col4\" class=\"data row2 col4\" >0.02%</td>\n",
       "      <td id=\"T_d144f_row2_col5\" class=\"data row2 col5\" >0.20%</td>\n",
       "    </tr>\n",
       "    <tr>\n",
       "      <th id=\"T_d144f_level0_row3\" class=\"row_heading level0 row3\" >AlAs</th>\n",
       "      <td id=\"T_d144f_row3_col0\" class=\"data row3 col0\" >Zinc blende (FCC)</td>\n",
       "      <td id=\"T_d144f_row3_col1\" class=\"data row3 col1\" >5.660500</td>\n",
       "      <td id=\"T_d144f_row3_col2\" class=\"data row3 col2\" >5.675802</td>\n",
       "      <td id=\"T_d144f_row3_col3\" class=\"data row3 col3\" >5.730905</td>\n",
       "      <td id=\"T_d144f_row3_col4\" class=\"data row3 col4\" >1.24%</td>\n",
       "      <td id=\"T_d144f_row3_col5\" class=\"data row3 col5\" >0.97%</td>\n",
       "    </tr>\n",
       "    <tr>\n",
       "      <th id=\"T_d144f_level0_row4\" class=\"row_heading level0 row4\" >AlP</th>\n",
       "      <td id=\"T_d144f_row4_col0\" class=\"data row4 col0\" >Zinc blende (FCC)</td>\n",
       "      <td id=\"T_d144f_row4_col1\" class=\"data row4 col1\" >5.451000</td>\n",
       "      <td id=\"T_d144f_row4_col2\" class=\"data row4 col2\" >5.472967</td>\n",
       "      <td id=\"T_d144f_row4_col3\" class=\"data row4 col3\" >5.489397</td>\n",
       "      <td id=\"T_d144f_row4_col4\" class=\"data row4 col4\" >0.70%</td>\n",
       "      <td id=\"T_d144f_row4_col5\" class=\"data row4 col5\" >0.30%</td>\n",
       "    </tr>\n",
       "    <tr>\n",
       "      <th id=\"T_d144f_level0_row5\" class=\"row_heading level0 row5\" >AlSb</th>\n",
       "      <td id=\"T_d144f_row5_col0\" class=\"data row5 col0\" >Zinc blende (FCC)</td>\n",
       "      <td id=\"T_d144f_row5_col1\" class=\"data row5 col1\" >6.135500</td>\n",
       "      <td id=\"T_d144f_row5_col2\" class=\"data row5 col2\" >6.185042</td>\n",
       "      <td id=\"T_d144f_row5_col3\" class=\"data row5 col3\" >6.228938</td>\n",
       "      <td id=\"T_d144f_row5_col4\" class=\"data row5 col4\" >1.52%</td>\n",
       "      <td id=\"T_d144f_row5_col5\" class=\"data row5 col5\" >0.71%</td>\n",
       "    </tr>\n",
       "    <tr>\n",
       "      <th id=\"T_d144f_level0_row6\" class=\"row_heading level0 row6\" >Ar</th>\n",
       "      <td id=\"T_d144f_row6_col0\" class=\"data row6 col0\" >FCC</td>\n",
       "      <td id=\"T_d144f_row6_col1\" class=\"data row6 col1\" >5.260000</td>\n",
       "      <td id=\"T_d144f_row6_col2\" class=\"data row6 col2\" >5.363160</td>\n",
       "      <td id=\"T_d144f_row6_col3\" class=\"data row6 col3\" >4.145401</td>\n",
       "      <td id=\"T_d144f_row6_col4\" class=\"data row6 col4\" >-21.19%</td>\n",
       "      <td id=\"T_d144f_row6_col5\" class=\"data row6 col5\" >-22.71%</td>\n",
       "    </tr>\n",
       "    <tr>\n",
       "      <th id=\"T_d144f_level0_row7\" class=\"row_heading level0 row7\" >Au</th>\n",
       "      <td id=\"T_d144f_row7_col0\" class=\"data row7 col0\" >FCC</td>\n",
       "      <td id=\"T_d144f_row7_col1\" class=\"data row7 col1\" >4.065000</td>\n",
       "      <td id=\"T_d144f_row7_col2\" class=\"data row7 col2\" >4.171289</td>\n",
       "      <td id=\"T_d144f_row7_col3\" class=\"data row7 col3\" >4.168613</td>\n",
       "      <td id=\"T_d144f_row7_col4\" class=\"data row7 col4\" >2.55%</td>\n",
       "      <td id=\"T_d144f_row7_col5\" class=\"data row7 col5\" >-0.06%</td>\n",
       "    </tr>\n",
       "    <tr>\n",
       "      <th id=\"T_d144f_level0_row8\" class=\"row_heading level0 row8\" >BN</th>\n",
       "      <td id=\"T_d144f_row8_col0\" class=\"data row8 col0\" >Zinc blende (FCC)</td>\n",
       "      <td id=\"T_d144f_row8_col1\" class=\"data row8 col1\" >3.615000</td>\n",
       "      <td id=\"T_d144f_row8_col2\" class=\"data row8 col2\" >3.626002</td>\n",
       "      <td id=\"T_d144f_row8_col3\" class=\"data row8 col3\" >3.615134</td>\n",
       "      <td id=\"T_d144f_row8_col4\" class=\"data row8 col4\" >0.00%</td>\n",
       "      <td id=\"T_d144f_row8_col5\" class=\"data row8 col5\" >-0.30%</td>\n",
       "    </tr>\n",
       "    <tr>\n",
       "      <th id=\"T_d144f_level0_row9\" class=\"row_heading level0 row9\" >BP</th>\n",
       "      <td id=\"T_d144f_row9_col0\" class=\"data row9 col0\" >Zinc blende (FCC)</td>\n",
       "      <td id=\"T_d144f_row9_col1\" class=\"data row9 col1\" >4.538000</td>\n",
       "      <td id=\"T_d144f_row9_col2\" class=\"data row9 col2\" >4.532145</td>\n",
       "      <td id=\"T_d144f_row9_col3\" class=\"data row9 col3\" >4.543347</td>\n",
       "      <td id=\"T_d144f_row9_col4\" class=\"data row9 col4\" >0.12%</td>\n",
       "      <td id=\"T_d144f_row9_col5\" class=\"data row9 col5\" >0.25%</td>\n",
       "    </tr>\n",
       "    <tr>\n",
       "      <th id=\"T_d144f_level0_row10\" class=\"row_heading level0 row10\" >Ba</th>\n",
       "      <td id=\"T_d144f_row10_col0\" class=\"data row10 col0\" >BCC</td>\n",
       "      <td id=\"T_d144f_row10_col1\" class=\"data row10 col1\" >5.020000</td>\n",
       "      <td id=\"T_d144f_row10_col2\" class=\"data row10 col2\" >0.000000</td>\n",
       "      <td id=\"T_d144f_row10_col3\" class=\"data row10 col3\" >4.814511</td>\n",
       "      <td id=\"T_d144f_row10_col4\" class=\"data row10 col4\" >-4.09%</td>\n",
       "      <td id=\"T_d144f_row10_col5\" class=\"data row10 col5\" >inf%</td>\n",
       "    </tr>\n",
       "    <tr>\n",
       "      <th id=\"T_d144f_level0_row11\" class=\"row_heading level0 row11\" >C (diamond)</th>\n",
       "      <td id=\"T_d144f_row11_col0\" class=\"data row11 col0\" >Diamond (FCC)</td>\n",
       "      <td id=\"T_d144f_row11_col1\" class=\"data row11 col1\" >3.567000</td>\n",
       "      <td id=\"T_d144f_row11_col2\" class=\"data row11 col2\" >3.560745</td>\n",
       "      <td id=\"T_d144f_row11_col3\" class=\"data row11 col3\" >3.590531</td>\n",
       "      <td id=\"T_d144f_row11_col4\" class=\"data row11 col4\" >0.66%</td>\n",
       "      <td id=\"T_d144f_row11_col5\" class=\"data row11 col5\" >0.84%</td>\n",
       "    </tr>\n",
       "    <tr>\n",
       "      <th id=\"T_d144f_level0_row12\" class=\"row_heading level0 row12\" >Ca</th>\n",
       "      <td id=\"T_d144f_row12_col0\" class=\"data row12 col0\" >FCC</td>\n",
       "      <td id=\"T_d144f_row12_col1\" class=\"data row12 col1\" >5.580000</td>\n",
       "      <td id=\"T_d144f_row12_col2\" class=\"data row12 col2\" >5.576816</td>\n",
       "      <td id=\"T_d144f_row12_col3\" class=\"data row12 col3\" >5.513572</td>\n",
       "      <td id=\"T_d144f_row12_col4\" class=\"data row12 col4\" >-1.19%</td>\n",
       "      <td id=\"T_d144f_row12_col5\" class=\"data row12 col5\" >-1.13%</td>\n",
       "    </tr>\n",
       "    <tr>\n",
       "      <th id=\"T_d144f_level0_row13\" class=\"row_heading level0 row13\" >CaVO3</th>\n",
       "      <td id=\"T_d144f_row13_col0\" class=\"data row13 col0\" >Cubic perovskite</td>\n",
       "      <td id=\"T_d144f_row13_col1\" class=\"data row13 col1\" >3.767000</td>\n",
       "      <td id=\"T_d144f_row13_col2\" class=\"data row13 col2\" >3.830406</td>\n",
       "      <td id=\"T_d144f_row13_col3\" class=\"data row13 col3\" >3.840965</td>\n",
       "      <td id=\"T_d144f_row13_col4\" class=\"data row13 col4\" >1.96%</td>\n",
       "      <td id=\"T_d144f_row13_col5\" class=\"data row13 col5\" >0.28%</td>\n",
       "    </tr>\n",
       "    <tr>\n",
       "      <th id=\"T_d144f_level0_row14\" class=\"row_heading level0 row14\" >CdS</th>\n",
       "      <td id=\"T_d144f_row14_col0\" class=\"data row14 col0\" >Zinc blende (FCC)</td>\n",
       "      <td id=\"T_d144f_row14_col1\" class=\"data row14 col1\" >5.832000</td>\n",
       "      <td id=\"T_d144f_row14_col2\" class=\"data row14 col2\" >5.885907</td>\n",
       "      <td id=\"T_d144f_row14_col3\" class=\"data row14 col3\" >5.922216</td>\n",
       "      <td id=\"T_d144f_row14_col4\" class=\"data row14 col4\" >1.55%</td>\n",
       "      <td id=\"T_d144f_row14_col5\" class=\"data row14 col5\" >0.62%</td>\n",
       "    </tr>\n",
       "    <tr>\n",
       "      <th id=\"T_d144f_level0_row15\" class=\"row_heading level0 row15\" >CdSe</th>\n",
       "      <td id=\"T_d144f_row15_col0\" class=\"data row15 col0\" >Zinc blende (FCC)</td>\n",
       "      <td id=\"T_d144f_row15_col1\" class=\"data row15 col1\" >6.050000</td>\n",
       "      <td id=\"T_d144f_row15_col2\" class=\"data row15 col2\" >6.140542</td>\n",
       "      <td id=\"T_d144f_row15_col3\" class=\"data row15 col3\" >6.211245</td>\n",
       "      <td id=\"T_d144f_row15_col4\" class=\"data row15 col4\" >2.67%</td>\n",
       "      <td id=\"T_d144f_row15_col5\" class=\"data row15 col5\" >1.15%</td>\n",
       "    </tr>\n",
       "    <tr>\n",
       "      <th id=\"T_d144f_level0_row16\" class=\"row_heading level0 row16\" >CdTe</th>\n",
       "      <td id=\"T_d144f_row16_col0\" class=\"data row16 col0\" >Zinc blende (FCC)</td>\n",
       "      <td id=\"T_d144f_row16_col1\" class=\"data row16 col1\" >6.482000</td>\n",
       "      <td id=\"T_d144f_row16_col2\" class=\"data row16 col2\" >6.564227</td>\n",
       "      <td id=\"T_d144f_row16_col3\" class=\"data row16 col3\" >6.630309</td>\n",
       "      <td id=\"T_d144f_row16_col4\" class=\"data row16 col4\" >2.29%</td>\n",
       "      <td id=\"T_d144f_row16_col5\" class=\"data row16 col5\" >1.01%</td>\n",
       "    </tr>\n",
       "    <tr>\n",
       "      <th id=\"T_d144f_level0_row17\" class=\"row_heading level0 row17\" >Ce</th>\n",
       "      <td id=\"T_d144f_row17_col0\" class=\"data row17 col0\" >FCC</td>\n",
       "      <td id=\"T_d144f_row17_col1\" class=\"data row17 col1\" >5.160000</td>\n",
       "      <td id=\"T_d144f_row17_col2\" class=\"data row17 col2\" >4.672429</td>\n",
       "      <td id=\"T_d144f_row17_col3\" class=\"data row17 col3\" >4.712238</td>\n",
       "      <td id=\"T_d144f_row17_col4\" class=\"data row17 col4\" >-8.68%</td>\n",
       "      <td id=\"T_d144f_row17_col5\" class=\"data row17 col5\" >0.85%</td>\n",
       "    </tr>\n",
       "    <tr>\n",
       "      <th id=\"T_d144f_level0_row18\" class=\"row_heading level0 row18\" >Cr</th>\n",
       "      <td id=\"T_d144f_row18_col0\" class=\"data row18 col0\" >BCC</td>\n",
       "      <td id=\"T_d144f_row18_col1\" class=\"data row18 col1\" >2.880000</td>\n",
       "      <td id=\"T_d144f_row18_col2\" class=\"data row18 col2\" >2.968899</td>\n",
       "      <td id=\"T_d144f_row18_col3\" class=\"data row18 col3\" >2.859300</td>\n",
       "      <td id=\"T_d144f_row18_col4\" class=\"data row18 col4\" >-0.72%</td>\n",
       "      <td id=\"T_d144f_row18_col5\" class=\"data row18 col5\" >-3.69%</td>\n",
       "    </tr>\n",
       "    <tr>\n",
       "      <th id=\"T_d144f_level0_row19\" class=\"row_heading level0 row19\" >CrN</th>\n",
       "      <td id=\"T_d144f_row19_col0\" class=\"data row19 col0\" >Halite</td>\n",
       "      <td id=\"T_d144f_row19_col1\" class=\"data row19 col1\" >4.149000</td>\n",
       "      <td id=\"T_d144f_row19_col2\" class=\"data row19 col2\" >4.190855</td>\n",
       "      <td id=\"T_d144f_row19_col3\" class=\"data row19 col3\" >4.142035</td>\n",
       "      <td id=\"T_d144f_row19_col4\" class=\"data row19 col4\" >-0.17%</td>\n",
       "      <td id=\"T_d144f_row19_col5\" class=\"data row19 col5\" >-1.16%</td>\n",
       "    </tr>\n",
       "    <tr>\n",
       "      <th id=\"T_d144f_level0_row20\" class=\"row_heading level0 row20\" >Cs</th>\n",
       "      <td id=\"T_d144f_row20_col0\" class=\"data row20 col0\" >BCC</td>\n",
       "      <td id=\"T_d144f_row20_col1\" class=\"data row20 col1\" >6.050000</td>\n",
       "      <td id=\"T_d144f_row20_col2\" class=\"data row20 col2\" >6.256930</td>\n",
       "      <td id=\"T_d144f_row20_col3\" class=\"data row20 col3\" >5.318184</td>\n",
       "      <td id=\"T_d144f_row20_col4\" class=\"data row20 col4\" >-12.10%</td>\n",
       "      <td id=\"T_d144f_row20_col5\" class=\"data row20 col5\" >-15.00%</td>\n",
       "    </tr>\n",
       "    <tr>\n",
       "      <th id=\"T_d144f_level0_row21\" class=\"row_heading level0 row21\" >CsCl</th>\n",
       "      <td id=\"T_d144f_row21_col0\" class=\"data row21 col0\" >Caesium chloride</td>\n",
       "      <td id=\"T_d144f_row21_col1\" class=\"data row21 col1\" >4.123000</td>\n",
       "      <td id=\"T_d144f_row21_col2\" class=\"data row21 col2\" >4.143698</td>\n",
       "      <td id=\"T_d144f_row21_col3\" class=\"data row21 col3\" >4.211410</td>\n",
       "      <td id=\"T_d144f_row21_col4\" class=\"data row21 col4\" >2.14%</td>\n",
       "      <td id=\"T_d144f_row21_col5\" class=\"data row21 col5\" >1.63%</td>\n",
       "    </tr>\n",
       "    <tr>\n",
       "      <th id=\"T_d144f_level0_row22\" class=\"row_heading level0 row22\" >CsF</th>\n",
       "      <td id=\"T_d144f_row22_col0\" class=\"data row22 col0\" >Halite</td>\n",
       "      <td id=\"T_d144f_row22_col1\" class=\"data row22 col1\" >6.020000</td>\n",
       "      <td id=\"T_d144f_row22_col2\" class=\"data row22 col2\" >6.012279</td>\n",
       "      <td id=\"T_d144f_row22_col3\" class=\"data row22 col3\" >6.135397</td>\n",
       "      <td id=\"T_d144f_row22_col4\" class=\"data row22 col4\" >1.92%</td>\n",
       "      <td id=\"T_d144f_row22_col5\" class=\"data row22 col5\" >2.05%</td>\n",
       "    </tr>\n",
       "    <tr>\n",
       "      <th id=\"T_d144f_level0_row23\" class=\"row_heading level0 row23\" >CsI</th>\n",
       "      <td id=\"T_d144f_row23_col0\" class=\"data row23 col0\" >Caesium chloride</td>\n",
       "      <td id=\"T_d144f_row23_col1\" class=\"data row23 col1\" >4.567000</td>\n",
       "      <td id=\"T_d144f_row23_col2\" class=\"data row23 col2\" >4.665212</td>\n",
       "      <td id=\"T_d144f_row23_col3\" class=\"data row23 col3\" >4.679304</td>\n",
       "      <td id=\"T_d144f_row23_col4\" class=\"data row23 col4\" >2.46%</td>\n",
       "      <td id=\"T_d144f_row23_col5\" class=\"data row23 col5\" >0.30%</td>\n",
       "    </tr>\n",
       "    <tr>\n",
       "      <th id=\"T_d144f_level0_row24\" class=\"row_heading level0 row24\" >Cu</th>\n",
       "      <td id=\"T_d144f_row24_col0\" class=\"data row24 col0\" >FCC</td>\n",
       "      <td id=\"T_d144f_row24_col1\" class=\"data row24 col1\" >3.597000</td>\n",
       "      <td id=\"T_d144f_row24_col2\" class=\"data row24 col2\" >3.577431</td>\n",
       "      <td id=\"T_d144f_row24_col3\" class=\"data row24 col3\" >3.616886</td>\n",
       "      <td id=\"T_d144f_row24_col4\" class=\"data row24 col4\" >0.55%</td>\n",
       "      <td id=\"T_d144f_row24_col5\" class=\"data row24 col5\" >1.10%</td>\n",
       "    </tr>\n",
       "    <tr>\n",
       "      <th id=\"T_d144f_level0_row25\" class=\"row_heading level0 row25\" >Eu</th>\n",
       "      <td id=\"T_d144f_row25_col0\" class=\"data row25 col0\" >BCC</td>\n",
       "      <td id=\"T_d144f_row25_col1\" class=\"data row25 col1\" >4.610000</td>\n",
       "      <td id=\"T_d144f_row25_col2\" class=\"data row25 col2\" >4.487602</td>\n",
       "      <td id=\"T_d144f_row25_col3\" class=\"data row25 col3\" >4.496991</td>\n",
       "      <td id=\"T_d144f_row25_col4\" class=\"data row25 col4\" >-2.45%</td>\n",
       "      <td id=\"T_d144f_row25_col5\" class=\"data row25 col5\" >0.21%</td>\n",
       "    </tr>\n",
       "    <tr>\n",
       "      <th id=\"T_d144f_level0_row26\" class=\"row_heading level0 row26\" >EuTiO3</th>\n",
       "      <td id=\"T_d144f_row26_col0\" class=\"data row26 col0\" >Cubic perovskite</td>\n",
       "      <td id=\"T_d144f_row26_col1\" class=\"data row26 col1\" >7.810000</td>\n",
       "      <td id=\"T_d144f_row26_col2\" class=\"data row26 col2\" >3.903881</td>\n",
       "      <td id=\"T_d144f_row26_col3\" class=\"data row26 col3\" >3.932595</td>\n",
       "      <td id=\"T_d144f_row26_col4\" class=\"data row26 col4\" >-49.65%</td>\n",
       "      <td id=\"T_d144f_row26_col5\" class=\"data row26 col5\" >0.74%</td>\n",
       "    </tr>\n",
       "    <tr>\n",
       "      <th id=\"T_d144f_level0_row27\" class=\"row_heading level0 row27\" >Fe</th>\n",
       "      <td id=\"T_d144f_row27_col0\" class=\"data row27 col0\" >BCC</td>\n",
       "      <td id=\"T_d144f_row27_col1\" class=\"data row27 col1\" >2.856000</td>\n",
       "      <td id=\"T_d144f_row27_col2\" class=\"data row27 col2\" >2.863035</td>\n",
       "      <td id=\"T_d144f_row27_col3\" class=\"data row27 col3\" >2.838155</td>\n",
       "      <td id=\"T_d144f_row27_col4\" class=\"data row27 col4\" >-0.62%</td>\n",
       "      <td id=\"T_d144f_row27_col5\" class=\"data row27 col5\" >-0.87%</td>\n",
       "    </tr>\n",
       "    <tr>\n",
       "      <th id=\"T_d144f_level0_row28\" class=\"row_heading level0 row28\" >GaAs</th>\n",
       "      <td id=\"T_d144f_row28_col0\" class=\"data row28 col0\" >Zinc blende (FCC)</td>\n",
       "      <td id=\"T_d144f_row28_col1\" class=\"data row28 col1\" >5.653000</td>\n",
       "      <td id=\"T_d144f_row28_col2\" class=\"data row28 col2\" >5.750182</td>\n",
       "      <td id=\"T_d144f_row28_col3\" class=\"data row28 col3\" >5.744501</td>\n",
       "      <td id=\"T_d144f_row28_col4\" class=\"data row28 col4\" >1.62%</td>\n",
       "      <td id=\"T_d144f_row28_col5\" class=\"data row28 col5\" >-0.10%</td>\n",
       "    </tr>\n",
       "    <tr>\n",
       "      <th id=\"T_d144f_level0_row29\" class=\"row_heading level0 row29\" >GaP</th>\n",
       "      <td id=\"T_d144f_row29_col0\" class=\"data row29 col0\" >Zinc blende (FCC)</td>\n",
       "      <td id=\"T_d144f_row29_col1\" class=\"data row29 col1\" >5.450500</td>\n",
       "      <td id=\"T_d144f_row29_col2\" class=\"data row29 col2\" >5.451625</td>\n",
       "      <td id=\"T_d144f_row29_col3\" class=\"data row29 col3\" >5.488140</td>\n",
       "      <td id=\"T_d144f_row29_col4\" class=\"data row29 col4\" >0.69%</td>\n",
       "      <td id=\"T_d144f_row29_col5\" class=\"data row29 col5\" >0.67%</td>\n",
       "    </tr>\n",
       "    <tr>\n",
       "      <th id=\"T_d144f_level0_row30\" class=\"row_heading level0 row30\" >GaSb</th>\n",
       "      <td id=\"T_d144f_row30_col0\" class=\"data row30 col0\" >Zinc blende (FCC)</td>\n",
       "      <td id=\"T_d144f_row30_col1\" class=\"data row30 col1\" >6.095900</td>\n",
       "      <td id=\"T_d144f_row30_col2\" class=\"data row30 col2\" >6.137209</td>\n",
       "      <td id=\"T_d144f_row30_col3\" class=\"data row30 col3\" >6.228624</td>\n",
       "      <td id=\"T_d144f_row30_col4\" class=\"data row30 col4\" >2.18%</td>\n",
       "      <td id=\"T_d144f_row30_col5\" class=\"data row30 col5\" >1.49%</td>\n",
       "    </tr>\n",
       "    <tr>\n",
       "      <th id=\"T_d144f_level0_row31\" class=\"row_heading level0 row31\" >Ge</th>\n",
       "      <td id=\"T_d144f_row31_col0\" class=\"data row31 col0\" >Diamond (FCC)</td>\n",
       "      <td id=\"T_d144f_row31_col1\" class=\"data row31 col1\" >5.658000</td>\n",
       "      <td id=\"T_d144f_row31_col2\" class=\"data row31 col2\" >5.674854</td>\n",
       "      <td id=\"T_d144f_row31_col3\" class=\"data row31 col3\" >5.771785</td>\n",
       "      <td id=\"T_d144f_row31_col4\" class=\"data row31 col4\" >2.01%</td>\n",
       "      <td id=\"T_d144f_row31_col5\" class=\"data row31 col5\" >1.71%</td>\n",
       "    </tr>\n",
       "    <tr>\n",
       "      <th id=\"T_d144f_level0_row32\" class=\"row_heading level0 row32\" >HfC0.99</th>\n",
       "      <td id=\"T_d144f_row32_col0\" class=\"data row32 col0\" >Halite</td>\n",
       "      <td id=\"T_d144f_row32_col1\" class=\"data row32 col1\" >4.640000</td>\n",
       "      <td id=\"T_d144f_row32_col2\" class=\"data row32 col2\" >4.634278</td>\n",
       "      <td id=\"T_d144f_row32_col3\" class=\"data row32 col3\" >4.644393</td>\n",
       "      <td id=\"T_d144f_row32_col4\" class=\"data row32 col4\" >0.09%</td>\n",
       "      <td id=\"T_d144f_row32_col5\" class=\"data row32 col5\" >0.22%</td>\n",
       "    </tr>\n",
       "    <tr>\n",
       "      <th id=\"T_d144f_level0_row33\" class=\"row_heading level0 row33\" >HfN</th>\n",
       "      <td id=\"T_d144f_row33_col0\" class=\"data row33 col0\" >Halite</td>\n",
       "      <td id=\"T_d144f_row33_col1\" class=\"data row33 col1\" >4.392000</td>\n",
       "      <td id=\"T_d144f_row33_col2\" class=\"data row33 col2\" >4.511720</td>\n",
       "      <td id=\"T_d144f_row33_col3\" class=\"data row33 col3\" >4.535372</td>\n",
       "      <td id=\"T_d144f_row33_col4\" class=\"data row33 col4\" >3.26%</td>\n",
       "      <td id=\"T_d144f_row33_col5\" class=\"data row33 col5\" >0.52%</td>\n",
       "    </tr>\n",
       "    <tr>\n",
       "      <th id=\"T_d144f_level0_row34\" class=\"row_heading level0 row34\" >InAs</th>\n",
       "      <td id=\"T_d144f_row34_col0\" class=\"data row34 col0\" >Zinc blende (FCC)</td>\n",
       "      <td id=\"T_d144f_row34_col1\" class=\"data row34 col1\" >6.058300</td>\n",
       "      <td id=\"T_d144f_row34_col2\" class=\"data row34 col2\" >6.107123</td>\n",
       "      <td id=\"T_d144f_row34_col3\" class=\"data row34 col3\" >6.198173</td>\n",
       "      <td id=\"T_d144f_row34_col4\" class=\"data row34 col4\" >2.31%</td>\n",
       "      <td id=\"T_d144f_row34_col5\" class=\"data row34 col5\" >1.49%</td>\n",
       "    </tr>\n",
       "    <tr>\n",
       "      <th id=\"T_d144f_level0_row35\" class=\"row_heading level0 row35\" >InP</th>\n",
       "      <td id=\"T_d144f_row35_col0\" class=\"data row35 col0\" >Zinc blende (FCC)</td>\n",
       "      <td id=\"T_d144f_row35_col1\" class=\"data row35 col1\" >5.869000</td>\n",
       "      <td id=\"T_d144f_row35_col2\" class=\"data row35 col2\" >5.903953</td>\n",
       "      <td id=\"T_d144f_row35_col3\" class=\"data row35 col3\" >5.961731</td>\n",
       "      <td id=\"T_d144f_row35_col4\" class=\"data row35 col4\" >1.58%</td>\n",
       "      <td id=\"T_d144f_row35_col5\" class=\"data row35 col5\" >0.98%</td>\n",
       "    </tr>\n",
       "    <tr>\n",
       "      <th id=\"T_d144f_level0_row36\" class=\"row_heading level0 row36\" >InSb</th>\n",
       "      <td id=\"T_d144f_row36_col0\" class=\"data row36 col0\" >Zinc blende (FCC)</td>\n",
       "      <td id=\"T_d144f_row36_col1\" class=\"data row36 col1\" >6.479000</td>\n",
       "      <td id=\"T_d144f_row36_col2\" class=\"data row36 col2\" >6.633221</td>\n",
       "      <td id=\"T_d144f_row36_col3\" class=\"data row36 col3\" >6.653125</td>\n",
       "      <td id=\"T_d144f_row36_col4\" class=\"data row36 col4\" >2.69%</td>\n",
       "      <td id=\"T_d144f_row36_col5\" class=\"data row36 col5\" >0.30%</td>\n",
       "    </tr>\n",
       "    <tr>\n",
       "      <th id=\"T_d144f_level0_row37\" class=\"row_heading level0 row37\" >Ir</th>\n",
       "      <td id=\"T_d144f_row37_col0\" class=\"data row37 col0\" >FCC</td>\n",
       "      <td id=\"T_d144f_row37_col1\" class=\"data row37 col1\" >3.840000</td>\n",
       "      <td id=\"T_d144f_row37_col2\" class=\"data row37 col2\" >3.853929</td>\n",
       "      <td id=\"T_d144f_row37_col3\" class=\"data row37 col3\" >3.872626</td>\n",
       "      <td id=\"T_d144f_row37_col4\" class=\"data row37 col4\" >0.85%</td>\n",
       "      <td id=\"T_d144f_row37_col5\" class=\"data row37 col5\" >0.49%</td>\n",
       "    </tr>\n",
       "    <tr>\n",
       "      <th id=\"T_d144f_level0_row38\" class=\"row_heading level0 row38\" >K</th>\n",
       "      <td id=\"T_d144f_row38_col0\" class=\"data row38 col0\" >BCC</td>\n",
       "      <td id=\"T_d144f_row38_col1\" class=\"data row38 col1\" >5.230000</td>\n",
       "      <td id=\"T_d144f_row38_col2\" class=\"data row38 col2\" >5.395117</td>\n",
       "      <td id=\"T_d144f_row38_col3\" class=\"data row38 col3\" >5.377263</td>\n",
       "      <td id=\"T_d144f_row38_col4\" class=\"data row38 col4\" >2.82%</td>\n",
       "      <td id=\"T_d144f_row38_col5\" class=\"data row38 col5\" >-0.33%</td>\n",
       "    </tr>\n",
       "    <tr>\n",
       "      <th id=\"T_d144f_level0_row39\" class=\"row_heading level0 row39\" >KBr</th>\n",
       "      <td id=\"T_d144f_row39_col0\" class=\"data row39 col0\" >Halite</td>\n",
       "      <td id=\"T_d144f_row39_col1\" class=\"data row39 col1\" >6.600000</td>\n",
       "      <td id=\"T_d144f_row39_col2\" class=\"data row39 col2\" >6.589082</td>\n",
       "      <td id=\"T_d144f_row39_col3\" class=\"data row39 col3\" >6.698631</td>\n",
       "      <td id=\"T_d144f_row39_col4\" class=\"data row39 col4\" >1.49%</td>\n",
       "      <td id=\"T_d144f_row39_col5\" class=\"data row39 col5\" >1.66%</td>\n",
       "    </tr>\n",
       "    <tr>\n",
       "      <th id=\"T_d144f_level0_row40\" class=\"row_heading level0 row40\" >KCl</th>\n",
       "      <td id=\"T_d144f_row40_col0\" class=\"data row40 col0\" >Halite</td>\n",
       "      <td id=\"T_d144f_row40_col1\" class=\"data row40 col1\" >6.290000</td>\n",
       "      <td id=\"T_d144f_row40_col2\" class=\"data row40 col2\" >6.283743</td>\n",
       "      <td id=\"T_d144f_row40_col3\" class=\"data row40 col3\" >6.389114</td>\n",
       "      <td id=\"T_d144f_row40_col4\" class=\"data row40 col4\" >1.58%</td>\n",
       "      <td id=\"T_d144f_row40_col5\" class=\"data row40 col5\" >1.68%</td>\n",
       "    </tr>\n",
       "    <tr>\n",
       "      <th id=\"T_d144f_level0_row41\" class=\"row_heading level0 row41\" >KF</th>\n",
       "      <td id=\"T_d144f_row41_col0\" class=\"data row41 col0\" >Halite</td>\n",
       "      <td id=\"T_d144f_row41_col1\" class=\"data row41 col1\" >5.340000</td>\n",
       "      <td id=\"T_d144f_row41_col2\" class=\"data row41 col2\" >5.308827</td>\n",
       "      <td id=\"T_d144f_row41_col3\" class=\"data row41 col3\" >5.425351</td>\n",
       "      <td id=\"T_d144f_row41_col4\" class=\"data row41 col4\" >1.60%</td>\n",
       "      <td id=\"T_d144f_row41_col5\" class=\"data row41 col5\" >2.19%</td>\n",
       "    </tr>\n",
       "    <tr>\n",
       "      <th id=\"T_d144f_level0_row42\" class=\"row_heading level0 row42\" >KI</th>\n",
       "      <td id=\"T_d144f_row42_col0\" class=\"data row42 col0\" >Halite</td>\n",
       "      <td id=\"T_d144f_row42_col1\" class=\"data row42 col1\" >7.070000</td>\n",
       "      <td id=\"T_d144f_row42_col2\" class=\"data row42 col2\" >7.084871</td>\n",
       "      <td id=\"T_d144f_row42_col3\" class=\"data row42 col3\" >7.164688</td>\n",
       "      <td id=\"T_d144f_row42_col4\" class=\"data row42 col4\" >1.34%</td>\n",
       "      <td id=\"T_d144f_row42_col5\" class=\"data row42 col5\" >1.13%</td>\n",
       "    </tr>\n",
       "    <tr>\n",
       "      <th id=\"T_d144f_level0_row43\" class=\"row_heading level0 row43\" >KTaO3</th>\n",
       "      <td id=\"T_d144f_row43_col0\" class=\"data row43 col0\" >Cubic perovskite</td>\n",
       "      <td id=\"T_d144f_row43_col1\" class=\"data row43 col1\" >3.988500</td>\n",
       "      <td id=\"T_d144f_row43_col2\" class=\"data row43 col2\" >0.000000</td>\n",
       "      <td id=\"T_d144f_row43_col3\" class=\"data row43 col3\" >4.035274</td>\n",
       "      <td id=\"T_d144f_row43_col4\" class=\"data row43 col4\" >1.17%</td>\n",
       "      <td id=\"T_d144f_row43_col5\" class=\"data row43 col5\" >inf%</td>\n",
       "    </tr>\n",
       "    <tr>\n",
       "      <th id=\"T_d144f_level0_row44\" class=\"row_heading level0 row44\" >Li</th>\n",
       "      <td id=\"T_d144f_row44_col0\" class=\"data row44 col0\" >BCC</td>\n",
       "      <td id=\"T_d144f_row44_col1\" class=\"data row44 col1\" >3.490000</td>\n",
       "      <td id=\"T_d144f_row44_col2\" class=\"data row44 col2\" >3.439312</td>\n",
       "      <td id=\"T_d144f_row44_col3\" class=\"data row44 col3\" >3.444487</td>\n",
       "      <td id=\"T_d144f_row44_col4\" class=\"data row44 col4\" >-1.30%</td>\n",
       "      <td id=\"T_d144f_row44_col5\" class=\"data row44 col5\" >0.15%</td>\n",
       "    </tr>\n",
       "    <tr>\n",
       "      <th id=\"T_d144f_level0_row45\" class=\"row_heading level0 row45\" >LiBr</th>\n",
       "      <td id=\"T_d144f_row45_col0\" class=\"data row45 col0\" >Halite</td>\n",
       "      <td id=\"T_d144f_row45_col1\" class=\"data row45 col1\" >5.500000</td>\n",
       "      <td id=\"T_d144f_row45_col2\" class=\"data row45 col2\" >5.445381</td>\n",
       "      <td id=\"T_d144f_row45_col3\" class=\"data row45 col3\" >5.542445</td>\n",
       "      <td id=\"T_d144f_row45_col4\" class=\"data row45 col4\" >0.77%</td>\n",
       "      <td id=\"T_d144f_row45_col5\" class=\"data row45 col5\" >1.78%</td>\n",
       "    </tr>\n",
       "    <tr>\n",
       "      <th id=\"T_d144f_level0_row46\" class=\"row_heading level0 row46\" >LiCl</th>\n",
       "      <td id=\"T_d144f_row46_col0\" class=\"data row46 col0\" >Halite</td>\n",
       "      <td id=\"T_d144f_row46_col1\" class=\"data row46 col1\" >5.140000</td>\n",
       "      <td id=\"T_d144f_row46_col2\" class=\"data row46 col2\" >5.084245</td>\n",
       "      <td id=\"T_d144f_row46_col3\" class=\"data row46 col3\" >5.137603</td>\n",
       "      <td id=\"T_d144f_row46_col4\" class=\"data row46 col4\" >-0.05%</td>\n",
       "      <td id=\"T_d144f_row46_col5\" class=\"data row46 col5\" >1.05%</td>\n",
       "    </tr>\n",
       "    <tr>\n",
       "      <th id=\"T_d144f_level0_row47\" class=\"row_heading level0 row47\" >LiF</th>\n",
       "      <td id=\"T_d144f_row47_col0\" class=\"data row47 col0\" >Halite</td>\n",
       "      <td id=\"T_d144f_row47_col1\" class=\"data row47 col1\" >4.030000</td>\n",
       "      <td id=\"T_d144f_row47_col2\" class=\"data row47 col2\" >4.083427</td>\n",
       "      <td id=\"T_d144f_row47_col3\" class=\"data row47 col3\" >4.089020</td>\n",
       "      <td id=\"T_d144f_row47_col4\" class=\"data row47 col4\" >1.46%</td>\n",
       "      <td id=\"T_d144f_row47_col5\" class=\"data row47 col5\" >0.14%</td>\n",
       "    </tr>\n",
       "    <tr>\n",
       "      <th id=\"T_d144f_level0_row48\" class=\"row_heading level0 row48\" >LiI</th>\n",
       "      <td id=\"T_d144f_row48_col0\" class=\"data row48 col0\" >Halite</td>\n",
       "      <td id=\"T_d144f_row48_col1\" class=\"data row48 col1\" >6.010000</td>\n",
       "      <td id=\"T_d144f_row48_col2\" class=\"data row48 col2\" >5.968355</td>\n",
       "      <td id=\"T_d144f_row48_col3\" class=\"data row48 col3\" >6.053774</td>\n",
       "      <td id=\"T_d144f_row48_col4\" class=\"data row48 col4\" >0.73%</td>\n",
       "      <td id=\"T_d144f_row48_col5\" class=\"data row48 col5\" >1.43%</td>\n",
       "    </tr>\n",
       "    <tr>\n",
       "      <th id=\"T_d144f_level0_row49\" class=\"row_heading level0 row49\" >MgO</th>\n",
       "      <td id=\"T_d144f_row49_col0\" class=\"data row49 col0\" >Halite (FCC)</td>\n",
       "      <td id=\"T_d144f_row49_col1\" class=\"data row49 col1\" >4.212000</td>\n",
       "      <td id=\"T_d144f_row49_col2\" class=\"data row49 col2\" >4.194003</td>\n",
       "      <td id=\"T_d144f_row49_col3\" class=\"data row49 col3\" >4.264568</td>\n",
       "      <td id=\"T_d144f_row49_col4\" class=\"data row49 col4\" >1.25%</td>\n",
       "      <td id=\"T_d144f_row49_col5\" class=\"data row49 col5\" >1.68%</td>\n",
       "    </tr>\n",
       "    <tr>\n",
       "      <th id=\"T_d144f_level0_row50\" class=\"row_heading level0 row50\" >Mo</th>\n",
       "      <td id=\"T_d144f_row50_col0\" class=\"data row50 col0\" >BCC</td>\n",
       "      <td id=\"T_d144f_row50_col1\" class=\"data row50 col1\" >3.142000</td>\n",
       "      <td id=\"T_d144f_row50_col2\" class=\"data row50 col2\" >3.167618</td>\n",
       "      <td id=\"T_d144f_row50_col3\" class=\"data row50 col3\" >3.166742</td>\n",
       "      <td id=\"T_d144f_row50_col4\" class=\"data row50 col4\" >0.79%</td>\n",
       "      <td id=\"T_d144f_row50_col5\" class=\"data row50 col5\" >-0.03%</td>\n",
       "    </tr>\n",
       "    <tr>\n",
       "      <th id=\"T_d144f_level0_row51\" class=\"row_heading level0 row51\" >Na</th>\n",
       "      <td id=\"T_d144f_row51_col0\" class=\"data row51 col0\" >BCC</td>\n",
       "      <td id=\"T_d144f_row51_col1\" class=\"data row51 col1\" >4.230000</td>\n",
       "      <td id=\"T_d144f_row51_col2\" class=\"data row51 col2\" >4.208054</td>\n",
       "      <td id=\"T_d144f_row51_col3\" class=\"data row51 col3\" >4.226154</td>\n",
       "      <td id=\"T_d144f_row51_col4\" class=\"data row51 col4\" >-0.09%</td>\n",
       "      <td id=\"T_d144f_row51_col5\" class=\"data row51 col5\" >0.43%</td>\n",
       "    </tr>\n",
       "    <tr>\n",
       "      <th id=\"T_d144f_level0_row52\" class=\"row_heading level0 row52\" >NaBr</th>\n",
       "      <td id=\"T_d144f_row52_col0\" class=\"data row52 col0\" >Halite</td>\n",
       "      <td id=\"T_d144f_row52_col1\" class=\"data row52 col1\" >5.970000</td>\n",
       "      <td id=\"T_d144f_row52_col2\" class=\"data row52 col2\" >5.923085</td>\n",
       "      <td id=\"T_d144f_row52_col3\" class=\"data row52 col3\" >6.060649</td>\n",
       "      <td id=\"T_d144f_row52_col4\" class=\"data row52 col4\" >1.52%</td>\n",
       "      <td id=\"T_d144f_row52_col5\" class=\"data row52 col5\" >2.32%</td>\n",
       "    </tr>\n",
       "    <tr>\n",
       "      <th id=\"T_d144f_level0_row53\" class=\"row_heading level0 row53\" >NaCl</th>\n",
       "      <td id=\"T_d144f_row53_col0\" class=\"data row53 col0\" >Halite</td>\n",
       "      <td id=\"T_d144f_row53_col1\" class=\"data row53 col1\" >5.640000</td>\n",
       "      <td id=\"T_d144f_row53_col2\" class=\"data row53 col2\" >5.588126</td>\n",
       "      <td id=\"T_d144f_row53_col3\" class=\"data row53 col3\" >5.697209</td>\n",
       "      <td id=\"T_d144f_row53_col4\" class=\"data row53 col4\" >1.01%</td>\n",
       "      <td id=\"T_d144f_row53_col5\" class=\"data row53 col5\" >1.95%</td>\n",
       "    </tr>\n",
       "    <tr>\n",
       "      <th id=\"T_d144f_level0_row54\" class=\"row_heading level0 row54\" >NaF</th>\n",
       "      <td id=\"T_d144f_row54_col0\" class=\"data row54 col0\" >Halite</td>\n",
       "      <td id=\"T_d144f_row54_col1\" class=\"data row54 col1\" >4.630000</td>\n",
       "      <td id=\"T_d144f_row54_col2\" class=\"data row54 col2\" >4.571789</td>\n",
       "      <td id=\"T_d144f_row54_col3\" class=\"data row54 col3\" >4.716607</td>\n",
       "      <td id=\"T_d144f_row54_col4\" class=\"data row54 col4\" >1.87%</td>\n",
       "      <td id=\"T_d144f_row54_col5\" class=\"data row54 col5\" >3.17%</td>\n",
       "    </tr>\n",
       "    <tr>\n",
       "      <th id=\"T_d144f_level0_row55\" class=\"row_heading level0 row55\" >NaI</th>\n",
       "      <td id=\"T_d144f_row55_col0\" class=\"data row55 col0\" >Halite</td>\n",
       "      <td id=\"T_d144f_row55_col1\" class=\"data row55 col1\" >6.470000</td>\n",
       "      <td id=\"T_d144f_row55_col2\" class=\"data row55 col2\" >6.437313</td>\n",
       "      <td id=\"T_d144f_row55_col3\" class=\"data row55 col3\" >6.506101</td>\n",
       "      <td id=\"T_d144f_row55_col4\" class=\"data row55 col4\" >0.56%</td>\n",
       "      <td id=\"T_d144f_row55_col5\" class=\"data row55 col5\" >1.07%</td>\n",
       "    </tr>\n",
       "    <tr>\n",
       "      <th id=\"T_d144f_level0_row56\" class=\"row_heading level0 row56\" >Nb</th>\n",
       "      <td id=\"T_d144f_row56_col0\" class=\"data row56 col0\" >BCC</td>\n",
       "      <td id=\"T_d144f_row56_col1\" class=\"data row56 col1\" >3.300800</td>\n",
       "      <td id=\"T_d144f_row56_col2\" class=\"data row56 col2\" >3.317632</td>\n",
       "      <td id=\"T_d144f_row56_col3\" class=\"data row56 col3\" >3.317783</td>\n",
       "      <td id=\"T_d144f_row56_col4\" class=\"data row56 col4\" >0.51%</td>\n",
       "      <td id=\"T_d144f_row56_col5\" class=\"data row56 col5\" >0.00%</td>\n",
       "    </tr>\n",
       "    <tr>\n",
       "      <th id=\"T_d144f_level0_row57\" class=\"row_heading level0 row57\" >NbN</th>\n",
       "      <td id=\"T_d144f_row57_col0\" class=\"data row57 col0\" >Halite</td>\n",
       "      <td id=\"T_d144f_row57_col1\" class=\"data row57 col1\" >4.392000</td>\n",
       "      <td id=\"T_d144f_row57_col2\" class=\"data row57 col2\" >4.452468</td>\n",
       "      <td id=\"T_d144f_row57_col3\" class=\"data row57 col3\" >4.454411</td>\n",
       "      <td id=\"T_d144f_row57_col4\" class=\"data row57 col4\" >1.42%</td>\n",
       "      <td id=\"T_d144f_row57_col5\" class=\"data row57 col5\" >0.04%</td>\n",
       "    </tr>\n",
       "    <tr>\n",
       "      <th id=\"T_d144f_level0_row58\" class=\"row_heading level0 row58\" >Ne</th>\n",
       "      <td id=\"T_d144f_row58_col0\" class=\"data row58 col0\" >FCC</td>\n",
       "      <td id=\"T_d144f_row58_col1\" class=\"data row58 col1\" >4.430000</td>\n",
       "      <td id=\"T_d144f_row58_col2\" class=\"data row58 col2\" >4.195020</td>\n",
       "      <td id=\"T_d144f_row58_col3\" class=\"data row58 col3\" >4.338519</td>\n",
       "      <td id=\"T_d144f_row58_col4\" class=\"data row58 col4\" >-2.07%</td>\n",
       "      <td id=\"T_d144f_row58_col5\" class=\"data row58 col5\" >3.42%</td>\n",
       "    </tr>\n",
       "    <tr>\n",
       "      <th id=\"T_d144f_level0_row59\" class=\"row_heading level0 row59\" >Ni</th>\n",
       "      <td id=\"T_d144f_row59_col0\" class=\"data row59 col0\" >FCC</td>\n",
       "      <td id=\"T_d144f_row59_col1\" class=\"data row59 col1\" >3.499000</td>\n",
       "      <td id=\"T_d144f_row59_col2\" class=\"data row59 col2\" >3.475146</td>\n",
       "      <td id=\"T_d144f_row59_col3\" class=\"data row59 col3\" >3.503366</td>\n",
       "      <td id=\"T_d144f_row59_col4\" class=\"data row59 col4\" >0.12%</td>\n",
       "      <td id=\"T_d144f_row59_col5\" class=\"data row59 col5\" >0.81%</td>\n",
       "    </tr>\n",
       "    <tr>\n",
       "      <th id=\"T_d144f_level0_row60\" class=\"row_heading level0 row60\" >Pb</th>\n",
       "      <td id=\"T_d144f_row60_col0\" class=\"data row60 col0\" >FCC</td>\n",
       "      <td id=\"T_d144f_row60_col1\" class=\"data row60 col1\" >4.920000</td>\n",
       "      <td id=\"T_d144f_row60_col2\" class=\"data row60 col2\" >4.989509</td>\n",
       "      <td id=\"T_d144f_row60_col3\" class=\"data row60 col3\" >5.025697</td>\n",
       "      <td id=\"T_d144f_row60_col4\" class=\"data row60 col4\" >2.15%</td>\n",
       "      <td id=\"T_d144f_row60_col5\" class=\"data row60 col5\" >0.73%</td>\n",
       "    </tr>\n",
       "    <tr>\n",
       "      <th id=\"T_d144f_level0_row61\" class=\"row_heading level0 row61\" >PbS</th>\n",
       "      <td id=\"T_d144f_row61_col0\" class=\"data row61 col0\" >Halite (FCC)</td>\n",
       "      <td id=\"T_d144f_row61_col1\" class=\"data row61 col1\" >5.936200</td>\n",
       "      <td id=\"T_d144f_row61_col2\" class=\"data row61 col2\" >0.000000</td>\n",
       "      <td id=\"T_d144f_row61_col3\" class=\"data row61 col3\" >6.010332</td>\n",
       "      <td id=\"T_d144f_row61_col4\" class=\"data row61 col4\" >1.25%</td>\n",
       "      <td id=\"T_d144f_row61_col5\" class=\"data row61 col5\" >inf%</td>\n",
       "    </tr>\n",
       "    <tr>\n",
       "      <th id=\"T_d144f_level0_row62\" class=\"row_heading level0 row62\" >PbTe</th>\n",
       "      <td id=\"T_d144f_row62_col0\" class=\"data row62 col0\" >Halite (FCC)</td>\n",
       "      <td id=\"T_d144f_row62_col1\" class=\"data row62 col1\" >6.462000</td>\n",
       "      <td id=\"T_d144f_row62_col2\" class=\"data row62 col2\" >6.541794</td>\n",
       "      <td id=\"T_d144f_row62_col3\" class=\"data row62 col3\" >6.560341</td>\n",
       "      <td id=\"T_d144f_row62_col4\" class=\"data row62 col4\" >1.52%</td>\n",
       "      <td id=\"T_d144f_row62_col5\" class=\"data row62 col5\" >0.28%</td>\n",
       "    </tr>\n",
       "    <tr>\n",
       "      <th id=\"T_d144f_level0_row63\" class=\"row_heading level0 row63\" >Pd</th>\n",
       "      <td id=\"T_d144f_row63_col0\" class=\"data row63 col0\" >FCC</td>\n",
       "      <td id=\"T_d144f_row63_col1\" class=\"data row63 col1\" >3.859000</td>\n",
       "      <td id=\"T_d144f_row63_col2\" class=\"data row63 col2\" >3.917302</td>\n",
       "      <td id=\"T_d144f_row63_col3\" class=\"data row63 col3\" >3.938261</td>\n",
       "      <td id=\"T_d144f_row63_col4\" class=\"data row63 col4\" >2.05%</td>\n",
       "      <td id=\"T_d144f_row63_col5\" class=\"data row63 col5\" >0.54%</td>\n",
       "    </tr>\n",
       "    <tr>\n",
       "      <th id=\"T_d144f_level0_row64\" class=\"row_heading level0 row64\" >Pt</th>\n",
       "      <td id=\"T_d144f_row64_col0\" class=\"data row64 col0\" >FCC</td>\n",
       "      <td id=\"T_d144f_row64_col1\" class=\"data row64 col1\" >3.912000</td>\n",
       "      <td id=\"T_d144f_row64_col2\" class=\"data row64 col2\" >3.943150</td>\n",
       "      <td id=\"T_d144f_row64_col3\" class=\"data row64 col3\" >3.976443</td>\n",
       "      <td id=\"T_d144f_row64_col4\" class=\"data row64 col4\" >1.65%</td>\n",
       "      <td id=\"T_d144f_row64_col5\" class=\"data row64 col5\" >0.84%</td>\n",
       "    </tr>\n",
       "    <tr>\n",
       "      <th id=\"T_d144f_level0_row65\" class=\"row_heading level0 row65\" >RbBr</th>\n",
       "      <td id=\"T_d144f_row65_col0\" class=\"data row65 col0\" >Halite</td>\n",
       "      <td id=\"T_d144f_row65_col1\" class=\"data row65 col1\" >6.890000</td>\n",
       "      <td id=\"T_d144f_row65_col2\" class=\"data row65 col2\" >6.911901</td>\n",
       "      <td id=\"T_d144f_row65_col3\" class=\"data row65 col3\" >7.001376</td>\n",
       "      <td id=\"T_d144f_row65_col4\" class=\"data row65 col4\" >1.62%</td>\n",
       "      <td id=\"T_d144f_row65_col5\" class=\"data row65 col5\" >1.29%</td>\n",
       "    </tr>\n",
       "    <tr>\n",
       "      <th id=\"T_d144f_level0_row66\" class=\"row_heading level0 row66\" >RbCl</th>\n",
       "      <td id=\"T_d144f_row66_col0\" class=\"data row66 col0\" >Halite</td>\n",
       "      <td id=\"T_d144f_row66_col1\" class=\"data row66 col1\" >6.590000</td>\n",
       "      <td id=\"T_d144f_row66_col2\" class=\"data row66 col2\" >6.617415</td>\n",
       "      <td id=\"T_d144f_row66_col3\" class=\"data row66 col3\" >6.721173</td>\n",
       "      <td id=\"T_d144f_row66_col4\" class=\"data row66 col4\" >1.99%</td>\n",
       "      <td id=\"T_d144f_row66_col5\" class=\"data row66 col5\" >1.57%</td>\n",
       "    </tr>\n",
       "    <tr>\n",
       "      <th id=\"T_d144f_level0_row67\" class=\"row_heading level0 row67\" >RbF</th>\n",
       "      <td id=\"T_d144f_row67_col0\" class=\"data row67 col0\" >Halite</td>\n",
       "      <td id=\"T_d144f_row67_col1\" class=\"data row67 col1\" >5.650000</td>\n",
       "      <td id=\"T_d144f_row67_col2\" class=\"data row67 col2\" >5.632284</td>\n",
       "      <td id=\"T_d144f_row67_col3\" class=\"data row67 col3\" >5.722591</td>\n",
       "      <td id=\"T_d144f_row67_col4\" class=\"data row67 col4\" >1.28%</td>\n",
       "      <td id=\"T_d144f_row67_col5\" class=\"data row67 col5\" >1.60%</td>\n",
       "    </tr>\n",
       "    <tr>\n",
       "      <th id=\"T_d144f_level0_row68\" class=\"row_heading level0 row68\" >RbI</th>\n",
       "      <td id=\"T_d144f_row68_col0\" class=\"data row68 col0\" >Halite</td>\n",
       "      <td id=\"T_d144f_row68_col1\" class=\"data row68 col1\" >7.350000</td>\n",
       "      <td id=\"T_d144f_row68_col2\" class=\"data row68 col2\" >7.382335</td>\n",
       "      <td id=\"T_d144f_row68_col3\" class=\"data row68 col3\" >7.525812</td>\n",
       "      <td id=\"T_d144f_row68_col4\" class=\"data row68 col4\" >2.39%</td>\n",
       "      <td id=\"T_d144f_row68_col5\" class=\"data row68 col5\" >1.94%</td>\n",
       "    </tr>\n",
       "    <tr>\n",
       "      <th id=\"T_d144f_level0_row69\" class=\"row_heading level0 row69\" >Rh</th>\n",
       "      <td id=\"T_d144f_row69_col0\" class=\"data row69 col0\" >FCC</td>\n",
       "      <td id=\"T_d144f_row69_col1\" class=\"data row69 col1\" >3.800000</td>\n",
       "      <td id=\"T_d144f_row69_col2\" class=\"data row69 col2\" >3.805972</td>\n",
       "      <td id=\"T_d144f_row69_col3\" class=\"data row69 col3\" >3.846733</td>\n",
       "      <td id=\"T_d144f_row69_col4\" class=\"data row69 col4\" >1.23%</td>\n",
       "      <td id=\"T_d144f_row69_col5\" class=\"data row69 col5\" >1.07%</td>\n",
       "    </tr>\n",
       "    <tr>\n",
       "      <th id=\"T_d144f_level0_row70\" class=\"row_heading level0 row70\" >ScN</th>\n",
       "      <td id=\"T_d144f_row70_col0\" class=\"data row70 col0\" >Halite</td>\n",
       "      <td id=\"T_d144f_row70_col1\" class=\"data row70 col1\" >4.520000</td>\n",
       "      <td id=\"T_d144f_row70_col2\" class=\"data row70 col2\" >4.510944</td>\n",
       "      <td id=\"T_d144f_row70_col3\" class=\"data row70 col3\" >4.516923</td>\n",
       "      <td id=\"T_d144f_row70_col4\" class=\"data row70 col4\" >-0.07%</td>\n",
       "      <td id=\"T_d144f_row70_col5\" class=\"data row70 col5\" >0.13%</td>\n",
       "    </tr>\n",
       "    <tr>\n",
       "      <th id=\"T_d144f_level0_row71\" class=\"row_heading level0 row71\" >Si</th>\n",
       "      <td id=\"T_d144f_row71_col0\" class=\"data row71 col0\" >Diamond (FCC)</td>\n",
       "      <td id=\"T_d144f_row71_col1\" class=\"data row71 col1\" >5.431021</td>\n",
       "      <td id=\"T_d144f_row71_col2\" class=\"data row71 col2\" >5.443702</td>\n",
       "      <td id=\"T_d144f_row71_col3\" class=\"data row71 col3\" >5.458414</td>\n",
       "      <td id=\"T_d144f_row71_col4\" class=\"data row71 col4\" >0.50%</td>\n",
       "      <td id=\"T_d144f_row71_col5\" class=\"data row71 col5\" >0.27%</td>\n",
       "    </tr>\n",
       "    <tr>\n",
       "      <th id=\"T_d144f_level0_row72\" class=\"row_heading level0 row72\" >Sr</th>\n",
       "      <td id=\"T_d144f_row72_col0\" class=\"data row72 col0\" >FCC</td>\n",
       "      <td id=\"T_d144f_row72_col1\" class=\"data row72 col1\" >6.080000</td>\n",
       "      <td id=\"T_d144f_row72_col2\" class=\"data row72 col2\" >6.067206</td>\n",
       "      <td id=\"T_d144f_row72_col3\" class=\"data row72 col3\" >6.054884</td>\n",
       "      <td id=\"T_d144f_row72_col4\" class=\"data row72 col4\" >-0.41%</td>\n",
       "      <td id=\"T_d144f_row72_col5\" class=\"data row72 col5\" >-0.20%</td>\n",
       "    </tr>\n",
       "    <tr>\n",
       "      <th id=\"T_d144f_level0_row73\" class=\"row_heading level0 row73\" >SrTiO3</th>\n",
       "      <td id=\"T_d144f_row73_col0\" class=\"data row73 col0\" >Cubic perovskite</td>\n",
       "      <td id=\"T_d144f_row73_col1\" class=\"data row73 col1\" >3.988050</td>\n",
       "      <td id=\"T_d144f_row73_col2\" class=\"data row73 col2\" >3.912701</td>\n",
       "      <td id=\"T_d144f_row73_col3\" class=\"data row73 col3\" >3.944839</td>\n",
       "      <td id=\"T_d144f_row73_col4\" class=\"data row73 col4\" >-1.08%</td>\n",
       "      <td id=\"T_d144f_row73_col5\" class=\"data row73 col5\" >0.82%</td>\n",
       "    </tr>\n",
       "    <tr>\n",
       "      <th id=\"T_d144f_level0_row74\" class=\"row_heading level0 row74\" >SrVO3</th>\n",
       "      <td id=\"T_d144f_row74_col0\" class=\"data row74 col0\" >Cubic perovskite</td>\n",
       "      <td id=\"T_d144f_row74_col1\" class=\"data row74 col1\" >3.838000</td>\n",
       "      <td id=\"T_d144f_row74_col2\" class=\"data row74 col2\" >3.900891</td>\n",
       "      <td id=\"T_d144f_row74_col3\" class=\"data row74 col3\" >3.911846</td>\n",
       "      <td id=\"T_d144f_row74_col4\" class=\"data row74 col4\" >1.92%</td>\n",
       "      <td id=\"T_d144f_row74_col5\" class=\"data row74 col5\" >0.28%</td>\n",
       "    </tr>\n",
       "    <tr>\n",
       "      <th id=\"T_d144f_level0_row75\" class=\"row_heading level0 row75\" >Ta</th>\n",
       "      <td id=\"T_d144f_row75_col0\" class=\"data row75 col0\" >BCC</td>\n",
       "      <td id=\"T_d144f_row75_col1\" class=\"data row75 col1\" >3.305800</td>\n",
       "      <td id=\"T_d144f_row75_col2\" class=\"data row75 col2\" >3.309856</td>\n",
       "      <td id=\"T_d144f_row75_col3\" class=\"data row75 col3\" >3.326660</td>\n",
       "      <td id=\"T_d144f_row75_col4\" class=\"data row75 col4\" >0.63%</td>\n",
       "      <td id=\"T_d144f_row75_col5\" class=\"data row75 col5\" >0.51%</td>\n",
       "    </tr>\n",
       "    <tr>\n",
       "      <th id=\"T_d144f_level0_row76\" class=\"row_heading level0 row76\" >TaC0.99</th>\n",
       "      <td id=\"T_d144f_row76_col0\" class=\"data row76 col0\" >Halite</td>\n",
       "      <td id=\"T_d144f_row76_col1\" class=\"data row76 col1\" >4.456000</td>\n",
       "      <td id=\"T_d144f_row76_col2\" class=\"data row76 col2\" >4.467795</td>\n",
       "      <td id=\"T_d144f_row76_col3\" class=\"data row76 col3\" >4.474708</td>\n",
       "      <td id=\"T_d144f_row76_col4\" class=\"data row76 col4\" >0.42%</td>\n",
       "      <td id=\"T_d144f_row76_col5\" class=\"data row76 col5\" >0.15%</td>\n",
       "    </tr>\n",
       "    <tr>\n",
       "      <th id=\"T_d144f_level0_row77\" class=\"row_heading level0 row77\" >Th</th>\n",
       "      <td id=\"T_d144f_row77_col0\" class=\"data row77 col0\" >FCC</td>\n",
       "      <td id=\"T_d144f_row77_col1\" class=\"data row77 col1\" >5.080000</td>\n",
       "      <td id=\"T_d144f_row77_col2\" class=\"data row77 col2\" >5.047255</td>\n",
       "      <td id=\"T_d144f_row77_col3\" class=\"data row77 col3\" >5.055762</td>\n",
       "      <td id=\"T_d144f_row77_col4\" class=\"data row77 col4\" >-0.48%</td>\n",
       "      <td id=\"T_d144f_row77_col5\" class=\"data row77 col5\" >0.17%</td>\n",
       "    </tr>\n",
       "    <tr>\n",
       "      <th id=\"T_d144f_level0_row78\" class=\"row_heading level0 row78\" >TiC</th>\n",
       "      <td id=\"T_d144f_row78_col0\" class=\"data row78 col0\" >Halite</td>\n",
       "      <td id=\"T_d144f_row78_col1\" class=\"data row78 col1\" >4.328000</td>\n",
       "      <td id=\"T_d144f_row78_col2\" class=\"data row78 col2\" >4.331438</td>\n",
       "      <td id=\"T_d144f_row78_col3\" class=\"data row78 col3\" >4.337783</td>\n",
       "      <td id=\"T_d144f_row78_col4\" class=\"data row78 col4\" >0.23%</td>\n",
       "      <td id=\"T_d144f_row78_col5\" class=\"data row78 col5\" >0.15%</td>\n",
       "    </tr>\n",
       "    <tr>\n",
       "      <th id=\"T_d144f_level0_row79\" class=\"row_heading level0 row79\" >TiN</th>\n",
       "      <td id=\"T_d144f_row79_col0\" class=\"data row79 col0\" >Halite</td>\n",
       "      <td id=\"T_d144f_row79_col1\" class=\"data row79 col1\" >4.249000</td>\n",
       "      <td id=\"T_d144f_row79_col2\" class=\"data row79 col2\" >4.241247</td>\n",
       "      <td id=\"T_d144f_row79_col3\" class=\"data row79 col3\" >4.246024</td>\n",
       "      <td id=\"T_d144f_row79_col4\" class=\"data row79 col4\" >-0.07%</td>\n",
       "      <td id=\"T_d144f_row79_col5\" class=\"data row79 col5\" >0.11%</td>\n",
       "    </tr>\n",
       "    <tr>\n",
       "      <th id=\"T_d144f_level0_row80\" class=\"row_heading level0 row80\" >V</th>\n",
       "      <td id=\"T_d144f_row80_col0\" class=\"data row80 col0\" >BCC</td>\n",
       "      <td id=\"T_d144f_row80_col1\" class=\"data row80 col1\" >3.039900</td>\n",
       "      <td id=\"T_d144f_row80_col2\" class=\"data row80 col2\" >2.982399</td>\n",
       "      <td id=\"T_d144f_row80_col3\" class=\"data row80 col3\" >2.985185</td>\n",
       "      <td id=\"T_d144f_row80_col4\" class=\"data row80 col4\" >-1.80%</td>\n",
       "      <td id=\"T_d144f_row80_col5\" class=\"data row80 col5\" >0.09%</td>\n",
       "    </tr>\n",
       "    <tr>\n",
       "      <th id=\"T_d144f_level0_row81\" class=\"row_heading level0 row81\" >VC0.97</th>\n",
       "      <td id=\"T_d144f_row81_col0\" class=\"data row81 col0\" >Halite</td>\n",
       "      <td id=\"T_d144f_row81_col1\" class=\"data row81 col1\" >4.166000</td>\n",
       "      <td id=\"T_d144f_row81_col2\" class=\"data row81 col2\" >4.161946</td>\n",
       "      <td id=\"T_d144f_row81_col3\" class=\"data row81 col3\" >4.145138</td>\n",
       "      <td id=\"T_d144f_row81_col4\" class=\"data row81 col4\" >-0.50%</td>\n",
       "      <td id=\"T_d144f_row81_col5\" class=\"data row81 col5\" >-0.40%</td>\n",
       "    </tr>\n",
       "    <tr>\n",
       "      <th id=\"T_d144f_level0_row82\" class=\"row_heading level0 row82\" >VN</th>\n",
       "      <td id=\"T_d144f_row82_col0\" class=\"data row82 col0\" >Halite</td>\n",
       "      <td id=\"T_d144f_row82_col1\" class=\"data row82 col1\" >4.136000</td>\n",
       "      <td id=\"T_d144f_row82_col2\" class=\"data row82 col2\" >4.124930</td>\n",
       "      <td id=\"T_d144f_row82_col3\" class=\"data row82 col3\" >4.131446</td>\n",
       "      <td id=\"T_d144f_row82_col4\" class=\"data row82 col4\" >-0.11%</td>\n",
       "      <td id=\"T_d144f_row82_col5\" class=\"data row82 col5\" >0.16%</td>\n",
       "    </tr>\n",
       "    <tr>\n",
       "      <th id=\"T_d144f_level0_row83\" class=\"row_heading level0 row83\" >W</th>\n",
       "      <td id=\"T_d144f_row83_col0\" class=\"data row83 col0\" >BCC</td>\n",
       "      <td id=\"T_d144f_row83_col1\" class=\"data row83 col1\" >3.155000</td>\n",
       "      <td id=\"T_d144f_row83_col2\" class=\"data row83 col2\" >3.170316</td>\n",
       "      <td id=\"T_d144f_row83_col3\" class=\"data row83 col3\" >3.178230</td>\n",
       "      <td id=\"T_d144f_row83_col4\" class=\"data row83 col4\" >0.74%</td>\n",
       "      <td id=\"T_d144f_row83_col5\" class=\"data row83 col5\" >0.25%</td>\n",
       "    </tr>\n",
       "    <tr>\n",
       "      <th id=\"T_d144f_level0_row84\" class=\"row_heading level0 row84\" >Yb</th>\n",
       "      <td id=\"T_d144f_row84_col0\" class=\"data row84 col0\" >FCC</td>\n",
       "      <td id=\"T_d144f_row84_col1\" class=\"data row84 col1\" >5.490000</td>\n",
       "      <td id=\"T_d144f_row84_col2\" class=\"data row84 col2\" >5.387257</td>\n",
       "      <td id=\"T_d144f_row84_col3\" class=\"data row84 col3\" >5.483943</td>\n",
       "      <td id=\"T_d144f_row84_col4\" class=\"data row84 col4\" >-0.11%</td>\n",
       "      <td id=\"T_d144f_row84_col5\" class=\"data row84 col5\" >1.79%</td>\n",
       "    </tr>\n",
       "    <tr>\n",
       "      <th id=\"T_d144f_level0_row85\" class=\"row_heading level0 row85\" >ZnO</th>\n",
       "      <td id=\"T_d144f_row85_col0\" class=\"data row85 col0\" >Halite (FCC)</td>\n",
       "      <td id=\"T_d144f_row85_col1\" class=\"data row85 col1\" >4.580000</td>\n",
       "      <td id=\"T_d144f_row85_col2\" class=\"data row85 col2\" >4.338884</td>\n",
       "      <td id=\"T_d144f_row85_col3\" class=\"data row85 col3\" >4.334630</td>\n",
       "      <td id=\"T_d144f_row85_col4\" class=\"data row85 col4\" >-5.36%</td>\n",
       "      <td id=\"T_d144f_row85_col5\" class=\"data row85 col5\" >-0.10%</td>\n",
       "    </tr>\n",
       "    <tr>\n",
       "      <th id=\"T_d144f_level0_row86\" class=\"row_heading level0 row86\" >ZnS</th>\n",
       "      <td id=\"T_d144f_row86_col0\" class=\"data row86 col0\" >Zinc blende (FCC)</td>\n",
       "      <td id=\"T_d144f_row86_col1\" class=\"data row86 col1\" >5.420000</td>\n",
       "      <td id=\"T_d144f_row86_col2\" class=\"data row86 col2\" >5.387366</td>\n",
       "      <td id=\"T_d144f_row86_col3\" class=\"data row86 col3\" >5.453956</td>\n",
       "      <td id=\"T_d144f_row86_col4\" class=\"data row86 col4\" >0.63%</td>\n",
       "      <td id=\"T_d144f_row86_col5\" class=\"data row86 col5\" >1.24%</td>\n",
       "    </tr>\n",
       "    <tr>\n",
       "      <th id=\"T_d144f_level0_row87\" class=\"row_heading level0 row87\" >ZrC0.97</th>\n",
       "      <td id=\"T_d144f_row87_col0\" class=\"data row87 col0\" >Halite</td>\n",
       "      <td id=\"T_d144f_row87_col1\" class=\"data row87 col1\" >4.698000</td>\n",
       "      <td id=\"T_d144f_row87_col2\" class=\"data row87 col2\" >4.712866</td>\n",
       "      <td id=\"T_d144f_row87_col3\" class=\"data row87 col3\" >4.717641</td>\n",
       "      <td id=\"T_d144f_row87_col4\" class=\"data row87 col4\" >0.42%</td>\n",
       "      <td id=\"T_d144f_row87_col5\" class=\"data row87 col5\" >0.10%</td>\n",
       "    </tr>\n",
       "    <tr>\n",
       "      <th id=\"T_d144f_level0_row88\" class=\"row_heading level0 row88\" >ZrN</th>\n",
       "      <td id=\"T_d144f_row88_col0\" class=\"data row88 col0\" >Halite</td>\n",
       "      <td id=\"T_d144f_row88_col1\" class=\"data row88 col1\" >4.577000</td>\n",
       "      <td id=\"T_d144f_row88_col2\" class=\"data row88 col2\" >4.588531</td>\n",
       "      <td id=\"T_d144f_row88_col3\" class=\"data row88 col3\" >4.612292</td>\n",
       "      <td id=\"T_d144f_row88_col4\" class=\"data row88 col4\" >0.77%</td>\n",
       "      <td id=\"T_d144f_row88_col5\" class=\"data row88 col5\" >0.52%</td>\n",
       "    </tr>\n",
       "  </tbody>\n",
       "</table>\n"
      ],
      "text/plain": [
       "<pandas.io.formats.style.Styler at 0x176b0ac40>"
      ]
     },
     "execution_count": null,
     "metadata": {},
     "output_type": "execute_result"
    }
   ],
   "source": [
    "data.sort_index().style.format({\"% error vs Expt\": \"{:,.2%}\", \"% error vs MP\": \"{:,.2%}\"}).background_gradient()"
   ]
  },
  {
   "cell_type": "code",
   "execution_count": null,
   "id": "423e7893",
   "metadata": {},
   "outputs": [
    {
     "data": {
      "text/plain": [
       "<Axes: >"
      ]
     },
     "execution_count": null,
     "metadata": {},
     "output_type": "execute_result"
    },
    {
     "data": {
      "image/png": "[encoded data removed]",
      "text/plain": [
       "<Figure size 640x480 with 1 Axes>"
      ]
     },
     "metadata": {},
     "output_type": "display_data"
    }
   ],
   "source": [
    "data[\"% error vs MP\"].replace([np.inf, -np.inf], np.nan).dropna().hist(bins=20)"
   ]
  }
 ],
 "metadata": {
  "kernelspec": {
   "display_name": "Python 3 (ipykernel)",
   "language": "python",
   "name": "python3"
  },
  "language_info": {
   "codemirror_mode": {
    "name": "ipython",
    "version": 3
   },
   "file_extension": ".py",
   "mimetype": "text/x-python",
   "name": "python",
   "nbconvert_exporter": "python",
   "pygments_lexer": "ipython3",
   "version": "3.9.16"
  },
  "vscode": {
   "interpreter": {
    "hash": "95e5cb0dae99d6911ce19b14750141ca4ad955f9302739260772daefb06054c0"
   }
  }
 },
 "nbformat": 4,
 "nbformat_minor": 5
}
