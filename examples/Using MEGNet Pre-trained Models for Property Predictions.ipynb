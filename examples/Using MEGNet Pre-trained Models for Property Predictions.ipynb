{
 "cells": [
  {
   "cell_type": "markdown",
   "id": "fae317ce",
   "metadata": {},
   "source": [
    "# Introduction\n",
    "\n",
    "This notebook demonstrates the use of pre-trained MEGNet models to predict properties.\n",
    "\n",
    "Author: Tsz Wai Ko (Kenko)\n",
    "Email: t1ko@ucsd.edu"
   ]
  },
  {
   "cell_type": "code",
   "execution_count": 1,
   "id": "d6c60ab5",
   "metadata": {},
   "outputs": [],
   "source": [
    "import torch\n",
    "import dgl\n",
    "import os\n",
    "from pymatgen.core import Element, Structure, Lattice\n",
    "\n",
    "## Import megnet related modules\n",
    "from matgl.graph.converters import get_element_list, Pmg2Graph\n",
    "from matgl.graph.compute import compute_pair_vector_and_distance\n",
    "from matgl.models.megnet import MEGNet, MEGNetCalculator\n",
    "\n",
    "# from matgl.utils.predictors import MEGNetCalculator\n",
    "from matgl.layers.bond_expansion import BondExpansion"
   ]
  },
  {
   "cell_type": "code",
   "execution_count": 2,
   "id": "d2ff4e5d",
   "metadata": {},
   "outputs": [],
   "source": [
    "# Let's set the device first. Either \"cuda\" or \"cpu\"\n",
    "device = torch.device(\"cpu\")"
   ]
  },
  {
   "cell_type": "markdown",
   "id": "f4f09d6c",
   "metadata": {},
   "source": [
    "# MP Formation energy \n",
    "\n",
    "The pre-trained model is traned on the Materaisl Project mp.2018.6.1.json dataset."
   ]
  },
  {
   "cell_type": "code",
   "execution_count": 3,
   "id": "ce4e9336",
   "metadata": {},
   "outputs": [
    {
     "name": "stdout",
     "output_type": "stream",
     "text": [
      "The predicted formation energy for a FCC crystal is -0.00748133659362793 eV/atom\n"
     ]
    },
    {
     "name": "stderr",
     "output_type": "stream",
     "text": [
      "/Users/shyue/miniconda3/envs/mavrl/lib/python3.9/site-packages/dgl/backend/pytorch/tensor.py:52: UserWarning: Creating a tensor from a list of numpy.ndarrays is extremely slow. Please consider converting the list to a single numpy.ndarray with numpy.array() before converting to a tensor. (Triggered internally at /Users/runner/work/pytorch/pytorch/pytorch/torch/csrc/utils/tensor_new.cpp:248.)\n",
      "  return th.as_tensor(data, dtype=dtype)\n",
      "/Users/shyue/miniconda3/envs/mavrl/lib/python3.9/site-packages/dgl/readout.py:443: DGLWarning: For a single graph, use a tensor of shape (1, *) for graph_feat. The support of shape (*) will be deprecated.\n",
      "  dgl_warning(\n",
      "/Users/shyue/miniconda3/envs/mavrl/lib/python3.9/site-packages/dgl/backend/pytorch/tensor.py:445: UserWarning: TypedStorage is deprecated. It will be removed in the future and UntypedStorage will be the only storage class. This should only matter to you if you are using storages directly.  To access UntypedStorage directly, use tensor.untyped_storage() instead of tensor.storage()\n",
      "  assert input.numel() == input.storage().size(), (\n"
     ]
    }
   ],
   "source": [
    "# load the pre-trained MEGNet model. By default it is the formation energy model.\n",
    "model = MEGNet.load()\n",
    "# map the model to CPU or GPU\n",
    "model = model.to(device)\n",
    "# This is the structure obtained from the Materials Project.\n",
    "struct = Structure.from_spacegroup(\"Fm-3m\", Lattice.cubic(3.57743067), [\"Cu\"], [[0, 0, 0]])\n",
    "# create a graph converter\n",
    "cry_graph = Pmg2Graph(element_types=model.element_types, cutoff=model.cutoff)\n",
    "# convert pymatgen structure into dgl graph\n",
    "graph, graph_attrs = cry_graph.get_graph_from_structure(structure=struct)\n",
    "# define the Gaussian expansion\n",
    "bond_expansion = BondExpansion(rbf_type=\"Gaussian\", initial=0.0, final=5.0, num_centers=100, width=0.5)\n",
    "# compute bond vectors and distances\n",
    "bond_vec, bond_dist = compute_pair_vector_and_distance(graph)\n",
    "# expand the bond distance into edge attributes through Gaussian expansion\n",
    "graph.edata[\"edge_attr\"] = bond_expansion(bond_dist)\n",
    "# move all necessary inputs into device\n",
    "graph = graph.to(device)\n",
    "graph.edata[\"edge_attr\"] = graph.edata[\"edge_attr\"].to(device)\n",
    "graph.ndata[\"node_type\"] = graph.ndata[\"node_type\"].to(device)\n",
    "graph_attrs = torch.tensor(graph_attrs).to(device)\n",
    "# define MEGNet calculator\n",
    "predictor = MEGNetCalculator(model=model, data_std=model.data_std, data_mean=model.data_mean)\n",
    "Eform_pred = predictor(graph, graph_attrs)\n",
    "print(\"The predicted formation energy for a FCC crystal is\", float(Eform_pred.detach().numpy()), \"eV/atom\")\n"
   ]
  },
  {
   "cell_type": "markdown",
   "id": "90e95671",
   "metadata": {},
   "source": [
    "# MP Band gap\n",
    "\n",
    "The pre-trained model is traned on the Materails Project mp.2018.6.1.json dataset."
   ]
  },
  {
   "cell_type": "code",
   "execution_count": 4,
   "id": "f2ec796f",
   "metadata": {},
   "outputs": [
    {
     "name": "stdout",
     "output_type": "stream",
     "text": [
      "The predicted PBE BandGap for a FCC Cu crystal is  -0.0003764629364013672 eV\n"
     ]
    },
    {
     "name": "stderr",
     "output_type": "stream",
     "text": [
      "/var/folders/ql/m5k56v8n5sz5880n5sksmc9w0000gn/T/ipykernel_2773/534914385.py:22: UserWarning: To copy construct from a tensor, it is recommended to use sourceTensor.clone().detach() or sourceTensor.clone().detach().requires_grad_(True), rather than torch.tensor(sourceTensor).\n",
      "  graph_attrs = torch.tensor(graph_attrs).to(device)\n"
     ]
    }
   ],
   "source": [
    "model = MEGNet.load(\"MP-2019.4.1-BandGap\")\n",
    "# map the model to CPU or GPU\n",
    "model = model.to(device)\n",
    "# read structure\n",
    "struct = Structure.from_spacegroup(\"Fm-3m\", Lattice.cubic(3.57743067), [\"Cu\"], [[0, 0, 0]])\n",
    "# create a graph converter\n",
    "cry_graph = Pmg2Graph(element_types=model.element_types, cutoff=model.cutoff)\n",
    "# convert pymatgen structure into dgl graph\n",
    "graph, graph_attrs = cry_graph.get_graph_from_structure(structure=struct)\n",
    "# define graph label (\"0\": PBE, \"1\": GLLB-SC, \"2\": HSE, \"3\": SCAN) for multi-fidelity model\n",
    "graph_attrs = torch.tensor([0])\n",
    "# define the Gaussian expansion\n",
    "bond_expansion = BondExpansion(rbf_type=\"Gaussian\", initial=0.0, final=6.0, num_centers=100, width=0.5)\n",
    "# compute bond vectors and distances\n",
    "bond_vec, bond_dist = compute_pair_vector_and_distance(graph)\n",
    "# expand the bond distance into edge attributes through Gaussian expansion\n",
    "graph.edata[\"edge_attr\"] = bond_expansion(bond_dist)\n",
    "# move all necessary inputs into device\n",
    "graph.ndata[\"node_type\"].to(device)\n",
    "model.data_mean.to(device)\n",
    "model.data_std.to(device)\n",
    "graph_attrs = torch.tensor(graph_attrs).to(device)\n",
    "# define MEGNet calculator\n",
    "predictor = MEGNetCalculator(model=model, data_std=model.data_std, data_mean=model.data_mean)\n",
    "BandGap = predictor(graph, graph_attrs)\n",
    "print(\"The predicted PBE BandGap for a FCC Cu crystal is \", float(BandGap.detach().numpy()), \"eV\")"
   ]
  }
 ],
 "metadata": {
  "kernelspec": {
   "display_name": "Python 3 (ipykernel)",
   "language": "python",
   "name": "python3"
  },
  "language_info": {
   "codemirror_mode": {
    "name": "ipython",
    "version": 3
   },
   "file_extension": ".py",
   "mimetype": "text/x-python",
   "name": "python",
   "nbconvert_exporter": "python",
   "pygments_lexer": "ipython3",
   "version": "3.9.16"
  }
 },
 "nbformat": 4,
 "nbformat_minor": 5
}
