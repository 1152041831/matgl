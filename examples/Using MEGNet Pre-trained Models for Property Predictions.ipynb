{
 "cells": [
  {
   "cell_type": "markdown",
   "id": "fae317ce",
   "metadata": {},
   "source": [
    "# Introduction\n",
    "\n",
    "This notebook demonstrates the use of pre-trained MEGNet models to predict properties.\n",
    "\n",
    "Author: Tsz Wai Ko (Kenko)\n",
    "Email: t1ko@ucsd.edu"
   ]
  },
  {
   "cell_type": "code",
   "execution_count": 1,
   "id": "d6c60ab5",
   "metadata": {},
   "outputs": [],
   "source": [
    "import torch\n",
    "import dgl\n",
    "import os\n",
    "from pymatgen.core import Element, Structure, Lattice\n",
    "\n",
    "## Import megnet related modules\n",
    "from matgl.graph.converters import get_element_list, Pmg2Graph\n",
    "from matgl.graph.compute import compute_pair_vector_and_distance\n",
    "from matgl.models.megnet import MEGNet, MEGNetCalculator\n"
   ]
  },
  {
   "cell_type": "code",
   "execution_count": 2,
   "id": "d2ff4e5d",
   "metadata": {},
   "outputs": [],
   "source": [
    "# Let's set the device first. Either \"cuda\" or \"cpu\"\n",
    "device = torch.device(\"cpu\")"
   ]
  },
  {
   "cell_type": "markdown",
   "id": "f4f09d6c",
   "metadata": {},
   "source": [
    "# MP Formation energy \n",
    "\n",
    "The pre-trained model is traned on the Materaisl Project mp.2018.6.1.json dataset."
   ]
  },
  {
   "cell_type": "code",
   "execution_count": 3,
   "id": "ce4e9336",
   "metadata": {},
   "outputs": [
    {
     "name": "stdout",
     "output_type": "stream",
     "text": [
      "The predicted formation energy for a FCC Cu crystal is -0.007481 eV/atom\n"
     ]
    },
    {
     "name": "stderr",
     "output_type": "stream",
     "text": [
      "/Users/kenko/miniconda3/envs/mavrl/lib/python3.10/site-packages/dgl/backend/pytorch/tensor.py:52: UserWarning: Creating a tensor from a list of numpy.ndarrays is extremely slow. Please consider converting the list to a single numpy.ndarray with numpy.array() before converting to a tensor. (Triggered internally at  /Users/runner/work/pytorch/pytorch/pytorch/torch/csrc/utils/tensor_new.cpp:204.)\n",
      "  return th.as_tensor(data, dtype=dtype)\n",
      "/Users/kenko/miniconda3/envs/mavrl/lib/python3.10/site-packages/dgl/readout.py:443: DGLWarning: For a single graph, use a tensor of shape (1, *) for graph_feat. The support of shape (*) will be deprecated.\n",
      "  dgl_warning(\n"
     ]
    }
   ],
   "source": [
    "# load the pre-trained MEGNet model. By default it is the formation energy model.\n",
    "model = MEGNet.load()\n",
    "# This is the structure obtained from the Materials Project.\n",
    "struct = Structure.from_spacegroup(\"Fm-3m\", Lattice.cubic(3.57743067), [\"Cu\"], [[0, 0, 0]])\n",
    "# define MEGNet calculator\n",
    "predictor = MEGNetCalculator(model=model, device=device)\n",
    "eform = predictor.predict_structure(struct)\n",
    "print(f\"The predicted formation energy for a FCC Cu crystal is {float(eform.numpy()):5f} eV/atom\")\n"
   ]
  },
  {
   "cell_type": "markdown",
   "id": "90e95671",
   "metadata": {},
   "source": [
    "# MP Band gap\n",
    "\n",
    "The pre-trained model is traned on the Materails Project mp.2019.4.1.json dataset."
   ]
  },
  {
   "cell_type": "code",
   "execution_count": 4,
   "id": "f2ec796f",
   "metadata": {},
   "outputs": [
    {
     "name": "stdout",
     "output_type": "stream",
     "text": [
      "The predicted PBE BandGap for a CsCl crystal is -0.007 eV\n"
     ]
    }
   ],
   "source": [
    "model = MEGNet.load(\"MP-2019.4.1-BandGap\")\n",
    "# read structure\n",
    "struct = Structure.from_spacegroup(\"Pm-3m\", Lattice.cubic(4.14), [\"Cs\", \"Cl\"], [[0, 0, 0], [0.5, 0.5, 0.5]])\n",
    "# define graph label (\"0\": PBE, \"1\": GLLB-SC, \"2\": HSE, \"3\": SCAN) for multi-fidelity model\n",
    "graph_attrs = torch.tensor([0])\n",
    "# define MEGNet calculator\n",
    "predictor = MEGNetCalculator(model=model, device=device)\n",
    "bandgap = predictor.predict_structure(struct, graph_attrs)\n",
    "print(f\"The predicted PBE BandGap for a CsCl crystal is {float(bandgap.numpy()):.3f} eV\")"
   ]
  },
  {
   "cell_type": "code",
   "execution_count": null,
   "id": "c2ab55ab",
   "metadata": {},
   "outputs": [],
   "source": []
  }
 ],
 "metadata": {
  "kernelspec": {
   "display_name": "Python 3 (ipykernel)",
   "language": "python",
   "name": "python3"
  },
  "language_info": {
   "codemirror_mode": {
    "name": "ipython",
    "version": 3
   },
   "file_extension": ".py",
   "mimetype": "text/x-python",
   "name": "python",
   "nbconvert_exporter": "python",
   "pygments_lexer": "ipython3",
   "version": "3.10.9"
  }
 },
 "nbformat": 4,
 "nbformat_minor": 5
}
